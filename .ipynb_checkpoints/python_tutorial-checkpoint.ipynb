{
 "cells": [
  {
   "cell_type": "markdown",
   "metadata": {},
   "source": [
    "# Introduction to Python"
   ]
  },
  {
   "cell_type": "markdown",
   "metadata": {},
   "source": [
    "The purpose of this workshop is to give you a basic introduction to python and Jupyter Notebooks.  By the end of this workshop, you should be able to use Jupyter Notebooks to do mathematical and statistical calculations and make simple plots."
   ]
  },
  {
   "cell_type": "markdown",
   "metadata": {},
   "source": [
    "## 1. Why use python and Jupyter Notebooks? "
   ]
  },
  {
   "cell_type": "markdown",
   "metadata": {},
   "source": [
    "python is:\n",
    "\n",
    "1. Relatively easy to learn (syntax is uncomplicated)\n",
    "2. Widely used and full featured (Answers to questions are easy to find; pre-written routines abound.  Google is your friend)\n",
    "3. Extremely flexible - python makes extensive use of libraries that extend its functionality (e.g., SciPy ecosystem)"
   ]
  },
  {
   "cell_type": "markdown",
   "metadata": {},
   "source": [
    "Jupyter Notebooks:\n",
    "\n",
    "1. Allow for the mixing of code with comments and plots\n",
    "2. Retain documentation of your work\n",
    "3. Provide an aesthetic python workspace\n",
    "4. Come with pre-packaged access to common scientific and mathematical libraries\n",
    "\n",
    "You can think of a Jupyter Notebook as an interactive scientific journal where you keep notes about everything you've done."
   ]
  },
  {
   "cell_type": "markdown",
   "metadata": {},
   "source": [
    "## 2. Jupyter Notebook basics"
   ]
  },
  {
   "cell_type": "markdown",
   "metadata": {},
   "source": [
    "Jupyter Notebooks consist of a series of cells.  To add a new cell, click the + above.  To move a cell around, click the up or down arrows.  To remove a cell, use the scissors.  To execute the code in a cell, use the play button, or press Shift+Return.\n",
    "\n",
    "Use the up and down arrows on your keyboard to move between cells.  To edit an existing cell, double click on it.  To exit editing mode, press Shift+Return."
   ]
  },
  {
   "cell_type": "markdown",
   "metadata": {},
   "source": [
    "Jupyter Notebooks consist of comments, in the form of Markdown (which is similar to LaTeX), and python code.  Each cell has one of these formats.  To change the format of a cell, choose Code or Markdown from the dropdown menu above.\n",
    "\n",
    "So far, all of our cells have been in Markdown format.  Markdown format also allows you to write down equations, by enclosing the equation in dollar signs, and using LaTeX code.  For example,/\n",
    "\n",
    "$y=\\int_0^\\infty x^2 dx$"
   ]
  },
  {
   "cell_type": "markdown",
   "metadata": {},
   "source": [
    "<b>Try it:</b>  Add a new cell in your notebook below this one that shows the equation for the pythagorean theorem."
   ]
  },
  {
   "cell_type": "markdown",
   "metadata": {},
   "source": [
    "Jupyter Notebooks utilize a \"kernel\", which saves all of the information from any code you've run so far.  (For example, if you run the code \"x=2\", the kernel will know that x=2 until you either re-define x, or quit the notebook).  It's important to realize that:\n",
    "\n",
    "* Information needs to re-entered each time you open your notebook.  The kernel saves no information from the last time you opened the notebook.\n",
    "* Information is saved in the order you run the code.  It doesn't care about the order of the cells in the notebook.\n",
    "* You can reset all of the stored values in your notebook (with or without erasing the output of your code) by choosing Kernel:Restart.  "
   ]
  },
  {
   "cell_type": "markdown",
   "metadata": {},
   "source": [
    "**Try it:** Go to Kernel: Restart and select ``Clear all outputs and restart''"
   ]
  },
  {
   "cell_type": "markdown",
   "metadata": {},
   "source": [
    "Save your notebook by going to File: Save and Checkpoint, or (on a Mac) by typing Command-S.  Save early and often!  By default, a new notebook will be called \"Untitled\".  Change its name by going to File: Rename..."
   ]
  },
  {
   "cell_type": "markdown",
   "metadata": {},
   "source": [
    "Jupyter Notebooks have a built in \"Magic function\" that will run \"import numpy as np\", as well as \"import matplotlib.pyplot as plt\" (which reads in a set of plotting tools).  If you give it the argument \"inline\", it will also make all of your plots show up in the notebook itself, rather than in a separate window.\n",
    "\n",
    "The \"magic function\" is executed below by Shift+Return.\n",
    "\n",
    "**All of your notebooks should begin with this line of code.  Trust me, it will make your life better.**"
   ]
  },
  {
   "cell_type": "code",
   "execution_count": 7,
   "metadata": {},
   "outputs": [
    {
     "name": "stdout",
     "output_type": "stream",
     "text": [
      "Populating the interactive namespace from numpy and matplotlib\n"
     ]
    }
   ],
   "source": [
    "%pylab inline"
   ]
  },
  {
   "cell_type": "markdown",
   "metadata": {},
   "source": [
    "## 3. How to use python libraries"
   ]
  },
  {
   "cell_type": "markdown",
   "metadata": {},
   "source": [
    "Virtually all work you will want to perform in python will require the use of external libraries, so let's review this first.\n",
    "\n",
    "Any time you want to use tools from a library, you will need to read in these tools.  Here is how to read in python libraries, or tools from within libraries."
   ]
  },
  {
   "cell_type": "markdown",
   "metadata": {},
   "source": [
    "Here is an example of reading in a library:"
   ]
  },
  {
   "cell_type": "code",
   "execution_count": 2,
   "metadata": {
    "collapsed": true
   },
   "outputs": [],
   "source": [
    "import math"
   ]
  },
  {
   "cell_type": "markdown",
   "metadata": {},
   "source": [
    "What I've done above is read in (import) the math library. This imports all the functions and constants provided by the library.  Run the above code by pressing Shift+Return in the above cell."
   ]
  },
  {
   "cell_type": "markdown",
   "metadata": {},
   "source": [
    "To see what functions and constants you just imported run the following: "
   ]
  },
  {
   "cell_type": "code",
   "execution_count": 3,
   "metadata": {},
   "outputs": [
    {
     "name": "stdout",
     "output_type": "stream",
     "text": [
      "Help on module math:\n",
      "\n",
      "NAME\n",
      "    math\n",
      "\n",
      "MODULE REFERENCE\n",
      "    https://docs.python.org/3.5/library/math\n",
      "    \n",
      "    The following documentation is automatically generated from the Python\n",
      "    source files.  It may be incomplete, incorrect or include features that\n",
      "    are considered implementation detail and may vary between Python\n",
      "    implementations.  When in doubt, consult the module reference at the\n",
      "    location listed above.\n",
      "\n",
      "DESCRIPTION\n",
      "    This module is always available.  It provides access to the\n",
      "    mathematical functions defined by the C standard.\n",
      "\n",
      "FUNCTIONS\n",
      "    acos(...)\n",
      "        acos(x)\n",
      "        \n",
      "        Return the arc cosine (measured in radians) of x.\n",
      "    \n",
      "    acosh(...)\n",
      "        acosh(x)\n",
      "        \n",
      "        Return the inverse hyperbolic cosine of x.\n",
      "    \n",
      "    asin(...)\n",
      "        asin(x)\n",
      "        \n",
      "        Return the arc sine (measured in radians) of x.\n",
      "    \n",
      "    asinh(...)\n",
      "        asinh(x)\n",
      "        \n",
      "        Return the inverse hyperbolic sine of x.\n",
      "    \n",
      "    atan(...)\n",
      "        atan(x)\n",
      "        \n",
      "        Return the arc tangent (measured in radians) of x.\n",
      "    \n",
      "    atan2(...)\n",
      "        atan2(y, x)\n",
      "        \n",
      "        Return the arc tangent (measured in radians) of y/x.\n",
      "        Unlike atan(y/x), the signs of both x and y are considered.\n",
      "    \n",
      "    atanh(...)\n",
      "        atanh(x)\n",
      "        \n",
      "        Return the inverse hyperbolic tangent of x.\n",
      "    \n",
      "    ceil(...)\n",
      "        ceil(x)\n",
      "        \n",
      "        Return the ceiling of x as an Integral.\n",
      "        This is the smallest integer >= x.\n",
      "    \n",
      "    copysign(...)\n",
      "        copysign(x, y)\n",
      "        \n",
      "        Return a float with the magnitude (absolute value) of x but the sign \n",
      "        of y. On platforms that support signed zeros, copysign(1.0, -0.0) \n",
      "        returns -1.0.\n",
      "    \n",
      "    cos(...)\n",
      "        cos(x)\n",
      "        \n",
      "        Return the cosine of x (measured in radians).\n",
      "    \n",
      "    cosh(...)\n",
      "        cosh(x)\n",
      "        \n",
      "        Return the hyperbolic cosine of x.\n",
      "    \n",
      "    degrees(...)\n",
      "        degrees(x)\n",
      "        \n",
      "        Convert angle x from radians to degrees.\n",
      "    \n",
      "    erf(...)\n",
      "        erf(x)\n",
      "        \n",
      "        Error function at x.\n",
      "    \n",
      "    erfc(...)\n",
      "        erfc(x)\n",
      "        \n",
      "        Complementary error function at x.\n",
      "    \n",
      "    exp(...)\n",
      "        exp(x)\n",
      "        \n",
      "        Return e raised to the power of x.\n",
      "    \n",
      "    expm1(...)\n",
      "        expm1(x)\n",
      "        \n",
      "        Return exp(x)-1.\n",
      "        This function avoids the loss of precision involved in the direct evaluation of exp(x)-1 for small x.\n",
      "    \n",
      "    fabs(...)\n",
      "        fabs(x)\n",
      "        \n",
      "        Return the absolute value of the float x.\n",
      "    \n",
      "    factorial(...)\n",
      "        factorial(x) -> Integral\n",
      "        \n",
      "        Find x!. Raise a ValueError if x is negative or non-integral.\n",
      "    \n",
      "    floor(...)\n",
      "        floor(x)\n",
      "        \n",
      "        Return the floor of x as an Integral.\n",
      "        This is the largest integer <= x.\n",
      "    \n",
      "    fmod(...)\n",
      "        fmod(x, y)\n",
      "        \n",
      "        Return fmod(x, y), according to platform C.  x % y may differ.\n",
      "    \n",
      "    frexp(...)\n",
      "        frexp(x)\n",
      "        \n",
      "        Return the mantissa and exponent of x, as pair (m, e).\n",
      "        m is a float and e is an int, such that x = m * 2.**e.\n",
      "        If x is 0, m and e are both 0.  Else 0.5 <= abs(m) < 1.0.\n",
      "    \n",
      "    fsum(...)\n",
      "        fsum(iterable)\n",
      "        \n",
      "        Return an accurate floating point sum of values in the iterable.\n",
      "        Assumes IEEE-754 floating point arithmetic.\n",
      "    \n",
      "    gamma(...)\n",
      "        gamma(x)\n",
      "        \n",
      "        Gamma function at x.\n",
      "    \n",
      "    gcd(...)\n",
      "        gcd(x, y) -> int\n",
      "        greatest common divisor of x and y\n",
      "    \n",
      "    hypot(...)\n",
      "        hypot(x, y)\n",
      "        \n",
      "        Return the Euclidean distance, sqrt(x*x + y*y).\n",
      "    \n",
      "    isclose(...)\n",
      "        isclose(a, b, *, rel_tol=1e-09, abs_tol=0.0) -> bool\n",
      "        \n",
      "        Determine whether two floating point numbers are close in value.\n",
      "        \n",
      "           rel_tol\n",
      "               maximum difference for being considered \"close\", relative to the\n",
      "               magnitude of the input values\n",
      "            abs_tol\n",
      "               maximum difference for being considered \"close\", regardless of the\n",
      "               magnitude of the input values\n",
      "        \n",
      "        Return True if a is close in value to b, and False otherwise.\n",
      "        \n",
      "        For the values to be considered close, the difference between them\n",
      "        must be smaller than at least one of the tolerances.\n",
      "        \n",
      "        -inf, inf and NaN behave similarly to the IEEE 754 Standard.  That\n",
      "        is, NaN is not close to anything, even itself.  inf and -inf are\n",
      "        only close to themselves.\n",
      "    \n",
      "    isfinite(...)\n",
      "        isfinite(x) -> bool\n",
      "        \n",
      "        Return True if x is neither an infinity nor a NaN, and False otherwise.\n",
      "    \n",
      "    isinf(...)\n",
      "        isinf(x) -> bool\n",
      "        \n",
      "        Return True if x is a positive or negative infinity, and False otherwise.\n",
      "    \n",
      "    isnan(...)\n",
      "        isnan(x) -> bool\n",
      "        \n",
      "        Return True if x is a NaN (not a number), and False otherwise.\n",
      "    \n",
      "    ldexp(...)\n",
      "        ldexp(x, i)\n",
      "        \n",
      "        Return x * (2**i).\n",
      "    \n",
      "    lgamma(...)\n",
      "        lgamma(x)\n",
      "        \n",
      "        Natural logarithm of absolute value of Gamma function at x.\n",
      "    \n",
      "    log(...)\n",
      "        log(x[, base])\n",
      "        \n",
      "        Return the logarithm of x to the given base.\n",
      "        If the base not specified, returns the natural logarithm (base e) of x.\n",
      "    \n",
      "    log10(...)\n",
      "        log10(x)\n",
      "        \n",
      "        Return the base 10 logarithm of x.\n",
      "    \n",
      "    log1p(...)\n",
      "        log1p(x)\n",
      "        \n",
      "        Return the natural logarithm of 1+x (base e).\n",
      "        The result is computed in a way which is accurate for x near zero.\n",
      "    \n",
      "    log2(...)\n",
      "        log2(x)\n",
      "        \n",
      "        Return the base 2 logarithm of x.\n",
      "    \n",
      "    modf(...)\n",
      "        modf(x)\n",
      "        \n",
      "        Return the fractional and integer parts of x.  Both results carry the sign\n",
      "        of x and are floats.\n",
      "    \n",
      "    pow(...)\n",
      "        pow(x, y)\n",
      "        \n",
      "        Return x**y (x to the power of y).\n",
      "    \n",
      "    radians(...)\n",
      "        radians(x)\n",
      "        \n",
      "        Convert angle x from degrees to radians.\n",
      "    \n",
      "    sin(...)\n",
      "        sin(x)\n",
      "        \n",
      "        Return the sine of x (measured in radians).\n",
      "    \n",
      "    sinh(...)\n",
      "        sinh(x)\n",
      "        \n",
      "        Return the hyperbolic sine of x.\n",
      "    \n",
      "    sqrt(...)\n",
      "        sqrt(x)\n",
      "        \n",
      "        Return the square root of x.\n",
      "    \n",
      "    tan(...)\n",
      "        tan(x)\n",
      "        \n",
      "        Return the tangent of x (measured in radians).\n",
      "    \n",
      "    tanh(...)\n",
      "        tanh(x)\n",
      "        \n",
      "        Return the hyperbolic tangent of x.\n",
      "    \n",
      "    trunc(...)\n",
      "        trunc(x:Real) -> Integral\n",
      "        \n",
      "        Truncates x to the nearest Integral toward 0. Uses the __trunc__ magic method.\n",
      "\n",
      "DATA\n",
      "    e = 2.718281828459045\n",
      "    inf = inf\n",
      "    nan = nan\n",
      "    pi = 3.141592653589793\n",
      "\n",
      "FILE\n",
      "    /Users/csalyk/anaconda/lib/python3.5/lib-dynload/math.cpython-35m-darwin.so\n",
      "\n",
      "\n"
     ]
    }
   ],
   "source": [
    "help(math)"
   ]
  },
  {
   "cell_type": "markdown",
   "metadata": {},
   "source": [
    "To use a function within the library we use the following <tt>library.function</tt> naming convention.  The library name followed by a . (dot) and then the function name.  For example if you want use the square root function from the math library you would type:"
   ]
  },
  {
   "cell_type": "code",
   "execution_count": 4,
   "metadata": {},
   "outputs": [
    {
     "data": {
      "text/plain": [
       "2.0"
      ]
     },
     "execution_count": 4,
     "metadata": {},
     "output_type": "execute_result"
    }
   ],
   "source": [
    "math.sqrt(4)"
   ]
  },
  {
   "cell_type": "code",
   "execution_count": 5,
   "metadata": {},
   "outputs": [
    {
     "name": "stdout",
     "output_type": "stream",
     "text": [
      "3.141592653589793\n"
     ]
    }
   ],
   "source": [
    "print(np.pi)"
   ]
  },
  {
   "cell_type": "markdown",
   "metadata": {},
   "source": [
    "Notice how when you run code in the Jupyter Notebook, any output is shown underneath the cell as output."
   ]
  },
  {
   "cell_type": "markdown",
   "metadata": {},
   "source": [
    "When you import a library you can also rename the library (often to something shorter) as you import it.  The following code imports the [numpy library](https://docs.scipy.org/doc/numpy-dev/user/quickstart.html) (which contains many, many useful tools for doing mathematical calculations) and calls it <tt>np</tt>, as a shortcut. "
   ]
  },
  {
   "cell_type": "code",
   "execution_count": 6,
   "metadata": {
    "collapsed": true
   },
   "outputs": [],
   "source": [
    "import numpy as np "
   ]
  },
  {
   "cell_type": "markdown",
   "metadata": {},
   "source": [
    "<b>Try it:</b> we'll learn more about <tt>numpy</tt> below, but just like the <tt>math</tt> library, it also provides a <tt>sqrt()</tt> function.  In the cell below use the numpy library to calculate the square root of 64.  "
   ]
  },
  {
   "cell_type": "code",
   "execution_count": 7,
   "metadata": {},
   "outputs": [
    {
     "data": {
      "text/plain": [
       "8.0"
      ]
     },
     "execution_count": 7,
     "metadata": {},
     "output_type": "execute_result"
    }
   ],
   "source": [
    "np.sqrt(64.)"
   ]
  },
  {
   "cell_type": "markdown",
   "metadata": {},
   "source": [
    "## 4. Python as a calculator"
   ]
  },
  {
   "cell_type": "markdown",
   "metadata": {},
   "source": [
    "The simplest task for python is for it to act as a calculator.  Try running the following bits of code:"
   ]
  },
  {
   "cell_type": "code",
   "execution_count": 8,
   "metadata": {},
   "outputs": [
    {
     "data": {
      "text/plain": [
       "5"
      ]
     },
     "execution_count": 8,
     "metadata": {},
     "output_type": "execute_result"
    }
   ],
   "source": [
    "3+2"
   ]
  },
  {
   "cell_type": "markdown",
   "metadata": {},
   "source": [
    "**Try it:** Use Python as a calculator to compute 5!, factorial of 5.  "
   ]
  },
  {
   "cell_type": "code",
   "execution_count": 9,
   "metadata": {},
   "outputs": [
    {
     "ename": "SyntaxError",
     "evalue": "invalid syntax (<ipython-input-9-6ece360ba2b3>, line 1)",
     "output_type": "error",
     "traceback": [
      "\u001b[0;36m  File \u001b[0;32m\"<ipython-input-9-6ece360ba2b3>\"\u001b[0;36m, line \u001b[0;32m1\u001b[0m\n\u001b[0;31m    5!\u001b[0m\n\u001b[0m     ^\u001b[0m\n\u001b[0;31mSyntaxError\u001b[0m\u001b[0;31m:\u001b[0m invalid syntax\n"
     ]
    }
   ],
   "source": [
    "5!"
   ]
  },
  {
   "cell_type": "markdown",
   "metadata": {},
   "source": [
    "**Try it:** Use the <tt>factorial</tt> function in the math library to compute the factorial of 5."
   ]
  },
  {
   "cell_type": "code",
   "execution_count": 10,
   "metadata": {},
   "outputs": [
    {
     "data": {
      "text/plain": [
       "120"
      ]
     },
     "execution_count": 10,
     "metadata": {},
     "output_type": "execute_result"
    }
   ],
   "source": [
    "math.factorial(5)"
   ]
  },
  {
   "cell_type": "markdown",
   "metadata": {},
   "source": [
    "Python is case sensitive.  Try running the code below.  You should get an error."
   ]
  },
  {
   "cell_type": "code",
   "execution_count": 11,
   "metadata": {},
   "outputs": [
    {
     "ename": "AttributeError",
     "evalue": "module 'math' has no attribute 'Factorial'",
     "output_type": "error",
     "traceback": [
      "\u001b[0;31m---------------------------------------------------------------------------\u001b[0m",
      "\u001b[0;31mAttributeError\u001b[0m                            Traceback (most recent call last)",
      "\u001b[0;32m<ipython-input-11-ee6e393ed922>\u001b[0m in \u001b[0;36m<module>\u001b[0;34m()\u001b[0m\n\u001b[0;32m----> 1\u001b[0;31m \u001b[0mmath\u001b[0m\u001b[0;34m.\u001b[0m\u001b[0mFactorial\u001b[0m\u001b[0;34m(\u001b[0m\u001b[0;36m5\u001b[0m\u001b[0;34m)\u001b[0m\u001b[0;34m\u001b[0m\u001b[0m\n\u001b[0m",
      "\u001b[0;31mAttributeError\u001b[0m: module 'math' has no attribute 'Factorial'"
     ]
    }
   ],
   "source": [
    "math.Factorial(5)"
   ]
  },
  {
   "cell_type": "markdown",
   "metadata": {},
   "source": [
    "<tt>np.log()</tt> is another example of a function.  Does the code below produce what you expected?  Why or why not?"
   ]
  },
  {
   "cell_type": "code",
   "execution_count": 12,
   "metadata": {},
   "outputs": [
    {
     "data": {
      "text/plain": [
       "4.6051701859880918"
      ]
     },
     "execution_count": 12,
     "metadata": {},
     "output_type": "execute_result"
    }
   ],
   "source": [
    "np.log(100)"
   ]
  },
  {
   "cell_type": "markdown",
   "metadata": {},
   "source": [
    "You can (and should) comment your code.  Placing a <tt>#</tt> on a line will turn everything from the the <tt>#</tt> sign to the end of the line into a comment.  "
   ]
  },
  {
   "cell_type": "code",
   "execution_count": 13,
   "metadata": {},
   "outputs": [
    {
     "data": {
      "text/plain": [
       "3"
      ]
     },
     "execution_count": 13,
     "metadata": {},
     "output_type": "execute_result"
    }
   ],
   "source": [
    "1 + 2 # + 3 this a comment the answer should be 3"
   ]
  },
  {
   "cell_type": "markdown",
   "metadata": {},
   "source": [
    "<tt>numpy</tt> has some handy built-in constants that you might want to use:"
   ]
  },
  {
   "cell_type": "code",
   "execution_count": 14,
   "metadata": {},
   "outputs": [
    {
     "data": {
      "text/plain": [
       "3.141592653589793"
      ]
     },
     "execution_count": 14,
     "metadata": {},
     "output_type": "execute_result"
    }
   ],
   "source": [
    "np.pi"
   ]
  },
  {
   "cell_type": "code",
   "execution_count": 15,
   "metadata": {},
   "outputs": [
    {
     "data": {
      "text/plain": [
       "2.718281828459045"
      ]
     },
     "execution_count": 15,
     "metadata": {},
     "output_type": "execute_result"
    }
   ],
   "source": [
    "np.e"
   ]
  },
  {
   "cell_type": "markdown",
   "metadata": {},
   "source": [
    "Python has a somewhat unusual format for computing exponents."
   ]
  },
  {
   "cell_type": "code",
   "execution_count": 16,
   "metadata": {},
   "outputs": [
    {
     "data": {
      "text/plain": [
       "9"
      ]
     },
     "execution_count": 16,
     "metadata": {},
     "output_type": "execute_result"
    }
   ],
   "source": [
    "3**2"
   ]
  },
  {
   "cell_type": "markdown",
   "metadata": {},
   "source": [
    "Be careful - python strictly follows order of operation rules! Compare the following:"
   ]
  },
  {
   "cell_type": "code",
   "execution_count": 17,
   "metadata": {},
   "outputs": [
    {
     "data": {
      "text/plain": [
       "4.5"
      ]
     },
     "execution_count": 17,
     "metadata": {},
     "output_type": "execute_result"
    }
   ],
   "source": [
    "3.**2./2."
   ]
  },
  {
   "cell_type": "code",
   "execution_count": 18,
   "metadata": {},
   "outputs": [
    {
     "data": {
      "text/plain": [
       "3.0"
      ]
     },
     "execution_count": 18,
     "metadata": {},
     "output_type": "execute_result"
    }
   ],
   "source": [
    "3.**(2./2.)"
   ]
  },
  {
   "cell_type": "markdown",
   "metadata": {},
   "source": [
    "## 5. Assignments and naming variables"
   ]
  },
  {
   "cell_type": "markdown",
   "metadata": {},
   "source": [
    "You will find yourself wanting to repeatedly type the same value. To avoid having to do this, you can save the value under some name (technically, we’re saving the value to a “variable”) To do this, we can use the equal sign. For example, suppose for some reason we want to save the value 5 into the variable x."
   ]
  },
  {
   "cell_type": "code",
   "execution_count": 19,
   "metadata": {
    "collapsed": true
   },
   "outputs": [],
   "source": [
    "x = 5"
   ]
  },
  {
   "cell_type": "markdown",
   "metadata": {},
   "source": [
    "Notice that nothing really exciting happens on our screen, but in the background, the kernel has now stored the value of 5 into the variable called x. Now type the following and record what happens:"
   ]
  },
  {
   "cell_type": "code",
   "execution_count": 20,
   "metadata": {},
   "outputs": [
    {
     "data": {
      "text/plain": [
       "5"
      ]
     },
     "execution_count": 20,
     "metadata": {},
     "output_type": "execute_result"
    }
   ],
   "source": [
    "x"
   ]
  },
  {
   "cell_type": "code",
   "execution_count": 21,
   "metadata": {},
   "outputs": [
    {
     "name": "stdout",
     "output_type": "stream",
     "text": [
      "5\n"
     ]
    }
   ],
   "source": [
    "print(x)"
   ]
  },
  {
   "cell_type": "code",
   "execution_count": 22,
   "metadata": {},
   "outputs": [
    {
     "name": "stdout",
     "output_type": "stream",
     "text": [
      "15\n"
     ]
    }
   ],
   "source": [
    "print(x+10)"
   ]
  },
  {
   "cell_type": "markdown",
   "metadata": {},
   "source": [
    "Note on Naming Conventions. Here we chose x to be the name of our variable. However, we could have chosen almost any name that’s a combination of letters and numbers. There are a few\n",
    "conditions on the name: no spaces, cannot start with a number, cannot start with a period, and are case-sensitive (e.g. X is not the same as x). There are also some other “reserved” names such as \"if\", \"and\", \"or\", \"not\", \"lambda\", \"where\", and others. Here's what happens if you try to use one of these reserved names:"
   ]
  },
  {
   "cell_type": "code",
   "execution_count": 23,
   "metadata": {},
   "outputs": [
    {
     "ename": "SyntaxError",
     "evalue": "invalid syntax (<ipython-input-23-7bc770600ca3>, line 1)",
     "output_type": "error",
     "traceback": [
      "\u001b[0;36m  File \u001b[0;32m\"<ipython-input-23-7bc770600ca3>\"\u001b[0;36m, line \u001b[0;32m1\u001b[0m\n\u001b[0;31m    lambda = 2\u001b[0m\n\u001b[0m           ^\u001b[0m\n\u001b[0;31mSyntaxError\u001b[0m\u001b[0;31m:\u001b[0m invalid syntax\n"
     ]
    }
   ],
   "source": [
    "lambda = 2"
   ]
  },
  {
   "cell_type": "markdown",
   "metadata": {},
   "source": [
    "This error isn't very useful!  But note that the notebook changed the variable name's color to green. This is a sign that lambda is a reserved word."
   ]
  },
  {
   "cell_type": "markdown",
   "metadata": {},
   "source": [
    "## 6. Data structures: Lists and dictionaries"
   ]
  },
  {
   "cell_type": "markdown",
   "metadata": {},
   "source": [
    "Python has a few other built-data structures that you might come across or find useful.  "
   ]
  },
  {
   "cell_type": "markdown",
   "metadata": {},
   "source": [
    "### Lists"
   ]
  },
  {
   "cell_type": "markdown",
   "metadata": {},
   "source": [
    "Lists are an ordered collection of items and they can contain any kind of data (not just numbers). Lists are also helpful because you can use the \"append\" function."
   ]
  },
  {
   "cell_type": "code",
   "execution_count": 24,
   "metadata": {},
   "outputs": [
    {
     "name": "stdout",
     "output_type": "stream",
     "text": [
      "[1, 2, 3, 'hello', 'blue']\n"
     ]
    }
   ],
   "source": [
    "x=[1,2,3,'hello','blue']\n",
    "print(x)"
   ]
  },
  {
   "cell_type": "code",
   "execution_count": 25,
   "metadata": {},
   "outputs": [
    {
     "name": "stdout",
     "output_type": "stream",
     "text": [
      "[1, 2, 3, 'hello', 'blue', 'red']\n"
     ]
    }
   ],
   "source": [
    "x.append('red')\n",
    "print(x)"
   ]
  },
  {
   "cell_type": "markdown",
   "metadata": {},
   "source": [
    "You can access an individual item in the list by refering to it's index. But remember the first element in the array starts with 0. "
   ]
  },
  {
   "cell_type": "code",
   "execution_count": 26,
   "metadata": {},
   "outputs": [
    {
     "data": {
      "text/plain": [
       "1"
      ]
     },
     "execution_count": 26,
     "metadata": {},
     "output_type": "execute_result"
    }
   ],
   "source": [
    "x[0]"
   ]
  },
  {
   "cell_type": "code",
   "execution_count": 27,
   "metadata": {},
   "outputs": [
    {
     "name": "stdout",
     "output_type": "stream",
     "text": [
      "hello\n",
      "red\n",
      "['blue', 'red']\n"
     ]
    }
   ],
   "source": [
    "print(x[3])\n",
    "print(x[5])\n",
    "x[0]='hi'\n",
    "print(x[4:6])"
   ]
  },
  {
   "cell_type": "markdown",
   "metadata": {},
   "source": [
    "You can also specifiy a range of items in a list by using list slicing.  List slices have an index in the form of <tt>[start:end]</tt> where <tt>start</tt> is the index of the first item in the slice and <tt>end</tt> goes up to but not including the index of <tt>end</tt>.   "
   ]
  },
  {
   "cell_type": "markdown",
   "metadata": {},
   "source": [
    "**Try it:** gues what will be printed with the following code. "
   ]
  },
  {
   "cell_type": "code",
   "execution_count": 28,
   "metadata": {},
   "outputs": [
    {
     "data": {
      "text/plain": [
       "['red']"
      ]
     },
     "execution_count": 28,
     "metadata": {},
     "output_type": "execute_result"
    }
   ],
   "source": [
    "x[5:]"
   ]
  },
  {
   "cell_type": "markdown",
   "metadata": {},
   "source": [
    "If you leave off the start index (before the colon), your slice will start from the begining of the list.  If you leave off the end index (after the color), you slice will go to the end of the array.    "
   ]
  },
  {
   "cell_type": "markdown",
   "metadata": {},
   "source": [
    "**Try it:** What slice will give you the list: <tt>['hello', 'blue', 'red']</tt>?"
   ]
  },
  {
   "cell_type": "code",
   "execution_count": null,
   "metadata": {
    "collapsed": true
   },
   "outputs": [],
   "source": []
  },
  {
   "cell_type": "markdown",
   "metadata": {},
   "source": [
    "Be careful to distinguish between lists and numpy arrays (described below).  Look what happens if you try to multiply this list by 2!  "
   ]
  },
  {
   "cell_type": "code",
   "execution_count": 29,
   "metadata": {},
   "outputs": [
    {
     "data": {
      "text/plain": [
       "['hi', 2, 3, 'hello', 'blue', 'red', 'hi', 2, 3, 'hello', 'blue', 'red']"
      ]
     },
     "execution_count": 29,
     "metadata": {},
     "output_type": "execute_result"
    }
   ],
   "source": [
    "x*2"
   ]
  },
  {
   "cell_type": "markdown",
   "metadata": {},
   "source": [
    "### Dictionaries"
   ]
  },
  {
   "cell_type": "markdown",
   "metadata": {},
   "source": [
    "Dictionaries are a powerful way to associate data with labels.  The label is called a 'key' and the data are called 'values'.  "
   ]
  },
  {
   "cell_type": "code",
   "execution_count": 30,
   "metadata": {},
   "outputs": [
    {
     "name": "stdout",
     "output_type": "stream",
     "text": [
      "0 1\n"
     ]
    }
   ],
   "source": [
    "numbers = {'zero': 0, 'one': 1, 'two' : 2}\n",
    "print(numbers['zero'], numbers['one'])"
   ]
  },
  {
   "cell_type": "markdown",
   "metadata": {},
   "source": [
    "You can probably imagine datasets for which this would be useful!  For example, imagine a set of professors with associated address and department.  "
   ]
  },
  {
   "cell_type": "code",
   "execution_count": 31,
   "metadata": {
    "collapsed": true
   },
   "outputs": [],
   "source": [
    "professors = {'Hu' : ['124 Raymond Ave', 'M&S'], 'Salyk' : ['124 Raymond Ave', 'P&A'],\n",
    "             'An' : ['124 Raymond Ave', 'M&S'], 'Waterman' : ['124 Raymond Ave', 'CS']}"
   ]
  },
  {
   "cell_type": "code",
   "execution_count": 32,
   "metadata": {},
   "outputs": [
    {
     "data": {
      "text/plain": [
       "['124 Raymond Ave', 'M&S']"
      ]
     },
     "execution_count": 32,
     "metadata": {},
     "output_type": "execute_result"
    }
   ],
   "source": [
    "professors['Hu']"
   ]
  },
  {
   "cell_type": "markdown",
   "metadata": {},
   "source": [
    "In fact, the \"value\" in the dictionary can itself be any kind of data structure - even a dictionary itself."
   ]
  },
  {
   "cell_type": "markdown",
   "metadata": {},
   "source": [
    "## 7. Numpy arrays"
   ]
  },
  {
   "cell_type": "markdown",
   "metadata": {},
   "source": [
    "Whenever working with 1D or 2D lists of numbers, you'll want to store them in numpy arrays.  (Numpy arrays are the python equivalent of R vectors, or C arrays).  Here is the format for creating a numpy array:"
   ]
  },
  {
   "cell_type": "code",
   "execution_count": 33,
   "metadata": {
    "collapsed": true
   },
   "outputs": [],
   "source": [
    "x=np.array([1,3,6,3])"
   ]
  },
  {
   "cell_type": "code",
   "execution_count": 34,
   "metadata": {},
   "outputs": [
    {
     "data": {
      "text/plain": [
       "array([1, 3, 6, 3])"
      ]
     },
     "execution_count": 34,
     "metadata": {},
     "output_type": "execute_result"
    }
   ],
   "source": [
    "x"
   ]
  },
  {
   "cell_type": "markdown",
   "metadata": {},
   "source": [
    "The great thing about numpy arrays is that if you do math on them, the math is executed on each and every number in the array!"
   ]
  },
  {
   "cell_type": "code",
   "execution_count": 35,
   "metadata": {},
   "outputs": [
    {
     "data": {
      "text/plain": [
       "array([ 5, 11, 20, 11])"
      ]
     },
     "execution_count": 35,
     "metadata": {},
     "output_type": "execute_result"
    }
   ],
   "source": [
    "x*3+2"
   ]
  },
  {
   "cell_type": "code",
   "execution_count": 36,
   "metadata": {},
   "outputs": [
    {
     "data": {
      "text/plain": [
       "array([ 1.        ,  1.73205081,  2.44948974,  1.73205081])"
      ]
     },
     "execution_count": 36,
     "metadata": {},
     "output_type": "execute_result"
    }
   ],
   "source": [
    "np.sqrt(x)"
   ]
  },
  {
   "cell_type": "markdown",
   "metadata": {},
   "source": [
    "There are a few array types that we tend to use often; these have built-in routines to create them:"
   ]
  },
  {
   "cell_type": "code",
   "execution_count": 37,
   "metadata": {},
   "outputs": [
    {
     "name": "stdout",
     "output_type": "stream",
     "text": [
      "[ 0.  0.  0.  0.  0.  0.  0.  0.  0.  0.]\n",
      "[ 1.  1.  1.  1.  1.  1.  1.  1.  1.  1.]\n"
     ]
    }
   ],
   "source": [
    "x=np.zeros(10)\n",
    "print(x)\n",
    "\n",
    "x=np.zeros(10)+1\n",
    "print(x)"
   ]
  },
  {
   "cell_type": "code",
   "execution_count": 38,
   "metadata": {},
   "outputs": [
    {
     "name": "stdout",
     "output_type": "stream",
     "text": [
      "[ 0.  2.  4.  6.  8.]\n"
     ]
    }
   ],
   "source": [
    "x=np.arange(0,10,2.)   #Array of numbers from 0 to <10, spaced by 1\n",
    "print(x)"
   ]
  },
  {
   "cell_type": "code",
   "execution_count": 39,
   "metadata": {},
   "outputs": [
    {
     "name": "stdout",
     "output_type": "stream",
     "text": [
      "[  4.           4.31578947   4.63157895   4.94736842   5.26315789\n",
      "   5.57894737   5.89473684   6.21052632   6.52631579   6.84210526\n",
      "   7.15789474   7.47368421   7.78947368   8.10526316   8.42105263\n",
      "   8.73684211   9.05263158   9.36842105   9.68421053  10.        ]\n"
     ]
    }
   ],
   "source": [
    "x=np.linspace(4, 10, 20)  #Array of 20 evenly spaced numers, beginning at 4, going to 10\n",
    "print(x)"
   ]
  },
  {
   "cell_type": "markdown",
   "metadata": {},
   "source": [
    "You can also access certain elements of an array, using python's 0-based indexing system."
   ]
  },
  {
   "cell_type": "code",
   "execution_count": 40,
   "metadata": {},
   "outputs": [
    {
     "name": "stdout",
     "output_type": "stream",
     "text": [
      "[ 1  2  3  4  5  6  7  8  9 10]\n",
      "1\n",
      "4\n"
     ]
    }
   ],
   "source": [
    "x=np.arange(1,11,1)\n",
    "print(x)\n",
    "print(x[0])\n",
    "print(x[3])"
   ]
  },
  {
   "cell_type": "markdown",
   "metadata": {},
   "source": [
    "You can also access a range of elements using the syntax [start_index:end_index].  It's a bit non-intuitive, since python indexing begins with zero, and the last element returned is actually end_index-1. "
   ]
  },
  {
   "cell_type": "code",
   "execution_count": 41,
   "metadata": {},
   "outputs": [
    {
     "name": "stdout",
     "output_type": "stream",
     "text": [
      "[3 4]\n"
     ]
    }
   ],
   "source": [
    "print(x[2:4])"
   ]
  },
  {
   "cell_type": "markdown",
   "metadata": {},
   "source": [
    "Python also has a snazzy way to get elements at the end of an rray:"
   ]
  },
  {
   "cell_type": "code",
   "execution_count": 42,
   "metadata": {},
   "outputs": [
    {
     "name": "stdout",
     "output_type": "stream",
     "text": [
      "10\n",
      "[7 8 9]\n"
     ]
    }
   ],
   "source": [
    "print(x[-1])\n",
    "print(x[-4:-1])"
   ]
  },
  {
   "cell_type": "markdown",
   "metadata": {},
   "source": [
    "Numpy arrays can also be 2- (or really n-) dimensional matrices."
   ]
  },
  {
   "cell_type": "code",
   "execution_count": 43,
   "metadata": {
    "scrolled": true
   },
   "outputs": [
    {
     "name": "stdout",
     "output_type": "stream",
     "text": [
      "[[1 2 3]\n",
      " [4 5 6]]\n",
      "[1 4]\n",
      "2\n"
     ]
    }
   ],
   "source": [
    "x=np.array([[1,2,3],[4,5,6]])\n",
    "print(x)\n",
    "print(x[0:2,0])   #element 0,0\n",
    "print(x[0,1])   #element 0,1"
   ]
  },
  {
   "cell_type": "markdown",
   "metadata": {},
   "source": [
    "## 8. Pandas Data Frames"
   ]
  },
  {
   "cell_type": "markdown",
   "metadata": {},
   "source": [
    "When you start dealing with large amount of data, it is helpful to arrange the data as a data frame, which we will describe below.  "
   ]
  },
  {
   "cell_type": "markdown",
   "metadata": {},
   "source": [
    "The data we will read in are a compilation of daily average concentrations (in parts per billion) of NOx compounds at 13 different locations in Switzerland.  NOx compounds are a chemical shorthand for NO$_2$ and NO - Nitrogen-based air pollutants."
   ]
  },
  {
   "cell_type": "markdown",
   "metadata": {},
   "source": [
    "Let's load the csv file above as a pandas dataframe. First we need to import the pandas library."
   ]
  },
  {
   "cell_type": "code",
   "execution_count": 1,
   "metadata": {},
   "outputs": [],
   "source": [
    "import pandas as pd"
   ]
  },
  {
   "cell_type": "markdown",
   "metadata": {},
   "source": [
    "Now lets read in the file and store it as a dataframe object, <tt>df</tt>"
   ]
  },
  {
   "cell_type": "code",
   "execution_count": 16,
   "metadata": {},
   "outputs": [],
   "source": [
    "df = pd.read_csv(\"https://raw.githubusercontent.com/csalyk/python_tutorial/master/ambientNOxCH.csv\")"
   ]
  },
  {
   "cell_type": "markdown",
   "metadata": {},
   "source": [
    "Note: In this example, I just give the name of the file, because the file is in the same dirctory as the notebook.  If the file were in a different directory, I would need to provide the full address (\"path\") to the directory, like \"/Users/csalyk/datafiles/ambientNOxCH.csv\""
   ]
  },
  {
   "cell_type": "markdown",
   "metadata": {},
   "source": [
    "To see all the data in the dataframe, you can simply evaluate the variable. "
   ]
  },
  {
   "cell_type": "code",
   "execution_count": 17,
   "metadata": {
    "scrolled": true
   },
   "outputs": [
    {
     "data": {
      "text/html": [
       "<div>\n",
       "<style scoped>\n",
       "    .dataframe tbody tr th:only-of-type {\n",
       "        vertical-align: middle;\n",
       "    }\n",
       "\n",
       "    .dataframe tbody tr th {\n",
       "        vertical-align: top;\n",
       "    }\n",
       "\n",
       "    .dataframe thead th {\n",
       "        text-align: right;\n",
       "    }\n",
       "</style>\n",
       "<table border=\"1\" class=\"dataframe\">\n",
       "  <thead>\n",
       "    <tr style=\"text-align: right;\">\n",
       "      <th></th>\n",
       "      <th>Unnamed: 0</th>\n",
       "      <th>date</th>\n",
       "      <th>ad</th>\n",
       "      <th>ba</th>\n",
       "      <th>ef</th>\n",
       "      <th>la</th>\n",
       "      <th>lu</th>\n",
       "      <th>re</th>\n",
       "      <th>ri</th>\n",
       "      <th>se</th>\n",
       "      <th>si</th>\n",
       "      <th>st</th>\n",
       "      <th>su</th>\n",
       "      <th>sz</th>\n",
       "      <th>zg</th>\n",
       "    </tr>\n",
       "  </thead>\n",
       "  <tbody>\n",
       "    <tr>\n",
       "      <th>0</th>\n",
       "      <td>1</td>\n",
       "      <td>2004-01-01</td>\n",
       "      <td>11.980009</td>\n",
       "      <td>14.662142</td>\n",
       "      <td>17.332767</td>\n",
       "      <td>7.729787</td>\n",
       "      <td>22.724384</td>\n",
       "      <td>20.128474</td>\n",
       "      <td>6.315106</td>\n",
       "      <td>11.340373</td>\n",
       "      <td>13.461901</td>\n",
       "      <td>13.403823</td>\n",
       "      <td>27.046782</td>\n",
       "      <td>16.228219</td>\n",
       "      <td>25.494337</td>\n",
       "    </tr>\n",
       "    <tr>\n",
       "      <th>1</th>\n",
       "      <td>2</td>\n",
       "      <td>2004-01-02</td>\n",
       "      <td>16.991053</td>\n",
       "      <td>18.711749</td>\n",
       "      <td>40.353465</td>\n",
       "      <td>8.014681</td>\n",
       "      <td>21.209295</td>\n",
       "      <td>45.235159</td>\n",
       "      <td>8.725957</td>\n",
       "      <td>15.386788</td>\n",
       "      <td>15.762092</td>\n",
       "      <td>19.340053</td>\n",
       "      <td>35.819629</td>\n",
       "      <td>21.168657</td>\n",
       "      <td>34.469548</td>\n",
       "    </tr>\n",
       "    <tr>\n",
       "      <th>2</th>\n",
       "      <td>3</td>\n",
       "      <td>2004-01-03</td>\n",
       "      <td>12.320727</td>\n",
       "      <td>8.746081</td>\n",
       "      <td>35.066020</td>\n",
       "      <td>6.832766</td>\n",
       "      <td>26.765677</td>\n",
       "      <td>8.404435</td>\n",
       "      <td>10.310625</td>\n",
       "      <td>11.038316</td>\n",
       "      <td>9.815012</td>\n",
       "      <td>16.507350</td>\n",
       "      <td>34.882952</td>\n",
       "      <td>16.371493</td>\n",
       "      <td>29.057676</td>\n",
       "    </tr>\n",
       "    <tr>\n",
       "      <th>3</th>\n",
       "      <td>4</td>\n",
       "      <td>2004-01-04</td>\n",
       "      <td>13.528027</td>\n",
       "      <td>19.347593</td>\n",
       "      <td>26.274157</td>\n",
       "      <td>11.836383</td>\n",
       "      <td>26.510881</td>\n",
       "      <td>37.356128</td>\n",
       "      <td>7.001702</td>\n",
       "      <td>19.422575</td>\n",
       "      <td>13.023148</td>\n",
       "      <td>14.972394</td>\n",
       "      <td>34.838158</td>\n",
       "      <td>18.140785</td>\n",
       "      <td>26.160293</td>\n",
       "    </tr>\n",
       "    <tr>\n",
       "      <th>4</th>\n",
       "      <td>5</td>\n",
       "      <td>2004-01-05</td>\n",
       "      <td>47.023984</td>\n",
       "      <td>57.471300</td>\n",
       "      <td>53.344783</td>\n",
       "      <td>10.744255</td>\n",
       "      <td>58.602419</td>\n",
       "      <td>110.415986</td>\n",
       "      <td>1.398936</td>\n",
       "      <td>NaN</td>\n",
       "      <td>37.266595</td>\n",
       "      <td>27.826031</td>\n",
       "      <td>78.699955</td>\n",
       "      <td>42.680949</td>\n",
       "      <td>76.860483</td>\n",
       "    </tr>\n",
       "    <tr>\n",
       "      <th>5</th>\n",
       "      <td>6</td>\n",
       "      <td>2004-01-06</td>\n",
       "      <td>33.975485</td>\n",
       "      <td>83.404406</td>\n",
       "      <td>NaN</td>\n",
       "      <td>18.509787</td>\n",
       "      <td>NaN</td>\n",
       "      <td>113.930746</td>\n",
       "      <td>1.497021</td>\n",
       "      <td>67.949698</td>\n",
       "      <td>61.680173</td>\n",
       "      <td>30.146927</td>\n",
       "      <td>99.549969</td>\n",
       "      <td>38.481478</td>\n",
       "      <td>87.387871</td>\n",
       "    </tr>\n",
       "    <tr>\n",
       "      <th>6</th>\n",
       "      <td>7</td>\n",
       "      <td>2004-01-07</td>\n",
       "      <td>NaN</td>\n",
       "      <td>88.894720</td>\n",
       "      <td>80.763585</td>\n",
       "      <td>28.071489</td>\n",
       "      <td>65.382964</td>\n",
       "      <td>170.415849</td>\n",
       "      <td>NaN</td>\n",
       "      <td>72.471281</td>\n",
       "      <td>64.260489</td>\n",
       "      <td>35.893849</td>\n",
       "      <td>141.582878</td>\n",
       "      <td>NaN</td>\n",
       "      <td>70.261642</td>\n",
       "    </tr>\n",
       "    <tr>\n",
       "      <th>7</th>\n",
       "      <td>8</td>\n",
       "      <td>2004-01-08</td>\n",
       "      <td>43.327258</td>\n",
       "      <td>48.835057</td>\n",
       "      <td>70.836659</td>\n",
       "      <td>NaN</td>\n",
       "      <td>46.511970</td>\n",
       "      <td>89.822736</td>\n",
       "      <td>0.982979</td>\n",
       "      <td>43.291849</td>\n",
       "      <td>40.862526</td>\n",
       "      <td>25.526480</td>\n",
       "      <td>68.684770</td>\n",
       "      <td>28.808804</td>\n",
       "      <td>NaN</td>\n",
       "    </tr>\n",
       "    <tr>\n",
       "      <th>8</th>\n",
       "      <td>9</td>\n",
       "      <td>2004-01-09</td>\n",
       "      <td>35.985892</td>\n",
       "      <td>11.752794</td>\n",
       "      <td>59.152365</td>\n",
       "      <td>7.549574</td>\n",
       "      <td>35.573361</td>\n",
       "      <td>43.893102</td>\n",
       "      <td>1.969149</td>\n",
       "      <td>25.997842</td>\n",
       "      <td>NaN</td>\n",
       "      <td>NaN</td>\n",
       "      <td>26.271537</td>\n",
       "      <td>27.458222</td>\n",
       "      <td>53.907085</td>\n",
       "    </tr>\n",
       "    <tr>\n",
       "      <th>9</th>\n",
       "      <td>10</td>\n",
       "      <td>2004-01-10</td>\n",
       "      <td>8.609270</td>\n",
       "      <td>22.279356</td>\n",
       "      <td>25.378450</td>\n",
       "      <td>5.794681</td>\n",
       "      <td>23.697226</td>\n",
       "      <td>47.735867</td>\n",
       "      <td>1.006809</td>\n",
       "      <td>12.606343</td>\n",
       "      <td>15.979886</td>\n",
       "      <td>9.946398</td>\n",
       "      <td>46.594495</td>\n",
       "      <td>14.305948</td>\n",
       "      <td>35.758483</td>\n",
       "    </tr>\n",
       "    <tr>\n",
       "      <th>10</th>\n",
       "      <td>11</td>\n",
       "      <td>2004-01-11</td>\n",
       "      <td>12.522913</td>\n",
       "      <td>8.479483</td>\n",
       "      <td>17.860144</td>\n",
       "      <td>3.793191</td>\n",
       "      <td>24.448960</td>\n",
       "      <td>20.405054</td>\n",
       "      <td>0.519149</td>\n",
       "      <td>15.566867</td>\n",
       "      <td>13.581148</td>\n",
       "      <td>15.618644</td>\n",
       "      <td>13.871068</td>\n",
       "      <td>16.921356</td>\n",
       "      <td>37.310275</td>\n",
       "    </tr>\n",
       "    <tr>\n",
       "      <th>11</th>\n",
       "      <td>12</td>\n",
       "      <td>2004-01-12</td>\n",
       "      <td>14.605121</td>\n",
       "      <td>11.578458</td>\n",
       "      <td>39.601396</td>\n",
       "      <td>3.096383</td>\n",
       "      <td>19.723201</td>\n",
       "      <td>48.425074</td>\n",
       "      <td>0.869149</td>\n",
       "      <td>11.691332</td>\n",
       "      <td>12.464427</td>\n",
       "      <td>11.391395</td>\n",
       "      <td>29.291848</td>\n",
       "      <td>14.423462</td>\n",
       "      <td>39.236853</td>\n",
       "    </tr>\n",
       "    <tr>\n",
       "      <th>12</th>\n",
       "      <td>13</td>\n",
       "      <td>2004-01-13</td>\n",
       "      <td>20.531598</td>\n",
       "      <td>10.338065</td>\n",
       "      <td>35.456799</td>\n",
       "      <td>3.431702</td>\n",
       "      <td>18.569316</td>\n",
       "      <td>43.666439</td>\n",
       "      <td>0.737660</td>\n",
       "      <td>8.719560</td>\n",
       "      <td>9.552742</td>\n",
       "      <td>11.586774</td>\n",
       "      <td>27.266871</td>\n",
       "      <td>24.575592</td>\n",
       "      <td>35.288630</td>\n",
       "    </tr>\n",
       "    <tr>\n",
       "      <th>13</th>\n",
       "      <td>14</td>\n",
       "      <td>2004-01-14</td>\n",
       "      <td>23.757292</td>\n",
       "      <td>12.373058</td>\n",
       "      <td>56.667244</td>\n",
       "      <td>5.068298</td>\n",
       "      <td>22.503738</td>\n",
       "      <td>46.522911</td>\n",
       "      <td>2.287872</td>\n",
       "      <td>NaN</td>\n",
       "      <td>12.169595</td>\n",
       "      <td>11.454181</td>\n",
       "      <td>24.692846</td>\n",
       "      <td>15.611810</td>\n",
       "      <td>NaN</td>\n",
       "    </tr>\n",
       "    <tr>\n",
       "      <th>14</th>\n",
       "      <td>15</td>\n",
       "      <td>2004-01-15</td>\n",
       "      <td>7.111102</td>\n",
       "      <td>10.070316</td>\n",
       "      <td>32.737367</td>\n",
       "      <td>4.060638</td>\n",
       "      <td>12.833039</td>\n",
       "      <td>40.404650</td>\n",
       "      <td>1.313830</td>\n",
       "      <td>10.650957</td>\n",
       "      <td>10.886598</td>\n",
       "      <td>5.371117</td>\n",
       "      <td>20.378892</td>\n",
       "      <td>12.168928</td>\n",
       "      <td>31.075844</td>\n",
       "    </tr>\n",
       "    <tr>\n",
       "      <th>15</th>\n",
       "      <td>16</td>\n",
       "      <td>2004-01-16</td>\n",
       "      <td>10.666081</td>\n",
       "      <td>9.426209</td>\n",
       "      <td>15.390431</td>\n",
       "      <td>5.238936</td>\n",
       "      <td>42.469829</td>\n",
       "      <td>37.694434</td>\n",
       "      <td>1.860213</td>\n",
       "      <td>33.881924</td>\n",
       "      <td>16.201798</td>\n",
       "      <td>24.241468</td>\n",
       "      <td>22.615058</td>\n",
       "      <td>27.974497</td>\n",
       "      <td>65.391884</td>\n",
       "    </tr>\n",
       "    <tr>\n",
       "      <th>16</th>\n",
       "      <td>17</td>\n",
       "      <td>2004-01-17</td>\n",
       "      <td>10.243833</td>\n",
       "      <td>17.297487</td>\n",
       "      <td>29.304009</td>\n",
       "      <td>3.478723</td>\n",
       "      <td>21.248965</td>\n",
       "      <td>27.973075</td>\n",
       "      <td>1.709574</td>\n",
       "      <td>15.030509</td>\n",
       "      <td>8.608598</td>\n",
       "      <td>12.131432</td>\n",
       "      <td>25.582507</td>\n",
       "      <td>16.936489</td>\n",
       "      <td>33.492734</td>\n",
       "    </tr>\n",
       "    <tr>\n",
       "      <th>17</th>\n",
       "      <td>18</td>\n",
       "      <td>2004-01-18</td>\n",
       "      <td>7.921855</td>\n",
       "      <td>9.293003</td>\n",
       "      <td>17.920872</td>\n",
       "      <td>2.784043</td>\n",
       "      <td>19.765428</td>\n",
       "      <td>7.013826</td>\n",
       "      <td>3.423830</td>\n",
       "      <td>8.658165</td>\n",
       "      <td>7.760719</td>\n",
       "      <td>10.117721</td>\n",
       "      <td>17.244719</td>\n",
       "      <td>14.007144</td>\n",
       "      <td>18.357593</td>\n",
       "    </tr>\n",
       "    <tr>\n",
       "      <th>18</th>\n",
       "      <td>19</td>\n",
       "      <td>2004-01-19</td>\n",
       "      <td>24.710557</td>\n",
       "      <td>21.012785</td>\n",
       "      <td>51.693337</td>\n",
       "      <td>10.398298</td>\n",
       "      <td>32.198759</td>\n",
       "      <td>61.886843</td>\n",
       "      <td>3.975957</td>\n",
       "      <td>21.318163</td>\n",
       "      <td>19.539647</td>\n",
       "      <td>12.459907</td>\n",
       "      <td>56.015477</td>\n",
       "      <td>19.985028</td>\n",
       "      <td>26.348396</td>\n",
       "    </tr>\n",
       "    <tr>\n",
       "      <th>19</th>\n",
       "      <td>20</td>\n",
       "      <td>2004-01-20</td>\n",
       "      <td>53.647303</td>\n",
       "      <td>28.656094</td>\n",
       "      <td>93.503177</td>\n",
       "      <td>8.857660</td>\n",
       "      <td>37.633127</td>\n",
       "      <td>50.772168</td>\n",
       "      <td>3.036383</td>\n",
       "      <td>22.604861</td>\n",
       "      <td>63.625897</td>\n",
       "      <td>28.737886</td>\n",
       "      <td>46.224686</td>\n",
       "      <td>44.663960</td>\n",
       "      <td>53.753226</td>\n",
       "    </tr>\n",
       "    <tr>\n",
       "      <th>20</th>\n",
       "      <td>21</td>\n",
       "      <td>2004-01-21</td>\n",
       "      <td>10.429033</td>\n",
       "      <td>33.881116</td>\n",
       "      <td>40.011208</td>\n",
       "      <td>13.290000</td>\n",
       "      <td>37.759346</td>\n",
       "      <td>81.882635</td>\n",
       "      <td>8.494186</td>\n",
       "      <td>28.994523</td>\n",
       "      <td>29.672736</td>\n",
       "      <td>18.878535</td>\n",
       "      <td>67.650001</td>\n",
       "      <td>32.804932</td>\n",
       "      <td>38.913302</td>\n",
       "    </tr>\n",
       "    <tr>\n",
       "      <th>21</th>\n",
       "      <td>22</td>\n",
       "      <td>2004-01-22</td>\n",
       "      <td>29.359575</td>\n",
       "      <td>23.291037</td>\n",
       "      <td>54.754979</td>\n",
       "      <td>9.381702</td>\n",
       "      <td>38.162395</td>\n",
       "      <td>57.975186</td>\n",
       "      <td>8.887234</td>\n",
       "      <td>22.109675</td>\n",
       "      <td>15.961687</td>\n",
       "      <td>20.673348</td>\n",
       "      <td>71.388044</td>\n",
       "      <td>28.144983</td>\n",
       "      <td>44.689109</td>\n",
       "    </tr>\n",
       "    <tr>\n",
       "      <th>22</th>\n",
       "      <td>23</td>\n",
       "      <td>2004-01-23</td>\n",
       "      <td>44.669432</td>\n",
       "      <td>33.427268</td>\n",
       "      <td>72.163919</td>\n",
       "      <td>15.322766</td>\n",
       "      <td>59.206167</td>\n",
       "      <td>81.789662</td>\n",
       "      <td>8.318085</td>\n",
       "      <td>37.654463</td>\n",
       "      <td>18.605283</td>\n",
       "      <td>28.333952</td>\n",
       "      <td>85.273274</td>\n",
       "      <td>41.463461</td>\n",
       "      <td>47.491930</td>\n",
       "    </tr>\n",
       "    <tr>\n",
       "      <th>23</th>\n",
       "      <td>24</td>\n",
       "      <td>2004-01-24</td>\n",
       "      <td>41.100220</td>\n",
       "      <td>38.393201</td>\n",
       "      <td>66.185715</td>\n",
       "      <td>22.567660</td>\n",
       "      <td>50.324578</td>\n",
       "      <td>47.917053</td>\n",
       "      <td>4.203617</td>\n",
       "      <td>43.741824</td>\n",
       "      <td>24.538171</td>\n",
       "      <td>32.429557</td>\n",
       "      <td>51.125014</td>\n",
       "      <td>36.290297</td>\n",
       "      <td>44.028726</td>\n",
       "    </tr>\n",
       "    <tr>\n",
       "      <th>24</th>\n",
       "      <td>25</td>\n",
       "      <td>2004-01-25</td>\n",
       "      <td>12.488297</td>\n",
       "      <td>20.279061</td>\n",
       "      <td>19.224229</td>\n",
       "      <td>6.190213</td>\n",
       "      <td>30.728321</td>\n",
       "      <td>34.257646</td>\n",
       "      <td>2.988085</td>\n",
       "      <td>17.866477</td>\n",
       "      <td>16.744878</td>\n",
       "      <td>12.510102</td>\n",
       "      <td>31.208638</td>\n",
       "      <td>25.666101</td>\n",
       "      <td>36.100765</td>\n",
       "    </tr>\n",
       "    <tr>\n",
       "      <th>25</th>\n",
       "      <td>26</td>\n",
       "      <td>2004-01-26</td>\n",
       "      <td>12.296535</td>\n",
       "      <td>29.292219</td>\n",
       "      <td>NaN</td>\n",
       "      <td>8.235319</td>\n",
       "      <td>46.904848</td>\n",
       "      <td>97.877962</td>\n",
       "      <td>3.658125</td>\n",
       "      <td>33.512322</td>\n",
       "      <td>12.782349</td>\n",
       "      <td>29.060110</td>\n",
       "      <td>85.837339</td>\n",
       "      <td>30.471658</td>\n",
       "      <td>56.442195</td>\n",
       "    </tr>\n",
       "    <tr>\n",
       "      <th>26</th>\n",
       "      <td>27</td>\n",
       "      <td>2004-01-27</td>\n",
       "      <td>13.262222</td>\n",
       "      <td>37.085833</td>\n",
       "      <td>NaN</td>\n",
       "      <td>16.927872</td>\n",
       "      <td>36.225791</td>\n",
       "      <td>72.507718</td>\n",
       "      <td>6.130213</td>\n",
       "      <td>30.087729</td>\n",
       "      <td>24.850999</td>\n",
       "      <td>26.326831</td>\n",
       "      <td>49.120614</td>\n",
       "      <td>30.635715</td>\n",
       "      <td>59.215164</td>\n",
       "    </tr>\n",
       "    <tr>\n",
       "      <th>27</th>\n",
       "      <td>28</td>\n",
       "      <td>2004-01-28</td>\n",
       "      <td>19.335860</td>\n",
       "      <td>21.018301</td>\n",
       "      <td>50.736183</td>\n",
       "      <td>12.625319</td>\n",
       "      <td>22.447181</td>\n",
       "      <td>65.683749</td>\n",
       "      <td>4.998723</td>\n",
       "      <td>15.846750</td>\n",
       "      <td>23.948564</td>\n",
       "      <td>19.587390</td>\n",
       "      <td>32.932615</td>\n",
       "      <td>22.904930</td>\n",
       "      <td>32.630675</td>\n",
       "    </tr>\n",
       "    <tr>\n",
       "      <th>28</th>\n",
       "      <td>29</td>\n",
       "      <td>2004-01-29</td>\n",
       "      <td>12.257600</td>\n",
       "      <td>12.614899</td>\n",
       "      <td>44.007247</td>\n",
       "      <td>7.675319</td>\n",
       "      <td>15.112790</td>\n",
       "      <td>44.979014</td>\n",
       "      <td>3.126383</td>\n",
       "      <td>13.201197</td>\n",
       "      <td>5.588083</td>\n",
       "      <td>10.499750</td>\n",
       "      <td>24.227376</td>\n",
       "      <td>18.467004</td>\n",
       "      <td>33.761685</td>\n",
       "    </tr>\n",
       "    <tr>\n",
       "      <th>29</th>\n",
       "      <td>30</td>\n",
       "      <td>2004-01-30</td>\n",
       "      <td>55.535752</td>\n",
       "      <td>45.109497</td>\n",
       "      <td>82.101376</td>\n",
       "      <td>7.459149</td>\n",
       "      <td>38.313263</td>\n",
       "      <td>136.804489</td>\n",
       "      <td>2.385532</td>\n",
       "      <td>30.311200</td>\n",
       "      <td>39.067002</td>\n",
       "      <td>18.558228</td>\n",
       "      <td>68.079205</td>\n",
       "      <td>48.437288</td>\n",
       "      <td>59.172678</td>\n",
       "    </tr>\n",
       "    <tr>\n",
       "      <th>...</th>\n",
       "      <td>...</td>\n",
       "      <td>...</td>\n",
       "      <td>...</td>\n",
       "      <td>...</td>\n",
       "      <td>...</td>\n",
       "      <td>...</td>\n",
       "      <td>...</td>\n",
       "      <td>...</td>\n",
       "      <td>...</td>\n",
       "      <td>...</td>\n",
       "      <td>...</td>\n",
       "      <td>...</td>\n",
       "      <td>...</td>\n",
       "      <td>...</td>\n",
       "      <td>...</td>\n",
       "    </tr>\n",
       "    <tr>\n",
       "      <th>336</th>\n",
       "      <td>337</td>\n",
       "      <td>2004-12-02</td>\n",
       "      <td>59.985371</td>\n",
       "      <td>40.323519</td>\n",
       "      <td>NaN</td>\n",
       "      <td>NaN</td>\n",
       "      <td>58.679462</td>\n",
       "      <td>NaN</td>\n",
       "      <td>NaN</td>\n",
       "      <td>52.049305</td>\n",
       "      <td>29.895541</td>\n",
       "      <td>31.545080</td>\n",
       "      <td>66.615704</td>\n",
       "      <td>43.114060</td>\n",
       "      <td>59.650891</td>\n",
       "    </tr>\n",
       "    <tr>\n",
       "      <th>337</th>\n",
       "      <td>338</td>\n",
       "      <td>2004-12-03</td>\n",
       "      <td>102.283343</td>\n",
       "      <td>69.952912</td>\n",
       "      <td>155.139723</td>\n",
       "      <td>NaN</td>\n",
       "      <td>NaN</td>\n",
       "      <td>115.148105</td>\n",
       "      <td>3.570638</td>\n",
       "      <td>75.514736</td>\n",
       "      <td>51.574056</td>\n",
       "      <td>38.368311</td>\n",
       "      <td>101.044276</td>\n",
       "      <td>63.144761</td>\n",
       "      <td>90.114164</td>\n",
       "    </tr>\n",
       "    <tr>\n",
       "      <th>338</th>\n",
       "      <td>339</td>\n",
       "      <td>2004-12-04</td>\n",
       "      <td>59.738363</td>\n",
       "      <td>26.424787</td>\n",
       "      <td>83.123803</td>\n",
       "      <td>16.885319</td>\n",
       "      <td>59.320126</td>\n",
       "      <td>42.869902</td>\n",
       "      <td>13.647447</td>\n",
       "      <td>41.066089</td>\n",
       "      <td>24.367568</td>\n",
       "      <td>29.298408</td>\n",
       "      <td>61.330118</td>\n",
       "      <td>38.238014</td>\n",
       "      <td>58.780131</td>\n",
       "    </tr>\n",
       "    <tr>\n",
       "      <th>339</th>\n",
       "      <td>340</td>\n",
       "      <td>2004-12-05</td>\n",
       "      <td>15.448862</td>\n",
       "      <td>10.445465</td>\n",
       "      <td>31.712386</td>\n",
       "      <td>7.641702</td>\n",
       "      <td>22.680286</td>\n",
       "      <td>12.798445</td>\n",
       "      <td>9.677872</td>\n",
       "      <td>11.915338</td>\n",
       "      <td>11.258156</td>\n",
       "      <td>14.689824</td>\n",
       "      <td>32.786347</td>\n",
       "      <td>21.285030</td>\n",
       "      <td>22.645554</td>\n",
       "    </tr>\n",
       "    <tr>\n",
       "      <th>340</th>\n",
       "      <td>341</td>\n",
       "      <td>2004-12-06</td>\n",
       "      <td>28.339059</td>\n",
       "      <td>11.861449</td>\n",
       "      <td>70.178538</td>\n",
       "      <td>7.316596</td>\n",
       "      <td>33.393762</td>\n",
       "      <td>24.158251</td>\n",
       "      <td>9.806596</td>\n",
       "      <td>12.882693</td>\n",
       "      <td>NaN</td>\n",
       "      <td>14.755849</td>\n",
       "      <td>61.109710</td>\n",
       "      <td>20.307147</td>\n",
       "      <td>40.534887</td>\n",
       "    </tr>\n",
       "    <tr>\n",
       "      <th>341</th>\n",
       "      <td>342</td>\n",
       "      <td>2004-12-07</td>\n",
       "      <td>NaN</td>\n",
       "      <td>24.728989</td>\n",
       "      <td>62.207337</td>\n",
       "      <td>18.763830</td>\n",
       "      <td>39.192804</td>\n",
       "      <td>63.708177</td>\n",
       "      <td>8.859545</td>\n",
       "      <td>26.304690</td>\n",
       "      <td>19.292629</td>\n",
       "      <td>17.290848</td>\n",
       "      <td>64.697095</td>\n",
       "      <td>26.165924</td>\n",
       "      <td>53.061775</td>\n",
       "    </tr>\n",
       "    <tr>\n",
       "      <th>342</th>\n",
       "      <td>343</td>\n",
       "      <td>2004-12-08</td>\n",
       "      <td>26.897356</td>\n",
       "      <td>NaN</td>\n",
       "      <td>39.568542</td>\n",
       "      <td>20.691667</td>\n",
       "      <td>51.573209</td>\n",
       "      <td>30.816213</td>\n",
       "      <td>27.523404</td>\n",
       "      <td>29.235058</td>\n",
       "      <td>22.182409</td>\n",
       "      <td>29.834813</td>\n",
       "      <td>69.692278</td>\n",
       "      <td>32.520181</td>\n",
       "      <td>NaN</td>\n",
       "    </tr>\n",
       "    <tr>\n",
       "      <th>343</th>\n",
       "      <td>344</td>\n",
       "      <td>2004-12-09</td>\n",
       "      <td>39.632695</td>\n",
       "      <td>27.280861</td>\n",
       "      <td>59.746818</td>\n",
       "      <td>18.748511</td>\n",
       "      <td>56.268404</td>\n",
       "      <td>57.971657</td>\n",
       "      <td>31.725957</td>\n",
       "      <td>31.664860</td>\n",
       "      <td>19.569665</td>\n",
       "      <td>35.185886</td>\n",
       "      <td>NaN</td>\n",
       "      <td>40.697804</td>\n",
       "      <td>64.284535</td>\n",
       "    </tr>\n",
       "    <tr>\n",
       "      <th>344</th>\n",
       "      <td>345</td>\n",
       "      <td>2004-12-10</td>\n",
       "      <td>42.540319</td>\n",
       "      <td>47.129760</td>\n",
       "      <td>71.586334</td>\n",
       "      <td>36.127234</td>\n",
       "      <td>57.172714</td>\n",
       "      <td>84.819389</td>\n",
       "      <td>3.523958</td>\n",
       "      <td>45.253700</td>\n",
       "      <td>30.278758</td>\n",
       "      <td>33.527574</td>\n",
       "      <td>82.938743</td>\n",
       "      <td>44.802375</td>\n",
       "      <td>64.132117</td>\n",
       "    </tr>\n",
       "    <tr>\n",
       "      <th>345</th>\n",
       "      <td>346</td>\n",
       "      <td>2004-12-11</td>\n",
       "      <td>44.190637</td>\n",
       "      <td>46.181413</td>\n",
       "      <td>58.920310</td>\n",
       "      <td>38.631915</td>\n",
       "      <td>48.416454</td>\n",
       "      <td>54.409557</td>\n",
       "      <td>0.801064</td>\n",
       "      <td>36.071835</td>\n",
       "      <td>31.911459</td>\n",
       "      <td>29.274776</td>\n",
       "      <td>44.882030</td>\n",
       "      <td>38.042256</td>\n",
       "      <td>51.982149</td>\n",
       "    </tr>\n",
       "    <tr>\n",
       "      <th>346</th>\n",
       "      <td>347</td>\n",
       "      <td>2004-12-12</td>\n",
       "      <td>27.655322</td>\n",
       "      <td>36.341060</td>\n",
       "      <td>32.922323</td>\n",
       "      <td>32.720000</td>\n",
       "      <td>36.109730</td>\n",
       "      <td>33.895285</td>\n",
       "      <td>0.524468</td>\n",
       "      <td>27.059630</td>\n",
       "      <td>28.954934</td>\n",
       "      <td>22.832553</td>\n",
       "      <td>30.975448</td>\n",
       "      <td>30.960645</td>\n",
       "      <td>42.257950</td>\n",
       "    </tr>\n",
       "    <tr>\n",
       "      <th>347</th>\n",
       "      <td>348</td>\n",
       "      <td>2004-12-13</td>\n",
       "      <td>47.306003</td>\n",
       "      <td>33.617172</td>\n",
       "      <td>91.715211</td>\n",
       "      <td>25.368085</td>\n",
       "      <td>46.562347</td>\n",
       "      <td>59.409765</td>\n",
       "      <td>0.492979</td>\n",
       "      <td>38.677990</td>\n",
       "      <td>34.199853</td>\n",
       "      <td>28.704543</td>\n",
       "      <td>48.527491</td>\n",
       "      <td>36.675014</td>\n",
       "      <td>64.828185</td>\n",
       "    </tr>\n",
       "    <tr>\n",
       "      <th>348</th>\n",
       "      <td>349</td>\n",
       "      <td>2004-12-14</td>\n",
       "      <td>83.125170</td>\n",
       "      <td>60.589558</td>\n",
       "      <td>152.052945</td>\n",
       "      <td>28.626809</td>\n",
       "      <td>58.761700</td>\n",
       "      <td>89.620134</td>\n",
       "      <td>0.898085</td>\n",
       "      <td>53.744201</td>\n",
       "      <td>45.311741</td>\n",
       "      <td>36.355195</td>\n",
       "      <td>71.584846</td>\n",
       "      <td>46.735826</td>\n",
       "      <td>71.086968</td>\n",
       "    </tr>\n",
       "    <tr>\n",
       "      <th>349</th>\n",
       "      <td>350</td>\n",
       "      <td>2004-12-15</td>\n",
       "      <td>111.938600</td>\n",
       "      <td>70.329189</td>\n",
       "      <td>174.384172</td>\n",
       "      <td>40.060851</td>\n",
       "      <td>73.618125</td>\n",
       "      <td>77.070449</td>\n",
       "      <td>0.699787</td>\n",
       "      <td>64.700420</td>\n",
       "      <td>53.511343</td>\n",
       "      <td>45.118994</td>\n",
       "      <td>73.202460</td>\n",
       "      <td>66.349705</td>\n",
       "      <td>95.383673</td>\n",
       "    </tr>\n",
       "    <tr>\n",
       "      <th>350</th>\n",
       "      <td>351</td>\n",
       "      <td>2004-12-16</td>\n",
       "      <td>110.881184</td>\n",
       "      <td>86.570407</td>\n",
       "      <td>172.585119</td>\n",
       "      <td>NaN</td>\n",
       "      <td>97.356626</td>\n",
       "      <td>92.983558</td>\n",
       "      <td>1.271064</td>\n",
       "      <td>89.115077</td>\n",
       "      <td>64.451793</td>\n",
       "      <td>49.797497</td>\n",
       "      <td>73.700995</td>\n",
       "      <td>71.139392</td>\n",
       "      <td>107.310352</td>\n",
       "    </tr>\n",
       "    <tr>\n",
       "      <th>351</th>\n",
       "      <td>352</td>\n",
       "      <td>2004-12-17</td>\n",
       "      <td>38.281456</td>\n",
       "      <td>14.746153</td>\n",
       "      <td>69.346527</td>\n",
       "      <td>9.545319</td>\n",
       "      <td>47.334545</td>\n",
       "      <td>47.023162</td>\n",
       "      <td>2.969149</td>\n",
       "      <td>29.570516</td>\n",
       "      <td>34.871789</td>\n",
       "      <td>26.485683</td>\n",
       "      <td>37.082178</td>\n",
       "      <td>38.028442</td>\n",
       "      <td>48.875770</td>\n",
       "    </tr>\n",
       "    <tr>\n",
       "      <th>352</th>\n",
       "      <td>353</td>\n",
       "      <td>2004-12-18</td>\n",
       "      <td>4.959712</td>\n",
       "      <td>7.450064</td>\n",
       "      <td>21.335944</td>\n",
       "      <td>3.739787</td>\n",
       "      <td>14.000044</td>\n",
       "      <td>24.128193</td>\n",
       "      <td>1.995957</td>\n",
       "      <td>8.698374</td>\n",
       "      <td>NaN</td>\n",
       "      <td>6.055667</td>\n",
       "      <td>14.352943</td>\n",
       "      <td>15.281709</td>\n",
       "      <td>22.782718</td>\n",
       "    </tr>\n",
       "    <tr>\n",
       "      <th>353</th>\n",
       "      <td>354</td>\n",
       "      <td>2004-12-19</td>\n",
       "      <td>13.544204</td>\n",
       "      <td>8.262766</td>\n",
       "      <td>16.001711</td>\n",
       "      <td>3.416170</td>\n",
       "      <td>26.538527</td>\n",
       "      <td>10.014062</td>\n",
       "      <td>2.222766</td>\n",
       "      <td>18.875111</td>\n",
       "      <td>12.652900</td>\n",
       "      <td>13.321666</td>\n",
       "      <td>18.568484</td>\n",
       "      <td>21.218968</td>\n",
       "      <td>37.296462</td>\n",
       "    </tr>\n",
       "    <tr>\n",
       "      <th>354</th>\n",
       "      <td>355</td>\n",
       "      <td>2004-12-20</td>\n",
       "      <td>14.990538</td>\n",
       "      <td>13.883333</td>\n",
       "      <td>49.552656</td>\n",
       "      <td>8.002553</td>\n",
       "      <td>22.767522</td>\n",
       "      <td>21.409615</td>\n",
       "      <td>8.687234</td>\n",
       "      <td>14.058618</td>\n",
       "      <td>14.882806</td>\n",
       "      <td>17.076622</td>\n",
       "      <td>59.805371</td>\n",
       "      <td>22.577925</td>\n",
       "      <td>38.787324</td>\n",
       "    </tr>\n",
       "    <tr>\n",
       "      <th>355</th>\n",
       "      <td>356</td>\n",
       "      <td>2004-12-21</td>\n",
       "      <td>33.695279</td>\n",
       "      <td>26.843808</td>\n",
       "      <td>75.114862</td>\n",
       "      <td>10.421702</td>\n",
       "      <td>44.124389</td>\n",
       "      <td>25.510565</td>\n",
       "      <td>NaN</td>\n",
       "      <td>21.957744</td>\n",
       "      <td>25.424476</td>\n",
       "      <td>17.839448</td>\n",
       "      <td>51.294453</td>\n",
       "      <td>39.569685</td>\n",
       "      <td>49.314513</td>\n",
       "    </tr>\n",
       "    <tr>\n",
       "      <th>356</th>\n",
       "      <td>357</td>\n",
       "      <td>2004-12-22</td>\n",
       "      <td>35.836067</td>\n",
       "      <td>30.594509</td>\n",
       "      <td>69.110030</td>\n",
       "      <td>12.749574</td>\n",
       "      <td>37.238724</td>\n",
       "      <td>67.113952</td>\n",
       "      <td>7.267021</td>\n",
       "      <td>29.472933</td>\n",
       "      <td>43.319932</td>\n",
       "      <td>18.661201</td>\n",
       "      <td>57.131393</td>\n",
       "      <td>34.095026</td>\n",
       "      <td>33.977145</td>\n",
       "    </tr>\n",
       "    <tr>\n",
       "      <th>357</th>\n",
       "      <td>358</td>\n",
       "      <td>2004-12-23</td>\n",
       "      <td>56.393998</td>\n",
       "      <td>14.333385</td>\n",
       "      <td>87.985667</td>\n",
       "      <td>11.497872</td>\n",
       "      <td>46.968245</td>\n",
       "      <td>43.412935</td>\n",
       "      <td>2.208085</td>\n",
       "      <td>28.787211</td>\n",
       "      <td>54.457458</td>\n",
       "      <td>22.502027</td>\n",
       "      <td>29.856554</td>\n",
       "      <td>37.363672</td>\n",
       "      <td>50.730540</td>\n",
       "    </tr>\n",
       "    <tr>\n",
       "      <th>358</th>\n",
       "      <td>359</td>\n",
       "      <td>2004-12-24</td>\n",
       "      <td>39.802456</td>\n",
       "      <td>8.355254</td>\n",
       "      <td>56.755832</td>\n",
       "      <td>5.540000</td>\n",
       "      <td>44.460212</td>\n",
       "      <td>28.650654</td>\n",
       "      <td>1.196809</td>\n",
       "      <td>22.135934</td>\n",
       "      <td>9.522529</td>\n",
       "      <td>21.989159</td>\n",
       "      <td>20.901669</td>\n",
       "      <td>33.763379</td>\n",
       "      <td>49.856341</td>\n",
       "    </tr>\n",
       "    <tr>\n",
       "      <th>359</th>\n",
       "      <td>360</td>\n",
       "      <td>2004-12-25</td>\n",
       "      <td>7.179366</td>\n",
       "      <td>11.856311</td>\n",
       "      <td>9.192973</td>\n",
       "      <td>4.888511</td>\n",
       "      <td>25.746266</td>\n",
       "      <td>28.210989</td>\n",
       "      <td>1.517234</td>\n",
       "      <td>16.234281</td>\n",
       "      <td>8.216000</td>\n",
       "      <td>15.127671</td>\n",
       "      <td>16.494900</td>\n",
       "      <td>20.159212</td>\n",
       "      <td>33.578442</td>\n",
       "    </tr>\n",
       "    <tr>\n",
       "      <th>360</th>\n",
       "      <td>361</td>\n",
       "      <td>2004-12-26</td>\n",
       "      <td>13.168661</td>\n",
       "      <td>12.133823</td>\n",
       "      <td>26.826887</td>\n",
       "      <td>3.576809</td>\n",
       "      <td>13.697576</td>\n",
       "      <td>22.048066</td>\n",
       "      <td>3.772553</td>\n",
       "      <td>8.268718</td>\n",
       "      <td>16.458121</td>\n",
       "      <td>11.133997</td>\n",
       "      <td>39.079679</td>\n",
       "      <td>12.061607</td>\n",
       "      <td>22.153478</td>\n",
       "    </tr>\n",
       "    <tr>\n",
       "      <th>361</th>\n",
       "      <td>362</td>\n",
       "      <td>2004-12-27</td>\n",
       "      <td>14.569705</td>\n",
       "      <td>16.166262</td>\n",
       "      <td>46.116486</td>\n",
       "      <td>7.424468</td>\n",
       "      <td>21.384207</td>\n",
       "      <td>58.822790</td>\n",
       "      <td>9.765319</td>\n",
       "      <td>21.788086</td>\n",
       "      <td>20.570538</td>\n",
       "      <td>19.405519</td>\n",
       "      <td>64.987564</td>\n",
       "      <td>18.715526</td>\n",
       "      <td>39.399703</td>\n",
       "    </tr>\n",
       "    <tr>\n",
       "      <th>362</th>\n",
       "      <td>363</td>\n",
       "      <td>2004-12-28</td>\n",
       "      <td>16.558807</td>\n",
       "      <td>16.485516</td>\n",
       "      <td>36.926117</td>\n",
       "      <td>9.690638</td>\n",
       "      <td>29.073494</td>\n",
       "      <td>55.784670</td>\n",
       "      <td>8.422979</td>\n",
       "      <td>20.042288</td>\n",
       "      <td>14.664676</td>\n",
       "      <td>20.102030</td>\n",
       "      <td>30.491838</td>\n",
       "      <td>22.208370</td>\n",
       "      <td>35.673289</td>\n",
       "    </tr>\n",
       "    <tr>\n",
       "      <th>363</th>\n",
       "      <td>364</td>\n",
       "      <td>2004-12-29</td>\n",
       "      <td>15.532010</td>\n",
       "      <td>24.483649</td>\n",
       "      <td>37.658182</td>\n",
       "      <td>9.047872</td>\n",
       "      <td>27.305070</td>\n",
       "      <td>66.018600</td>\n",
       "      <td>2.500213</td>\n",
       "      <td>15.779499</td>\n",
       "      <td>27.445480</td>\n",
       "      <td>16.250802</td>\n",
       "      <td>38.964386</td>\n",
       "      <td>32.122768</td>\n",
       "      <td>36.906699</td>\n",
       "    </tr>\n",
       "    <tr>\n",
       "      <th>364</th>\n",
       "      <td>365</td>\n",
       "      <td>2004-12-30</td>\n",
       "      <td>30.769743</td>\n",
       "      <td>33.995737</td>\n",
       "      <td>49.285431</td>\n",
       "      <td>11.925532</td>\n",
       "      <td>41.816404</td>\n",
       "      <td>79.725533</td>\n",
       "      <td>1.843191</td>\n",
       "      <td>24.559061</td>\n",
       "      <td>18.160780</td>\n",
       "      <td>16.795722</td>\n",
       "      <td>72.581041</td>\n",
       "      <td>41.467041</td>\n",
       "      <td>48.406651</td>\n",
       "    </tr>\n",
       "    <tr>\n",
       "      <th>365</th>\n",
       "      <td>366</td>\n",
       "      <td>2004-12-31</td>\n",
       "      <td>41.991282</td>\n",
       "      <td>30.641338</td>\n",
       "      <td>56.824645</td>\n",
       "      <td>10.206875</td>\n",
       "      <td>29.146960</td>\n",
       "      <td>32.515170</td>\n",
       "      <td>0.522128</td>\n",
       "      <td>20.156723</td>\n",
       "      <td>25.161694</td>\n",
       "      <td>21.861068</td>\n",
       "      <td>29.372593</td>\n",
       "      <td>33.814206</td>\n",
       "      <td>49.063330</td>\n",
       "    </tr>\n",
       "  </tbody>\n",
       "</table>\n",
       "<p>366 rows × 15 columns</p>\n",
       "</div>"
      ],
      "text/plain": [
       "     Unnamed: 0        date          ad         ba          ef         la  \\\n",
       "0             1  2004-01-01   11.980009  14.662142   17.332767   7.729787   \n",
       "1             2  2004-01-02   16.991053  18.711749   40.353465   8.014681   \n",
       "2             3  2004-01-03   12.320727   8.746081   35.066020   6.832766   \n",
       "3             4  2004-01-04   13.528027  19.347593   26.274157  11.836383   \n",
       "4             5  2004-01-05   47.023984  57.471300   53.344783  10.744255   \n",
       "5             6  2004-01-06   33.975485  83.404406         NaN  18.509787   \n",
       "6             7  2004-01-07         NaN  88.894720   80.763585  28.071489   \n",
       "7             8  2004-01-08   43.327258  48.835057   70.836659        NaN   \n",
       "8             9  2004-01-09   35.985892  11.752794   59.152365   7.549574   \n",
       "9            10  2004-01-10    8.609270  22.279356   25.378450   5.794681   \n",
       "10           11  2004-01-11   12.522913   8.479483   17.860144   3.793191   \n",
       "11           12  2004-01-12   14.605121  11.578458   39.601396   3.096383   \n",
       "12           13  2004-01-13   20.531598  10.338065   35.456799   3.431702   \n",
       "13           14  2004-01-14   23.757292  12.373058   56.667244   5.068298   \n",
       "14           15  2004-01-15    7.111102  10.070316   32.737367   4.060638   \n",
       "15           16  2004-01-16   10.666081   9.426209   15.390431   5.238936   \n",
       "16           17  2004-01-17   10.243833  17.297487   29.304009   3.478723   \n",
       "17           18  2004-01-18    7.921855   9.293003   17.920872   2.784043   \n",
       "18           19  2004-01-19   24.710557  21.012785   51.693337  10.398298   \n",
       "19           20  2004-01-20   53.647303  28.656094   93.503177   8.857660   \n",
       "20           21  2004-01-21   10.429033  33.881116   40.011208  13.290000   \n",
       "21           22  2004-01-22   29.359575  23.291037   54.754979   9.381702   \n",
       "22           23  2004-01-23   44.669432  33.427268   72.163919  15.322766   \n",
       "23           24  2004-01-24   41.100220  38.393201   66.185715  22.567660   \n",
       "24           25  2004-01-25   12.488297  20.279061   19.224229   6.190213   \n",
       "25           26  2004-01-26   12.296535  29.292219         NaN   8.235319   \n",
       "26           27  2004-01-27   13.262222  37.085833         NaN  16.927872   \n",
       "27           28  2004-01-28   19.335860  21.018301   50.736183  12.625319   \n",
       "28           29  2004-01-29   12.257600  12.614899   44.007247   7.675319   \n",
       "29           30  2004-01-30   55.535752  45.109497   82.101376   7.459149   \n",
       "..          ...         ...         ...        ...         ...        ...   \n",
       "336         337  2004-12-02   59.985371  40.323519         NaN        NaN   \n",
       "337         338  2004-12-03  102.283343  69.952912  155.139723        NaN   \n",
       "338         339  2004-12-04   59.738363  26.424787   83.123803  16.885319   \n",
       "339         340  2004-12-05   15.448862  10.445465   31.712386   7.641702   \n",
       "340         341  2004-12-06   28.339059  11.861449   70.178538   7.316596   \n",
       "341         342  2004-12-07         NaN  24.728989   62.207337  18.763830   \n",
       "342         343  2004-12-08   26.897356        NaN   39.568542  20.691667   \n",
       "343         344  2004-12-09   39.632695  27.280861   59.746818  18.748511   \n",
       "344         345  2004-12-10   42.540319  47.129760   71.586334  36.127234   \n",
       "345         346  2004-12-11   44.190637  46.181413   58.920310  38.631915   \n",
       "346         347  2004-12-12   27.655322  36.341060   32.922323  32.720000   \n",
       "347         348  2004-12-13   47.306003  33.617172   91.715211  25.368085   \n",
       "348         349  2004-12-14   83.125170  60.589558  152.052945  28.626809   \n",
       "349         350  2004-12-15  111.938600  70.329189  174.384172  40.060851   \n",
       "350         351  2004-12-16  110.881184  86.570407  172.585119        NaN   \n",
       "351         352  2004-12-17   38.281456  14.746153   69.346527   9.545319   \n",
       "352         353  2004-12-18    4.959712   7.450064   21.335944   3.739787   \n",
       "353         354  2004-12-19   13.544204   8.262766   16.001711   3.416170   \n",
       "354         355  2004-12-20   14.990538  13.883333   49.552656   8.002553   \n",
       "355         356  2004-12-21   33.695279  26.843808   75.114862  10.421702   \n",
       "356         357  2004-12-22   35.836067  30.594509   69.110030  12.749574   \n",
       "357         358  2004-12-23   56.393998  14.333385   87.985667  11.497872   \n",
       "358         359  2004-12-24   39.802456   8.355254   56.755832   5.540000   \n",
       "359         360  2004-12-25    7.179366  11.856311    9.192973   4.888511   \n",
       "360         361  2004-12-26   13.168661  12.133823   26.826887   3.576809   \n",
       "361         362  2004-12-27   14.569705  16.166262   46.116486   7.424468   \n",
       "362         363  2004-12-28   16.558807  16.485516   36.926117   9.690638   \n",
       "363         364  2004-12-29   15.532010  24.483649   37.658182   9.047872   \n",
       "364         365  2004-12-30   30.769743  33.995737   49.285431  11.925532   \n",
       "365         366  2004-12-31   41.991282  30.641338   56.824645  10.206875   \n",
       "\n",
       "            lu          re         ri         se         si         st  \\\n",
       "0    22.724384   20.128474   6.315106  11.340373  13.461901  13.403823   \n",
       "1    21.209295   45.235159   8.725957  15.386788  15.762092  19.340053   \n",
       "2    26.765677    8.404435  10.310625  11.038316   9.815012  16.507350   \n",
       "3    26.510881   37.356128   7.001702  19.422575  13.023148  14.972394   \n",
       "4    58.602419  110.415986   1.398936        NaN  37.266595  27.826031   \n",
       "5          NaN  113.930746   1.497021  67.949698  61.680173  30.146927   \n",
       "6    65.382964  170.415849        NaN  72.471281  64.260489  35.893849   \n",
       "7    46.511970   89.822736   0.982979  43.291849  40.862526  25.526480   \n",
       "8    35.573361   43.893102   1.969149  25.997842        NaN        NaN   \n",
       "9    23.697226   47.735867   1.006809  12.606343  15.979886   9.946398   \n",
       "10   24.448960   20.405054   0.519149  15.566867  13.581148  15.618644   \n",
       "11   19.723201   48.425074   0.869149  11.691332  12.464427  11.391395   \n",
       "12   18.569316   43.666439   0.737660   8.719560   9.552742  11.586774   \n",
       "13   22.503738   46.522911   2.287872        NaN  12.169595  11.454181   \n",
       "14   12.833039   40.404650   1.313830  10.650957  10.886598   5.371117   \n",
       "15   42.469829   37.694434   1.860213  33.881924  16.201798  24.241468   \n",
       "16   21.248965   27.973075   1.709574  15.030509   8.608598  12.131432   \n",
       "17   19.765428    7.013826   3.423830   8.658165   7.760719  10.117721   \n",
       "18   32.198759   61.886843   3.975957  21.318163  19.539647  12.459907   \n",
       "19   37.633127   50.772168   3.036383  22.604861  63.625897  28.737886   \n",
       "20   37.759346   81.882635   8.494186  28.994523  29.672736  18.878535   \n",
       "21   38.162395   57.975186   8.887234  22.109675  15.961687  20.673348   \n",
       "22   59.206167   81.789662   8.318085  37.654463  18.605283  28.333952   \n",
       "23   50.324578   47.917053   4.203617  43.741824  24.538171  32.429557   \n",
       "24   30.728321   34.257646   2.988085  17.866477  16.744878  12.510102   \n",
       "25   46.904848   97.877962   3.658125  33.512322  12.782349  29.060110   \n",
       "26   36.225791   72.507718   6.130213  30.087729  24.850999  26.326831   \n",
       "27   22.447181   65.683749   4.998723  15.846750  23.948564  19.587390   \n",
       "28   15.112790   44.979014   3.126383  13.201197   5.588083  10.499750   \n",
       "29   38.313263  136.804489   2.385532  30.311200  39.067002  18.558228   \n",
       "..         ...         ...        ...        ...        ...        ...   \n",
       "336  58.679462         NaN        NaN  52.049305  29.895541  31.545080   \n",
       "337        NaN  115.148105   3.570638  75.514736  51.574056  38.368311   \n",
       "338  59.320126   42.869902  13.647447  41.066089  24.367568  29.298408   \n",
       "339  22.680286   12.798445   9.677872  11.915338  11.258156  14.689824   \n",
       "340  33.393762   24.158251   9.806596  12.882693        NaN  14.755849   \n",
       "341  39.192804   63.708177   8.859545  26.304690  19.292629  17.290848   \n",
       "342  51.573209   30.816213  27.523404  29.235058  22.182409  29.834813   \n",
       "343  56.268404   57.971657  31.725957  31.664860  19.569665  35.185886   \n",
       "344  57.172714   84.819389   3.523958  45.253700  30.278758  33.527574   \n",
       "345  48.416454   54.409557   0.801064  36.071835  31.911459  29.274776   \n",
       "346  36.109730   33.895285   0.524468  27.059630  28.954934  22.832553   \n",
       "347  46.562347   59.409765   0.492979  38.677990  34.199853  28.704543   \n",
       "348  58.761700   89.620134   0.898085  53.744201  45.311741  36.355195   \n",
       "349  73.618125   77.070449   0.699787  64.700420  53.511343  45.118994   \n",
       "350  97.356626   92.983558   1.271064  89.115077  64.451793  49.797497   \n",
       "351  47.334545   47.023162   2.969149  29.570516  34.871789  26.485683   \n",
       "352  14.000044   24.128193   1.995957   8.698374        NaN   6.055667   \n",
       "353  26.538527   10.014062   2.222766  18.875111  12.652900  13.321666   \n",
       "354  22.767522   21.409615   8.687234  14.058618  14.882806  17.076622   \n",
       "355  44.124389   25.510565        NaN  21.957744  25.424476  17.839448   \n",
       "356  37.238724   67.113952   7.267021  29.472933  43.319932  18.661201   \n",
       "357  46.968245   43.412935   2.208085  28.787211  54.457458  22.502027   \n",
       "358  44.460212   28.650654   1.196809  22.135934   9.522529  21.989159   \n",
       "359  25.746266   28.210989   1.517234  16.234281   8.216000  15.127671   \n",
       "360  13.697576   22.048066   3.772553   8.268718  16.458121  11.133997   \n",
       "361  21.384207   58.822790   9.765319  21.788086  20.570538  19.405519   \n",
       "362  29.073494   55.784670   8.422979  20.042288  14.664676  20.102030   \n",
       "363  27.305070   66.018600   2.500213  15.779499  27.445480  16.250802   \n",
       "364  41.816404   79.725533   1.843191  24.559061  18.160780  16.795722   \n",
       "365  29.146960   32.515170   0.522128  20.156723  25.161694  21.861068   \n",
       "\n",
       "             su         sz          zg  \n",
       "0     27.046782  16.228219   25.494337  \n",
       "1     35.819629  21.168657   34.469548  \n",
       "2     34.882952  16.371493   29.057676  \n",
       "3     34.838158  18.140785   26.160293  \n",
       "4     78.699955  42.680949   76.860483  \n",
       "5     99.549969  38.481478   87.387871  \n",
       "6    141.582878        NaN   70.261642  \n",
       "7     68.684770  28.808804         NaN  \n",
       "8     26.271537  27.458222   53.907085  \n",
       "9     46.594495  14.305948   35.758483  \n",
       "10    13.871068  16.921356   37.310275  \n",
       "11    29.291848  14.423462   39.236853  \n",
       "12    27.266871  24.575592   35.288630  \n",
       "13    24.692846  15.611810         NaN  \n",
       "14    20.378892  12.168928   31.075844  \n",
       "15    22.615058  27.974497   65.391884  \n",
       "16    25.582507  16.936489   33.492734  \n",
       "17    17.244719  14.007144   18.357593  \n",
       "18    56.015477  19.985028   26.348396  \n",
       "19    46.224686  44.663960   53.753226  \n",
       "20    67.650001  32.804932   38.913302  \n",
       "21    71.388044  28.144983   44.689109  \n",
       "22    85.273274  41.463461   47.491930  \n",
       "23    51.125014  36.290297   44.028726  \n",
       "24    31.208638  25.666101   36.100765  \n",
       "25    85.837339  30.471658   56.442195  \n",
       "26    49.120614  30.635715   59.215164  \n",
       "27    32.932615  22.904930   32.630675  \n",
       "28    24.227376  18.467004   33.761685  \n",
       "29    68.079205  48.437288   59.172678  \n",
       "..          ...        ...         ...  \n",
       "336   66.615704  43.114060   59.650891  \n",
       "337  101.044276  63.144761   90.114164  \n",
       "338   61.330118  38.238014   58.780131  \n",
       "339   32.786347  21.285030   22.645554  \n",
       "340   61.109710  20.307147   40.534887  \n",
       "341   64.697095  26.165924   53.061775  \n",
       "342   69.692278  32.520181         NaN  \n",
       "343         NaN  40.697804   64.284535  \n",
       "344   82.938743  44.802375   64.132117  \n",
       "345   44.882030  38.042256   51.982149  \n",
       "346   30.975448  30.960645   42.257950  \n",
       "347   48.527491  36.675014   64.828185  \n",
       "348   71.584846  46.735826   71.086968  \n",
       "349   73.202460  66.349705   95.383673  \n",
       "350   73.700995  71.139392  107.310352  \n",
       "351   37.082178  38.028442   48.875770  \n",
       "352   14.352943  15.281709   22.782718  \n",
       "353   18.568484  21.218968   37.296462  \n",
       "354   59.805371  22.577925   38.787324  \n",
       "355   51.294453  39.569685   49.314513  \n",
       "356   57.131393  34.095026   33.977145  \n",
       "357   29.856554  37.363672   50.730540  \n",
       "358   20.901669  33.763379   49.856341  \n",
       "359   16.494900  20.159212   33.578442  \n",
       "360   39.079679  12.061607   22.153478  \n",
       "361   64.987564  18.715526   39.399703  \n",
       "362   30.491838  22.208370   35.673289  \n",
       "363   38.964386  32.122768   36.906699  \n",
       "364   72.581041  41.467041   48.406651  \n",
       "365   29.372593  33.814206   49.063330  \n",
       "\n",
       "[366 rows x 15 columns]"
      ]
     },
     "execution_count": 17,
     "metadata": {},
     "output_type": "execute_result"
    }
   ],
   "source": [
    "df"
   ]
  },
  {
   "cell_type": "markdown",
   "metadata": {},
   "source": [
    "To see a row in the table: "
   ]
  },
  {
   "cell_type": "code",
   "execution_count": 18,
   "metadata": {},
   "outputs": [
    {
     "data": {
      "text/plain": [
       "Unnamed: 0             3\n",
       "date          2004-01-03\n",
       "ad               12.3207\n",
       "ba               8.74608\n",
       "ef                35.066\n",
       "la               6.83277\n",
       "lu               26.7657\n",
       "re               8.40444\n",
       "ri               10.3106\n",
       "se               11.0383\n",
       "si               9.81501\n",
       "st               16.5074\n",
       "su                34.883\n",
       "sz               16.3715\n",
       "zg               29.0577\n",
       "Name: 2, dtype: object"
      ]
     },
     "execution_count": 18,
     "metadata": {},
     "output_type": "execute_result"
    }
   ],
   "source": [
    "df.loc[2]"
   ]
  },
  {
   "cell_type": "markdown",
   "metadata": {},
   "source": [
    "To see multiple rows: "
   ]
  },
  {
   "cell_type": "code",
   "execution_count": 19,
   "metadata": {},
   "outputs": [
    {
     "data": {
      "text/html": [
       "<div>\n",
       "<style scoped>\n",
       "    .dataframe tbody tr th:only-of-type {\n",
       "        vertical-align: middle;\n",
       "    }\n",
       "\n",
       "    .dataframe tbody tr th {\n",
       "        vertical-align: top;\n",
       "    }\n",
       "\n",
       "    .dataframe thead th {\n",
       "        text-align: right;\n",
       "    }\n",
       "</style>\n",
       "<table border=\"1\" class=\"dataframe\">\n",
       "  <thead>\n",
       "    <tr style=\"text-align: right;\">\n",
       "      <th></th>\n",
       "      <th>Unnamed: 0</th>\n",
       "      <th>date</th>\n",
       "      <th>ad</th>\n",
       "      <th>ba</th>\n",
       "      <th>ef</th>\n",
       "      <th>la</th>\n",
       "      <th>lu</th>\n",
       "      <th>re</th>\n",
       "      <th>ri</th>\n",
       "      <th>se</th>\n",
       "      <th>si</th>\n",
       "      <th>st</th>\n",
       "      <th>su</th>\n",
       "      <th>sz</th>\n",
       "      <th>zg</th>\n",
       "    </tr>\n",
       "  </thead>\n",
       "  <tbody>\n",
       "    <tr>\n",
       "      <th>2</th>\n",
       "      <td>3</td>\n",
       "      <td>2004-01-03</td>\n",
       "      <td>12.320727</td>\n",
       "      <td>8.746081</td>\n",
       "      <td>35.066020</td>\n",
       "      <td>6.832766</td>\n",
       "      <td>26.765677</td>\n",
       "      <td>8.404435</td>\n",
       "      <td>10.310625</td>\n",
       "      <td>11.038316</td>\n",
       "      <td>9.815012</td>\n",
       "      <td>16.507350</td>\n",
       "      <td>34.882952</td>\n",
       "      <td>16.371493</td>\n",
       "      <td>29.057676</td>\n",
       "    </tr>\n",
       "    <tr>\n",
       "      <th>4</th>\n",
       "      <td>5</td>\n",
       "      <td>2004-01-05</td>\n",
       "      <td>47.023984</td>\n",
       "      <td>57.471300</td>\n",
       "      <td>53.344783</td>\n",
       "      <td>10.744255</td>\n",
       "      <td>58.602419</td>\n",
       "      <td>110.415986</td>\n",
       "      <td>1.398936</td>\n",
       "      <td>NaN</td>\n",
       "      <td>37.266595</td>\n",
       "      <td>27.826031</td>\n",
       "      <td>78.699955</td>\n",
       "      <td>42.680949</td>\n",
       "      <td>76.860483</td>\n",
       "    </tr>\n",
       "    <tr>\n",
       "      <th>6</th>\n",
       "      <td>7</td>\n",
       "      <td>2004-01-07</td>\n",
       "      <td>NaN</td>\n",
       "      <td>88.894720</td>\n",
       "      <td>80.763585</td>\n",
       "      <td>28.071489</td>\n",
       "      <td>65.382964</td>\n",
       "      <td>170.415849</td>\n",
       "      <td>NaN</td>\n",
       "      <td>72.471281</td>\n",
       "      <td>64.260489</td>\n",
       "      <td>35.893849</td>\n",
       "      <td>141.582878</td>\n",
       "      <td>NaN</td>\n",
       "      <td>70.261642</td>\n",
       "    </tr>\n",
       "  </tbody>\n",
       "</table>\n",
       "</div>"
      ],
      "text/plain": [
       "   Unnamed: 0        date         ad         ba         ef         la  \\\n",
       "2           3  2004-01-03  12.320727   8.746081  35.066020   6.832766   \n",
       "4           5  2004-01-05  47.023984  57.471300  53.344783  10.744255   \n",
       "6           7  2004-01-07        NaN  88.894720  80.763585  28.071489   \n",
       "\n",
       "          lu          re         ri         se         si         st  \\\n",
       "2  26.765677    8.404435  10.310625  11.038316   9.815012  16.507350   \n",
       "4  58.602419  110.415986   1.398936        NaN  37.266595  27.826031   \n",
       "6  65.382964  170.415849        NaN  72.471281  64.260489  35.893849   \n",
       "\n",
       "           su         sz         zg  \n",
       "2   34.882952  16.371493  29.057676  \n",
       "4   78.699955  42.680949  76.860483  \n",
       "6  141.582878        NaN  70.261642  "
      ]
     },
     "execution_count": 19,
     "metadata": {},
     "output_type": "execute_result"
    }
   ],
   "source": [
    "df.loc[[2,4,6]]"
   ]
  },
  {
   "cell_type": "markdown",
   "metadata": {},
   "source": [
    "To see a range of rows:"
   ]
  },
  {
   "cell_type": "code",
   "execution_count": 50,
   "metadata": {},
   "outputs": [
    {
     "data": {
      "text/html": [
       "<div>\n",
       "<style scoped>\n",
       "    .dataframe tbody tr th:only-of-type {\n",
       "        vertical-align: middle;\n",
       "    }\n",
       "\n",
       "    .dataframe tbody tr th {\n",
       "        vertical-align: top;\n",
       "    }\n",
       "\n",
       "    .dataframe thead th {\n",
       "        text-align: right;\n",
       "    }\n",
       "</style>\n",
       "<table border=\"1\" class=\"dataframe\">\n",
       "  <thead>\n",
       "    <tr style=\"text-align: right;\">\n",
       "      <th></th>\n",
       "      <th>Unnamed: 0</th>\n",
       "      <th>date</th>\n",
       "      <th>ad</th>\n",
       "      <th>ba</th>\n",
       "      <th>ef</th>\n",
       "      <th>la</th>\n",
       "      <th>lu</th>\n",
       "      <th>re</th>\n",
       "      <th>ri</th>\n",
       "      <th>se</th>\n",
       "      <th>si</th>\n",
       "      <th>st</th>\n",
       "      <th>su</th>\n",
       "      <th>sz</th>\n",
       "      <th>zg</th>\n",
       "    </tr>\n",
       "  </thead>\n",
       "  <tbody>\n",
       "    <tr>\n",
       "      <th>2</th>\n",
       "      <td>3</td>\n",
       "      <td>2004-01-03</td>\n",
       "      <td>12.320727</td>\n",
       "      <td>8.746081</td>\n",
       "      <td>35.066020</td>\n",
       "      <td>6.832766</td>\n",
       "      <td>26.765677</td>\n",
       "      <td>8.404435</td>\n",
       "      <td>10.310625</td>\n",
       "      <td>11.038316</td>\n",
       "      <td>9.815012</td>\n",
       "      <td>16.507350</td>\n",
       "      <td>34.882952</td>\n",
       "      <td>16.371493</td>\n",
       "      <td>29.057676</td>\n",
       "    </tr>\n",
       "    <tr>\n",
       "      <th>3</th>\n",
       "      <td>4</td>\n",
       "      <td>2004-01-04</td>\n",
       "      <td>13.528027</td>\n",
       "      <td>19.347593</td>\n",
       "      <td>26.274157</td>\n",
       "      <td>11.836383</td>\n",
       "      <td>26.510881</td>\n",
       "      <td>37.356128</td>\n",
       "      <td>7.001702</td>\n",
       "      <td>19.422575</td>\n",
       "      <td>13.023148</td>\n",
       "      <td>14.972394</td>\n",
       "      <td>34.838158</td>\n",
       "      <td>18.140785</td>\n",
       "      <td>26.160293</td>\n",
       "    </tr>\n",
       "    <tr>\n",
       "      <th>4</th>\n",
       "      <td>5</td>\n",
       "      <td>2004-01-05</td>\n",
       "      <td>47.023984</td>\n",
       "      <td>57.471300</td>\n",
       "      <td>53.344783</td>\n",
       "      <td>10.744255</td>\n",
       "      <td>58.602419</td>\n",
       "      <td>110.415986</td>\n",
       "      <td>1.398936</td>\n",
       "      <td>NaN</td>\n",
       "      <td>37.266595</td>\n",
       "      <td>27.826031</td>\n",
       "      <td>78.699955</td>\n",
       "      <td>42.680949</td>\n",
       "      <td>76.860483</td>\n",
       "    </tr>\n",
       "    <tr>\n",
       "      <th>5</th>\n",
       "      <td>6</td>\n",
       "      <td>2004-01-06</td>\n",
       "      <td>33.975485</td>\n",
       "      <td>83.404406</td>\n",
       "      <td>NaN</td>\n",
       "      <td>18.509787</td>\n",
       "      <td>NaN</td>\n",
       "      <td>113.930746</td>\n",
       "      <td>1.497021</td>\n",
       "      <td>67.949698</td>\n",
       "      <td>61.680173</td>\n",
       "      <td>30.146927</td>\n",
       "      <td>99.549969</td>\n",
       "      <td>38.481478</td>\n",
       "      <td>87.387871</td>\n",
       "    </tr>\n",
       "  </tbody>\n",
       "</table>\n",
       "</div>"
      ],
      "text/plain": [
       "   Unnamed: 0        date         ad         ba         ef         la  \\\n",
       "2           3  2004-01-03  12.320727   8.746081  35.066020   6.832766   \n",
       "3           4  2004-01-04  13.528027  19.347593  26.274157  11.836383   \n",
       "4           5  2004-01-05  47.023984  57.471300  53.344783  10.744255   \n",
       "5           6  2004-01-06  33.975485  83.404406        NaN  18.509787   \n",
       "\n",
       "          lu          re         ri         se         si         st  \\\n",
       "2  26.765677    8.404435  10.310625  11.038316   9.815012  16.507350   \n",
       "3  26.510881   37.356128   7.001702  19.422575  13.023148  14.972394   \n",
       "4  58.602419  110.415986   1.398936        NaN  37.266595  27.826031   \n",
       "5        NaN  113.930746   1.497021  67.949698  61.680173  30.146927   \n",
       "\n",
       "          su         sz         zg  \n",
       "2  34.882952  16.371493  29.057676  \n",
       "3  34.838158  18.140785  26.160293  \n",
       "4  78.699955  42.680949  76.860483  \n",
       "5  99.549969  38.481478  87.387871  "
      ]
     },
     "execution_count": 50,
     "metadata": {},
     "output_type": "execute_result"
    }
   ],
   "source": [
    "df.loc[2:5]"
   ]
  },
  {
   "cell_type": "markdown",
   "metadata": {},
   "source": [
    "To see all the values for a column:"
   ]
  },
  {
   "cell_type": "code",
   "execution_count": 51,
   "metadata": {},
   "outputs": [
    {
     "data": {
      "text/plain": [
       "0      2004-01-01\n",
       "1      2004-01-02\n",
       "2      2004-01-03\n",
       "3      2004-01-04\n",
       "4      2004-01-05\n",
       "5      2004-01-06\n",
       "6      2004-01-07\n",
       "7      2004-01-08\n",
       "8      2004-01-09\n",
       "9      2004-01-10\n",
       "10     2004-01-11\n",
       "11     2004-01-12\n",
       "12     2004-01-13\n",
       "13     2004-01-14\n",
       "14     2004-01-15\n",
       "15     2004-01-16\n",
       "16     2004-01-17\n",
       "17     2004-01-18\n",
       "18     2004-01-19\n",
       "19     2004-01-20\n",
       "20     2004-01-21\n",
       "21     2004-01-22\n",
       "22     2004-01-23\n",
       "23     2004-01-24\n",
       "24     2004-01-25\n",
       "25     2004-01-26\n",
       "26     2004-01-27\n",
       "27     2004-01-28\n",
       "28     2004-01-29\n",
       "29     2004-01-30\n",
       "          ...    \n",
       "336    2004-12-02\n",
       "337    2004-12-03\n",
       "338    2004-12-04\n",
       "339    2004-12-05\n",
       "340    2004-12-06\n",
       "341    2004-12-07\n",
       "342    2004-12-08\n",
       "343    2004-12-09\n",
       "344    2004-12-10\n",
       "345    2004-12-11\n",
       "346    2004-12-12\n",
       "347    2004-12-13\n",
       "348    2004-12-14\n",
       "349    2004-12-15\n",
       "350    2004-12-16\n",
       "351    2004-12-17\n",
       "352    2004-12-18\n",
       "353    2004-12-19\n",
       "354    2004-12-20\n",
       "355    2004-12-21\n",
       "356    2004-12-22\n",
       "357    2004-12-23\n",
       "358    2004-12-24\n",
       "359    2004-12-25\n",
       "360    2004-12-26\n",
       "361    2004-12-27\n",
       "362    2004-12-28\n",
       "363    2004-12-29\n",
       "364    2004-12-30\n",
       "365    2004-12-31\n",
       "Name: date, Length: 366, dtype: object"
      ]
     },
     "execution_count": 51,
     "metadata": {},
     "output_type": "execute_result"
    }
   ],
   "source": [
    "df.loc[:,\"date\"]"
   ]
  },
  {
   "cell_type": "markdown",
   "metadata": {},
   "source": [
    "To see multiple columns:"
   ]
  },
  {
   "cell_type": "code",
   "execution_count": 52,
   "metadata": {},
   "outputs": [
    {
     "data": {
      "text/html": [
       "<div>\n",
       "<style scoped>\n",
       "    .dataframe tbody tr th:only-of-type {\n",
       "        vertical-align: middle;\n",
       "    }\n",
       "\n",
       "    .dataframe tbody tr th {\n",
       "        vertical-align: top;\n",
       "    }\n",
       "\n",
       "    .dataframe thead th {\n",
       "        text-align: right;\n",
       "    }\n",
       "</style>\n",
       "<table border=\"1\" class=\"dataframe\">\n",
       "  <thead>\n",
       "    <tr style=\"text-align: right;\">\n",
       "      <th></th>\n",
       "      <th>date</th>\n",
       "      <th>ad</th>\n",
       "    </tr>\n",
       "  </thead>\n",
       "  <tbody>\n",
       "    <tr>\n",
       "      <th>0</th>\n",
       "      <td>2004-01-01</td>\n",
       "      <td>11.980009</td>\n",
       "    </tr>\n",
       "    <tr>\n",
       "      <th>1</th>\n",
       "      <td>2004-01-02</td>\n",
       "      <td>16.991053</td>\n",
       "    </tr>\n",
       "    <tr>\n",
       "      <th>2</th>\n",
       "      <td>2004-01-03</td>\n",
       "      <td>12.320727</td>\n",
       "    </tr>\n",
       "    <tr>\n",
       "      <th>3</th>\n",
       "      <td>2004-01-04</td>\n",
       "      <td>13.528027</td>\n",
       "    </tr>\n",
       "    <tr>\n",
       "      <th>4</th>\n",
       "      <td>2004-01-05</td>\n",
       "      <td>47.023984</td>\n",
       "    </tr>\n",
       "    <tr>\n",
       "      <th>5</th>\n",
       "      <td>2004-01-06</td>\n",
       "      <td>33.975485</td>\n",
       "    </tr>\n",
       "    <tr>\n",
       "      <th>6</th>\n",
       "      <td>2004-01-07</td>\n",
       "      <td>NaN</td>\n",
       "    </tr>\n",
       "    <tr>\n",
       "      <th>7</th>\n",
       "      <td>2004-01-08</td>\n",
       "      <td>43.327258</td>\n",
       "    </tr>\n",
       "    <tr>\n",
       "      <th>8</th>\n",
       "      <td>2004-01-09</td>\n",
       "      <td>35.985892</td>\n",
       "    </tr>\n",
       "    <tr>\n",
       "      <th>9</th>\n",
       "      <td>2004-01-10</td>\n",
       "      <td>8.609270</td>\n",
       "    </tr>\n",
       "    <tr>\n",
       "      <th>10</th>\n",
       "      <td>2004-01-11</td>\n",
       "      <td>12.522913</td>\n",
       "    </tr>\n",
       "    <tr>\n",
       "      <th>11</th>\n",
       "      <td>2004-01-12</td>\n",
       "      <td>14.605121</td>\n",
       "    </tr>\n",
       "    <tr>\n",
       "      <th>12</th>\n",
       "      <td>2004-01-13</td>\n",
       "      <td>20.531598</td>\n",
       "    </tr>\n",
       "    <tr>\n",
       "      <th>13</th>\n",
       "      <td>2004-01-14</td>\n",
       "      <td>23.757292</td>\n",
       "    </tr>\n",
       "    <tr>\n",
       "      <th>14</th>\n",
       "      <td>2004-01-15</td>\n",
       "      <td>7.111102</td>\n",
       "    </tr>\n",
       "    <tr>\n",
       "      <th>15</th>\n",
       "      <td>2004-01-16</td>\n",
       "      <td>10.666081</td>\n",
       "    </tr>\n",
       "    <tr>\n",
       "      <th>16</th>\n",
       "      <td>2004-01-17</td>\n",
       "      <td>10.243833</td>\n",
       "    </tr>\n",
       "    <tr>\n",
       "      <th>17</th>\n",
       "      <td>2004-01-18</td>\n",
       "      <td>7.921855</td>\n",
       "    </tr>\n",
       "    <tr>\n",
       "      <th>18</th>\n",
       "      <td>2004-01-19</td>\n",
       "      <td>24.710557</td>\n",
       "    </tr>\n",
       "    <tr>\n",
       "      <th>19</th>\n",
       "      <td>2004-01-20</td>\n",
       "      <td>53.647303</td>\n",
       "    </tr>\n",
       "    <tr>\n",
       "      <th>20</th>\n",
       "      <td>2004-01-21</td>\n",
       "      <td>10.429033</td>\n",
       "    </tr>\n",
       "    <tr>\n",
       "      <th>21</th>\n",
       "      <td>2004-01-22</td>\n",
       "      <td>29.359575</td>\n",
       "    </tr>\n",
       "    <tr>\n",
       "      <th>22</th>\n",
       "      <td>2004-01-23</td>\n",
       "      <td>44.669432</td>\n",
       "    </tr>\n",
       "    <tr>\n",
       "      <th>23</th>\n",
       "      <td>2004-01-24</td>\n",
       "      <td>41.100220</td>\n",
       "    </tr>\n",
       "    <tr>\n",
       "      <th>24</th>\n",
       "      <td>2004-01-25</td>\n",
       "      <td>12.488297</td>\n",
       "    </tr>\n",
       "    <tr>\n",
       "      <th>25</th>\n",
       "      <td>2004-01-26</td>\n",
       "      <td>12.296535</td>\n",
       "    </tr>\n",
       "    <tr>\n",
       "      <th>26</th>\n",
       "      <td>2004-01-27</td>\n",
       "      <td>13.262222</td>\n",
       "    </tr>\n",
       "    <tr>\n",
       "      <th>27</th>\n",
       "      <td>2004-01-28</td>\n",
       "      <td>19.335860</td>\n",
       "    </tr>\n",
       "    <tr>\n",
       "      <th>28</th>\n",
       "      <td>2004-01-29</td>\n",
       "      <td>12.257600</td>\n",
       "    </tr>\n",
       "    <tr>\n",
       "      <th>29</th>\n",
       "      <td>2004-01-30</td>\n",
       "      <td>55.535752</td>\n",
       "    </tr>\n",
       "    <tr>\n",
       "      <th>...</th>\n",
       "      <td>...</td>\n",
       "      <td>...</td>\n",
       "    </tr>\n",
       "    <tr>\n",
       "      <th>336</th>\n",
       "      <td>2004-12-02</td>\n",
       "      <td>59.985371</td>\n",
       "    </tr>\n",
       "    <tr>\n",
       "      <th>337</th>\n",
       "      <td>2004-12-03</td>\n",
       "      <td>102.283343</td>\n",
       "    </tr>\n",
       "    <tr>\n",
       "      <th>338</th>\n",
       "      <td>2004-12-04</td>\n",
       "      <td>59.738363</td>\n",
       "    </tr>\n",
       "    <tr>\n",
       "      <th>339</th>\n",
       "      <td>2004-12-05</td>\n",
       "      <td>15.448862</td>\n",
       "    </tr>\n",
       "    <tr>\n",
       "      <th>340</th>\n",
       "      <td>2004-12-06</td>\n",
       "      <td>28.339059</td>\n",
       "    </tr>\n",
       "    <tr>\n",
       "      <th>341</th>\n",
       "      <td>2004-12-07</td>\n",
       "      <td>NaN</td>\n",
       "    </tr>\n",
       "    <tr>\n",
       "      <th>342</th>\n",
       "      <td>2004-12-08</td>\n",
       "      <td>26.897356</td>\n",
       "    </tr>\n",
       "    <tr>\n",
       "      <th>343</th>\n",
       "      <td>2004-12-09</td>\n",
       "      <td>39.632695</td>\n",
       "    </tr>\n",
       "    <tr>\n",
       "      <th>344</th>\n",
       "      <td>2004-12-10</td>\n",
       "      <td>42.540319</td>\n",
       "    </tr>\n",
       "    <tr>\n",
       "      <th>345</th>\n",
       "      <td>2004-12-11</td>\n",
       "      <td>44.190637</td>\n",
       "    </tr>\n",
       "    <tr>\n",
       "      <th>346</th>\n",
       "      <td>2004-12-12</td>\n",
       "      <td>27.655322</td>\n",
       "    </tr>\n",
       "    <tr>\n",
       "      <th>347</th>\n",
       "      <td>2004-12-13</td>\n",
       "      <td>47.306003</td>\n",
       "    </tr>\n",
       "    <tr>\n",
       "      <th>348</th>\n",
       "      <td>2004-12-14</td>\n",
       "      <td>83.125170</td>\n",
       "    </tr>\n",
       "    <tr>\n",
       "      <th>349</th>\n",
       "      <td>2004-12-15</td>\n",
       "      <td>111.938600</td>\n",
       "    </tr>\n",
       "    <tr>\n",
       "      <th>350</th>\n",
       "      <td>2004-12-16</td>\n",
       "      <td>110.881184</td>\n",
       "    </tr>\n",
       "    <tr>\n",
       "      <th>351</th>\n",
       "      <td>2004-12-17</td>\n",
       "      <td>38.281456</td>\n",
       "    </tr>\n",
       "    <tr>\n",
       "      <th>352</th>\n",
       "      <td>2004-12-18</td>\n",
       "      <td>4.959712</td>\n",
       "    </tr>\n",
       "    <tr>\n",
       "      <th>353</th>\n",
       "      <td>2004-12-19</td>\n",
       "      <td>13.544204</td>\n",
       "    </tr>\n",
       "    <tr>\n",
       "      <th>354</th>\n",
       "      <td>2004-12-20</td>\n",
       "      <td>14.990538</td>\n",
       "    </tr>\n",
       "    <tr>\n",
       "      <th>355</th>\n",
       "      <td>2004-12-21</td>\n",
       "      <td>33.695279</td>\n",
       "    </tr>\n",
       "    <tr>\n",
       "      <th>356</th>\n",
       "      <td>2004-12-22</td>\n",
       "      <td>35.836067</td>\n",
       "    </tr>\n",
       "    <tr>\n",
       "      <th>357</th>\n",
       "      <td>2004-12-23</td>\n",
       "      <td>56.393998</td>\n",
       "    </tr>\n",
       "    <tr>\n",
       "      <th>358</th>\n",
       "      <td>2004-12-24</td>\n",
       "      <td>39.802456</td>\n",
       "    </tr>\n",
       "    <tr>\n",
       "      <th>359</th>\n",
       "      <td>2004-12-25</td>\n",
       "      <td>7.179366</td>\n",
       "    </tr>\n",
       "    <tr>\n",
       "      <th>360</th>\n",
       "      <td>2004-12-26</td>\n",
       "      <td>13.168661</td>\n",
       "    </tr>\n",
       "    <tr>\n",
       "      <th>361</th>\n",
       "      <td>2004-12-27</td>\n",
       "      <td>14.569705</td>\n",
       "    </tr>\n",
       "    <tr>\n",
       "      <th>362</th>\n",
       "      <td>2004-12-28</td>\n",
       "      <td>16.558807</td>\n",
       "    </tr>\n",
       "    <tr>\n",
       "      <th>363</th>\n",
       "      <td>2004-12-29</td>\n",
       "      <td>15.532010</td>\n",
       "    </tr>\n",
       "    <tr>\n",
       "      <th>364</th>\n",
       "      <td>2004-12-30</td>\n",
       "      <td>30.769743</td>\n",
       "    </tr>\n",
       "    <tr>\n",
       "      <th>365</th>\n",
       "      <td>2004-12-31</td>\n",
       "      <td>41.991282</td>\n",
       "    </tr>\n",
       "  </tbody>\n",
       "</table>\n",
       "<p>366 rows × 2 columns</p>\n",
       "</div>"
      ],
      "text/plain": [
       "           date          ad\n",
       "0    2004-01-01   11.980009\n",
       "1    2004-01-02   16.991053\n",
       "2    2004-01-03   12.320727\n",
       "3    2004-01-04   13.528027\n",
       "4    2004-01-05   47.023984\n",
       "5    2004-01-06   33.975485\n",
       "6    2004-01-07         NaN\n",
       "7    2004-01-08   43.327258\n",
       "8    2004-01-09   35.985892\n",
       "9    2004-01-10    8.609270\n",
       "10   2004-01-11   12.522913\n",
       "11   2004-01-12   14.605121\n",
       "12   2004-01-13   20.531598\n",
       "13   2004-01-14   23.757292\n",
       "14   2004-01-15    7.111102\n",
       "15   2004-01-16   10.666081\n",
       "16   2004-01-17   10.243833\n",
       "17   2004-01-18    7.921855\n",
       "18   2004-01-19   24.710557\n",
       "19   2004-01-20   53.647303\n",
       "20   2004-01-21   10.429033\n",
       "21   2004-01-22   29.359575\n",
       "22   2004-01-23   44.669432\n",
       "23   2004-01-24   41.100220\n",
       "24   2004-01-25   12.488297\n",
       "25   2004-01-26   12.296535\n",
       "26   2004-01-27   13.262222\n",
       "27   2004-01-28   19.335860\n",
       "28   2004-01-29   12.257600\n",
       "29   2004-01-30   55.535752\n",
       "..          ...         ...\n",
       "336  2004-12-02   59.985371\n",
       "337  2004-12-03  102.283343\n",
       "338  2004-12-04   59.738363\n",
       "339  2004-12-05   15.448862\n",
       "340  2004-12-06   28.339059\n",
       "341  2004-12-07         NaN\n",
       "342  2004-12-08   26.897356\n",
       "343  2004-12-09   39.632695\n",
       "344  2004-12-10   42.540319\n",
       "345  2004-12-11   44.190637\n",
       "346  2004-12-12   27.655322\n",
       "347  2004-12-13   47.306003\n",
       "348  2004-12-14   83.125170\n",
       "349  2004-12-15  111.938600\n",
       "350  2004-12-16  110.881184\n",
       "351  2004-12-17   38.281456\n",
       "352  2004-12-18    4.959712\n",
       "353  2004-12-19   13.544204\n",
       "354  2004-12-20   14.990538\n",
       "355  2004-12-21   33.695279\n",
       "356  2004-12-22   35.836067\n",
       "357  2004-12-23   56.393998\n",
       "358  2004-12-24   39.802456\n",
       "359  2004-12-25    7.179366\n",
       "360  2004-12-26   13.168661\n",
       "361  2004-12-27   14.569705\n",
       "362  2004-12-28   16.558807\n",
       "363  2004-12-29   15.532010\n",
       "364  2004-12-30   30.769743\n",
       "365  2004-12-31   41.991282\n",
       "\n",
       "[366 rows x 2 columns]"
      ]
     },
     "execution_count": 52,
     "metadata": {},
     "output_type": "execute_result"
    }
   ],
   "source": [
    "df.loc[:,['date', 'ad']]"
   ]
  },
  {
   "cell_type": "markdown",
   "metadata": {},
   "source": [
    "To see a row and column: "
   ]
  },
  {
   "cell_type": "code",
   "execution_count": 53,
   "metadata": {},
   "outputs": [
    {
     "data": {
      "text/plain": [
       "'2004-01-03'"
      ]
     },
     "execution_count": 53,
     "metadata": {},
     "output_type": "execute_result"
    }
   ],
   "source": [
    "df.loc[2,'date']"
   ]
  },
  {
   "cell_type": "markdown",
   "metadata": {},
   "source": [
    "To see a row and multiple columns:"
   ]
  },
  {
   "cell_type": "code",
   "execution_count": 54,
   "metadata": {},
   "outputs": [
    {
     "data": {
      "text/plain": [
       "date    2004-01-03\n",
       "ad         12.3207\n",
       "Name: 2, dtype: object"
      ]
     },
     "execution_count": 54,
     "metadata": {},
     "output_type": "execute_result"
    }
   ],
   "source": [
    "df.loc[2,['date', 'ad']]"
   ]
  },
  {
   "cell_type": "markdown",
   "metadata": {},
   "source": [
    "To see multiple rows and columns:"
   ]
  },
  {
   "cell_type": "code",
   "execution_count": 55,
   "metadata": {},
   "outputs": [
    {
     "data": {
      "text/html": [
       "<div>\n",
       "<style scoped>\n",
       "    .dataframe tbody tr th:only-of-type {\n",
       "        vertical-align: middle;\n",
       "    }\n",
       "\n",
       "    .dataframe tbody tr th {\n",
       "        vertical-align: top;\n",
       "    }\n",
       "\n",
       "    .dataframe thead th {\n",
       "        text-align: right;\n",
       "    }\n",
       "</style>\n",
       "<table border=\"1\" class=\"dataframe\">\n",
       "  <thead>\n",
       "    <tr style=\"text-align: right;\">\n",
       "      <th></th>\n",
       "      <th>date</th>\n",
       "      <th>ad</th>\n",
       "    </tr>\n",
       "  </thead>\n",
       "  <tbody>\n",
       "    <tr>\n",
       "      <th>2</th>\n",
       "      <td>2004-01-03</td>\n",
       "      <td>12.320727</td>\n",
       "    </tr>\n",
       "    <tr>\n",
       "      <th>4</th>\n",
       "      <td>2004-01-05</td>\n",
       "      <td>47.023984</td>\n",
       "    </tr>\n",
       "  </tbody>\n",
       "</table>\n",
       "</div>"
      ],
      "text/plain": [
       "         date         ad\n",
       "2  2004-01-03  12.320727\n",
       "4  2004-01-05  47.023984"
      ]
     },
     "execution_count": 55,
     "metadata": {},
     "output_type": "execute_result"
    }
   ],
   "source": [
    "df.loc[[2,4], ['date','ad']]"
   ]
  },
  {
   "cell_type": "markdown",
   "metadata": {},
   "source": [
    "Once you have your data in a dataframe, you can query the dataframe.  Here's how to show where 'ad' is greater than 50."
   ]
  },
  {
   "cell_type": "code",
   "execution_count": 59,
   "metadata": {},
   "outputs": [
    {
     "data": {
      "text/plain": [
       "0      False\n",
       "1      False\n",
       "2      False\n",
       "3      False\n",
       "4      False\n",
       "5      False\n",
       "6      False\n",
       "7      False\n",
       "8      False\n",
       "9      False\n",
       "10     False\n",
       "11     False\n",
       "12     False\n",
       "13     False\n",
       "14     False\n",
       "15     False\n",
       "16     False\n",
       "17     False\n",
       "18     False\n",
       "19      True\n",
       "20     False\n",
       "21     False\n",
       "22     False\n",
       "23     False\n",
       "24     False\n",
       "25     False\n",
       "26     False\n",
       "27     False\n",
       "28     False\n",
       "29      True\n",
       "       ...  \n",
       "336     True\n",
       "337     True\n",
       "338     True\n",
       "339    False\n",
       "340    False\n",
       "341    False\n",
       "342    False\n",
       "343    False\n",
       "344    False\n",
       "345    False\n",
       "346    False\n",
       "347    False\n",
       "348     True\n",
       "349     True\n",
       "350     True\n",
       "351    False\n",
       "352    False\n",
       "353    False\n",
       "354    False\n",
       "355    False\n",
       "356    False\n",
       "357     True\n",
       "358    False\n",
       "359    False\n",
       "360    False\n",
       "361    False\n",
       "362    False\n",
       "363    False\n",
       "364    False\n",
       "365    False\n",
       "Name: ad, Length: 366, dtype: bool"
      ]
     },
     "execution_count": 59,
     "metadata": {},
     "output_type": "execute_result"
    }
   ],
   "source": [
    "df['ad']>50"
   ]
  },
  {
   "cell_type": "markdown",
   "metadata": {},
   "source": [
    "## 9. Making simple plots"
   ]
  },
  {
   "cell_type": "markdown",
   "metadata": {},
   "source": [
    "Most plotting in python is done with the matplotlib library.  This was already read in with the \"magic command\" %pylab, and was given the nickname \"plt\".  So to use this library, we'll be typing \"plt\" a lot; to google information about plotting in python, you'll want to use searches like \"How to plot circles matplotlib python\".\n",
    "\n",
    "A popular strategy for making python plots is to find a feature you're interested in (for example, a bar chart) on the matplotlib thumbnail gallery:\n",
    "http://matplotlib.org/gallery.html\n",
    "Then click on it to find the code that produced it.\n",
    "\n",
    "All plots will begin with the same few lines of code:\n",
    "\n",
    "* fig=plt.figure(figsize=(10,4)) will create a new figure, with the requested size (x by y)\n",
    "\n",
    "* ax1=fig.add_subplot(111) will add an axis (called \"ax1\") to this figure.  111 means to make this axis the first on a 1x1 grid of axes. \n",
    "\n",
    "Most plots will also include these lines:\n",
    "\n",
    "* ax1.set_xlim([startx,endx])  : Set the x limits of your plot\n",
    "* ax1.set_ylim([starty,endy])  : Set the y limits of your plot\n",
    "* ax1.set_xlabel('my x label here') : Set the label for the x axis\n",
    "* ax1.set_ylabel('my y label here') : Set the label for the y axis\n",
    "* ax1.set_title('my label here') : Set a title for your plot\n",
    "* fig.savefig('myplotname.png') : Save your plot!"
   ]
  },
  {
   "cell_type": "markdown",
   "metadata": {},
   "source": [
    "Let's use our NOx dataset to see how NOx concentrations vary with time at a couple of different sites.  "
   ]
  },
  {
   "cell_type": "markdown",
   "metadata": {},
   "source": [
    "### Example plots of NOx data"
   ]
  },
  {
   "cell_type": "markdown",
   "metadata": {},
   "source": [
    "Before getting into the plotting details, we'll need to make some changes to the dates so that python can read them properly."
   ]
  },
  {
   "cell_type": "code",
   "execution_count": 60,
   "metadata": {
    "collapsed": true
   },
   "outputs": [],
   "source": [
    "from datetime import datetime\n",
    "\n",
    "#Here, we'll convert the dates in the data frame to a special python \"datetime\" format.\n",
    "time_format = '%Y-%m-%d'\n",
    "time = [datetime.strptime(i,time_format ) for i in df['date']]"
   ]
  },
  {
   "cell_type": "markdown",
   "metadata": {},
   "source": [
    "Here's an example scatter plot showing the data for locations 'ad' and 'ba'."
   ]
  },
  {
   "cell_type": "code",
   "execution_count": 61,
   "metadata": {},
   "outputs": [
    {
     "data": {
      "image/png": "[encoded data removed]",
      "text/plain": [
       "<Figure size 1200x400 with 1 Axes>"
      ]
     },
     "metadata": {},
     "output_type": "display_data"
    }
   ],
   "source": [
    "fig=plt.figure(figsize=(12,4))\n",
    "ax1=fig.add_subplot(111)\n",
    "\n",
    "#Here we'll extract data from the pandas dataframe and assign it to the variables x,\n",
    "#y1 and y2\n",
    "x = time\n",
    "y1=df['ad']\n",
    "y2=df['ba']\n",
    "\n",
    "ax1.plot(x,y1, 'ro', label='ad')   #We can make this a scatter plot by specifying 'r' (red) and 'o' (circles)\n",
    "ax1.plot(x,y1, 'r')   #By default, python will plot a line connecting all (x,y) points\n",
    "#Notice that if we use multiple plot commands, python will put all of the plots on top of\n",
    "#each other!\n",
    "\n",
    "ax1.plot(x,y2, 'bo', label='ba')   #We can make this a scatter plot by specifying 'r' (red) and 'o' (circles)\n",
    "ax1.plot(x,y2, 'b')   #By default, python will plot a line connecting all (x,y) points\n",
    "#Notice that if we use multiple plot commands, python will put all of the plots on top of\n",
    "#each other!\n",
    "\n",
    "ax1.set_xlabel('Date')\n",
    "ax1.set_ylabel('NOx concentration [ppb]')\n",
    "ax1.set_title('Daily average NOx concentrations in Switzerland')\n",
    "\n",
    "#Use this command to create a legend\n",
    "ax1.legend()\n",
    "\n",
    "#Use this command to save your plot in png format\n",
    "fig.savefig('NOx_plot1.png')"
   ]
  },
  {
   "cell_type": "markdown",
   "metadata": {},
   "source": [
    "**Try it**: Try making your own plot.  Copy the code above into a new cell, then modify the code to plot the NOx concentrations in the 'ef' and 'la' regions.  Make the symbols stars instead of circles, and connect them with dotted lines.  "
   ]
  },
  {
   "cell_type": "markdown",
   "metadata": {},
   "source": [
    "## 10. Simple statistical calculations"
   ]
  },
  {
   "cell_type": "markdown",
   "metadata": {},
   "source": [
    "We can also use our dataset to perform some simple statistical tests and calculations."
   ]
  },
  {
   "cell_type": "markdown",
   "metadata": {},
   "source": [
    "### Correlation coefficient (Pearson's r)"
   ]
  },
  {
   "cell_type": "markdown",
   "metadata": {},
   "source": [
    "The correlation coefficient (also known as Pearson's r) is a way to measure the strength of the relationship between two variables. Using the pearsonr routine in the scipy.stats.stats library, we can test whether the NOx concentrations in the 'ad' and 'ba' regions are correlated."
   ]
  },
  {
   "cell_type": "code",
   "execution_count": 62,
   "metadata": {},
   "outputs": [
    {
     "name": "stdout",
     "output_type": "stream",
     "text": [
      "(0.73369469144761934, 1.0848759351714905e-59)\n"
     ]
    }
   ],
   "source": [
    "from scipy.stats.stats import pearsonr\n",
    "\n",
    "fins=np.logical_and(np.isfinite(y1), np.isfinite(y2)) #This line will let us remove some missing datapoints\n",
    "corr = pearsonr(y1[fins], y2[fins]) #Returns Pearson correlation coefficient, p-value for non-correlation\n",
    "print(corr)   "
   ]
  },
  {
   "cell_type": "markdown",
   "metadata": {},
   "source": [
    "The high correlation coefficient and low p-value tell us that these two variables are highly correlated.  Let's look at it further by performing linear regression."
   ]
  },
  {
   "cell_type": "markdown",
   "metadata": {},
   "source": [
    "### Linear regression (a.k.a., fitting a line)"
   ]
  },
  {
   "cell_type": "code",
   "execution_count": 63,
   "metadata": {},
   "outputs": [
    {
     "data": {
      "text/plain": [
       "Text(2, 10, 'p = 1.08487593517e-59')"
      ]
     },
     "execution_count": 63,
     "metadata": {},
     "output_type": "execute_result"
    },
    {
     "data": {
      "image/png": "[encoded data removed]",
      "text/plain": [
       "<Figure size 800x400 with 1 Axes>"
      ]
     },
     "metadata": {},
     "output_type": "display_data"
    }
   ],
   "source": [
    "from scipy import stats\n",
    "\n",
    "fig=plt.figure(figsize=(8,4))\n",
    "\n",
    "#Here, I'll perform linear regression using the stats.linregress routine\n",
    "slope, intercept, r_value, p_value, std_err = stats.linregress(y1[fins],y2[fins])\n",
    "\n",
    "#Then, I'll make a scatter plot of the data and plot the best-fit line on top\n",
    "ax1=fig.add_subplot(111)\n",
    "ax1.plot(y1,y2,'.')\n",
    "ax1.plot(y1,y1*slope+intercept)\n",
    "ax1.text(2,10,'p = '+str(p_value))"
   ]
  },
  {
   "cell_type": "markdown",
   "metadata": {},
   "source": [
    "**Try it:** Fit a line to the 'ef' and 'la' data and plot the line and data.  Make the line green, and data blue.  Given the p value, are the data correlated?"
   ]
  },
  {
   "cell_type": "markdown",
   "metadata": {},
   "source": [
    "### t-test.  We can perform a simple t-test to see if two datasets have the same mean."
   ]
  },
  {
   "cell_type": "code",
   "execution_count": 64,
   "metadata": {},
   "outputs": [
    {
     "name": "stdout",
     "output_type": "stream",
     "text": [
      "Two sample t-statistic:  2.55744346812\n",
      "Two sample p-value:  0.0107571502115\n",
      " \n"
     ]
    }
   ],
   "source": [
    "from scipy import stats\n",
    "\n",
    "#Two sided t-test to compare two samples.  Null hypothesis = they have the same mean.\n",
    "twosample_results = stats.ttest_ind(y1[fins], y2[fins])\n",
    "\n",
    "print(\"Two sample t-statistic: \", twosample_results.statistic)\n",
    "print(\"Two sample p-value: \", twosample_results.pvalue)\n",
    "print(' ')"
   ]
  },
  {
   "cell_type": "markdown",
   "metadata": {
    "collapsed": true
   },
   "source": [
    "Based on this p-value, we reject the null hypothesis and conclude that the two population means are different at the 0.01 significance level."
   ]
  },
  {
   "cell_type": "code",
   "execution_count": null,
   "metadata": {
    "collapsed": true
   },
   "outputs": [],
   "source": []
  }
 ],
 "metadata": {
  "kernelspec": {
   "display_name": "Python 3",
   "language": "python",
   "name": "python3"
  },
  "language_info": {
   "codemirror_mode": {
    "name": "ipython",
    "version": 3
   },
   "file_extension": ".py",
   "mimetype": "text/x-python",
   "name": "python",
   "nbconvert_exporter": "python",
   "pygments_lexer": "ipython3",
   "version": "3.5.6"
  }
 },
 "nbformat": 4,
 "nbformat_minor": 2
}
