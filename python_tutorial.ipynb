{
 "cells": [
  {
   "cell_type": "markdown",
   "metadata": {},
   "source": [
    "# Introduction to Python"
   ]
  },
  {
   "cell_type": "markdown",
   "metadata": {},
   "source": [
    "The purpose of this workshop is to give you a basic introduction to python and Jupyter Notebooks.  By the end of this workshop, you should be able to use Jupyter Notebooks to do mathematical and statistical calculations and make simple plots."
   ]
  },
  {
   "cell_type": "markdown",
   "metadata": {},
   "source": [
    "## 0. Installing and opening a Jupyter Notebook"
   ]
  },
  {
   "cell_type": "markdown",
   "metadata": {},
   "source": [
    "Jupyter Notebooks are installed on all SciVisLab computers.  If you'd like to install them on your own laptops, (**please do not do this during the tutorial**) go to:\n",
    "https://www.continuum.io/downloads\n",
    "and follow the directions to install the anaconda python package for your operating system.  \n",
    "\n",
    "Once anaconda and Jupyter Notebooks are installed, open a notebook by either clicking on the icon, or by typing \"jupyter notebook\" in a terminal window."
   ]
  },
  {
   "cell_type": "markdown",
   "metadata": {},
   "source": [
    "## 1. Why use python and Jupyter Notebooks? "
   ]
  },
  {
   "cell_type": "markdown",
   "metadata": {},
   "source": [
    "python is:\n",
    "\n",
    "1. Relatively easy to learn (syntax is uncomplicated)\n",
    "2. Widely used and full featured (Answers to questions are easy to find; pre-written routines abound.  Google is your friend)\n",
    "3. Extremely flexible - python makes extensive use of libraries that extend its functionality (e.g., SciPy ecosystem)"
   ]
  },
  {
   "cell_type": "markdown",
   "metadata": {},
   "source": [
    "Jupyter Notebooks:\n",
    "\n",
    "1. Allow for the mixing of code with comments and plots\n",
    "2. Retain documentation of your work\n",
    "3. Provide an aesthetic python workspace\n",
    "4. Come with pre-packaged access to common scientific and mathematical libraries\n",
    "\n",
    "You can think of a Jupyter Notebook as an interactive scientific journal where you keep notes about everything you've done."
   ]
  },
  {
   "cell_type": "markdown",
   "metadata": {},
   "source": [
    "## 2. Jupyter Notebook basics"
   ]
  },
  {
   "cell_type": "markdown",
   "metadata": {},
   "source": [
    "Jupyter Notebooks consist of a series of cells.  To add a new cell, click the + above.  To move a cell around, click the up or down arrows.  To remove a cell, use the scissors.  To execute the code in a cell, use the play button, or press Shift+Return.\n",
    "\n",
    "Use the up and down arrows on your keyboard to move between cells.  To edit an existing cell, double click on it.  To exit editing mode, press Shift+Return."
   ]
  },
  {
   "cell_type": "markdown",
   "metadata": {},
   "source": [
    "Jupyter Notebooks consist of comments, in the form of Markdown (which is similar to LaTeX), and python code.  Each cell has one of these formats.  To change the format of a cell, choose Code or Markdown from the dropdown menu above.\n",
    "\n",
    "So far, all of our cells have been in Markdown format.  Markdown format also allows you to write down equations, by enclosing the equation in dollar signs, and using LaTeX code.  For example,/\n",
    "\n",
    "$y=\\int_0^\\infty x^2 dx$"
   ]
  },
  {
   "cell_type": "markdown",
   "metadata": {},
   "source": [
    "<b>Try it:</b>  Add a new cell in your notebook below this one that shows the equation for the pythagorean theorem."
   ]
  },
  {
   "cell_type": "markdown",
   "metadata": {},
   "source": [
    "Jupyter Notebooks utilize a \"kernel\", which saves all of the information from any code you've run so far.  (For example, if you run the code \"x=2\", the kernel will know that x=2 until you either re-define x, or quit the notebook).  It's important to realize that:\n",
    "\n",
    "* Information needs to re-entered each time you open your notebook.  The kernel saves no information from the last time you opened the notebook.\n",
    "* Information is saved in the order you run the code.  It doesn't care about the order of the cells in the notebook.\n",
    "* You can reset all of the stored values in your notebook (with or without erasing the output of your code) by choosing Kernel:Restart.  "
   ]
  },
  {
   "cell_type": "markdown",
   "metadata": {},
   "source": [
    "**Try it:** Go to Kernel: Restart and select ``Clear all outputs and restart''"
   ]
  },
  {
   "cell_type": "markdown",
   "metadata": {},
   "source": [
    "Save your notebook by going to File: Save and Checkpoint, or (on a Mac) by typing Command-S.  Save early and often!  By default, a new notebook will be called \"Untitled\".  Change its name by going to File: Rename..."
   ]
  },
  {
   "cell_type": "markdown",
   "metadata": {},
   "source": [
    "Jupyter Notebooks have a built in \"Magic function\" that will run \"import numpy as np\", as well as \"import matplotlib.pyplot as plt\" (which reads in a set of plotting tools).  If you give it the argument \"inline\", it will also make all of your plots show up in the notebook itself, rather than in a separate window.\n",
    "\n",
    "The \"magic function\" is executed below by Shift+Return.\n",
    "\n",
    "**All of your notebooks should begin with this line of code.  Trust me, it will make your life better.**"
   ]
  },
  {
   "cell_type": "code",
   "execution_count": 7,
   "metadata": {},
   "outputs": [
    {
     "name": "stdout",
     "output_type": "stream",
     "text": [
      "Populating the interactive namespace from numpy and matplotlib\n"
     ]
    }
   ],
   "source": [
    "%pylab inline"
   ]
  },
  {
   "cell_type": "markdown",
   "metadata": {},
   "source": [
    "## 3. How to use python libraries"
   ]
  },
  {
   "cell_type": "markdown",
   "metadata": {},
   "source": [
    "Virtually all work you will want to perform in python will require the use of external libraries, so let's review this first.\n",
    "\n",
    "Any time you want to use tools from a library, you will need to read in these tools.  Here is how to read in python libraries, or tools from within libraries."
   ]
  },
  {
   "cell_type": "markdown",
   "metadata": {},
   "source": [
    "Here is an example of reading in a library:"
   ]
  },
  {
   "cell_type": "code",
   "execution_count": 2,
   "metadata": {
    "collapsed": true
   },
   "outputs": [],
   "source": [
    "import math"
   ]
  },
  {
   "cell_type": "markdown",
   "metadata": {},
   "source": [
    "What I've done above is read in (import) the math library. This imports all the functions and constants provided by the library.  Run the above code by pressing Shift+Return in the above cell."
   ]
  },
  {
   "cell_type": "markdown",
   "metadata": {},
   "source": [
    "To see what functions and constants you just imported run the following: "
   ]
  },
  {
   "cell_type": "code",
   "execution_count": 3,
   "metadata": {},
   "outputs": [
    {
     "name": "stdout",
     "output_type": "stream",
     "text": [
      "Help on module math:\n",
      "\n",
      "NAME\n",
      "    math\n",
      "\n",
      "MODULE REFERENCE\n",
      "    https://docs.python.org/3.5/library/math\n",
      "    \n",
      "    The following documentation is automatically generated from the Python\n",
      "    source files.  It may be incomplete, incorrect or include features that\n",
      "    are considered implementation detail and may vary between Python\n",
      "    implementations.  When in doubt, consult the module reference at the\n",
      "    location listed above.\n",
      "\n",
      "DESCRIPTION\n",
      "    This module is always available.  It provides access to the\n",
      "    mathematical functions defined by the C standard.\n",
      "\n",
      "FUNCTIONS\n",
      "    acos(...)\n",
      "        acos(x)\n",
      "        \n",
      "        Return the arc cosine (measured in radians) of x.\n",
      "    \n",
      "    acosh(...)\n",
      "        acosh(x)\n",
      "        \n",
      "        Return the inverse hyperbolic cosine of x.\n",
      "    \n",
      "    asin(...)\n",
      "        asin(x)\n",
      "        \n",
      "        Return the arc sine (measured in radians) of x.\n",
      "    \n",
      "    asinh(...)\n",
      "        asinh(x)\n",
      "        \n",
      "        Return the inverse hyperbolic sine of x.\n",
      "    \n",
      "    atan(...)\n",
      "        atan(x)\n",
      "        \n",
      "        Return the arc tangent (measured in radians) of x.\n",
      "    \n",
      "    atan2(...)\n",
      "        atan2(y, x)\n",
      "        \n",
      "        Return the arc tangent (measured in radians) of y/x.\n",
      "        Unlike atan(y/x), the signs of both x and y are considered.\n",
      "    \n",
      "    atanh(...)\n",
      "        atanh(x)\n",
      "        \n",
      "        Return the inverse hyperbolic tangent of x.\n",
      "    \n",
      "    ceil(...)\n",
      "        ceil(x)\n",
      "        \n",
      "        Return the ceiling of x as an Integral.\n",
      "        This is the smallest integer >= x.\n",
      "    \n",
      "    copysign(...)\n",
      "        copysign(x, y)\n",
      "        \n",
      "        Return a float with the magnitude (absolute value) of x but the sign \n",
      "        of y. On platforms that support signed zeros, copysign(1.0, -0.0) \n",
      "        returns -1.0.\n",
      "    \n",
      "    cos(...)\n",
      "        cos(x)\n",
      "        \n",
      "        Return the cosine of x (measured in radians).\n",
      "    \n",
      "    cosh(...)\n",
      "        cosh(x)\n",
      "        \n",
      "        Return the hyperbolic cosine of x.\n",
      "    \n",
      "    degrees(...)\n",
      "        degrees(x)\n",
      "        \n",
      "        Convert angle x from radians to degrees.\n",
      "    \n",
      "    erf(...)\n",
      "        erf(x)\n",
      "        \n",
      "        Error function at x.\n",
      "    \n",
      "    erfc(...)\n",
      "        erfc(x)\n",
      "        \n",
      "        Complementary error function at x.\n",
      "    \n",
      "    exp(...)\n",
      "        exp(x)\n",
      "        \n",
      "        Return e raised to the power of x.\n",
      "    \n",
      "    expm1(...)\n",
      "        expm1(x)\n",
      "        \n",
      "        Return exp(x)-1.\n",
      "        This function avoids the loss of precision involved in the direct evaluation of exp(x)-1 for small x.\n",
      "    \n",
      "    fabs(...)\n",
      "        fabs(x)\n",
      "        \n",
      "        Return the absolute value of the float x.\n",
      "    \n",
      "    factorial(...)\n",
      "        factorial(x) -> Integral\n",
      "        \n",
      "        Find x!. Raise a ValueError if x is negative or non-integral.\n",
      "    \n",
      "    floor(...)\n",
      "        floor(x)\n",
      "        \n",
      "        Return the floor of x as an Integral.\n",
      "        This is the largest integer <= x.\n",
      "    \n",
      "    fmod(...)\n",
      "        fmod(x, y)\n",
      "        \n",
      "        Return fmod(x, y), according to platform C.  x % y may differ.\n",
      "    \n",
      "    frexp(...)\n",
      "        frexp(x)\n",
      "        \n",
      "        Return the mantissa and exponent of x, as pair (m, e).\n",
      "        m is a float and e is an int, such that x = m * 2.**e.\n",
      "        If x is 0, m and e are both 0.  Else 0.5 <= abs(m) < 1.0.\n",
      "    \n",
      "    fsum(...)\n",
      "        fsum(iterable)\n",
      "        \n",
      "        Return an accurate floating point sum of values in the iterable.\n",
      "        Assumes IEEE-754 floating point arithmetic.\n",
      "    \n",
      "    gamma(...)\n",
      "        gamma(x)\n",
      "        \n",
      "        Gamma function at x.\n",
      "    \n",
      "    gcd(...)\n",
      "        gcd(x, y) -> int\n",
      "        greatest common divisor of x and y\n",
      "    \n",
      "    hypot(...)\n",
      "        hypot(x, y)\n",
      "        \n",
      "        Return the Euclidean distance, sqrt(x*x + y*y).\n",
      "    \n",
      "    isclose(...)\n",
      "        isclose(a, b, *, rel_tol=1e-09, abs_tol=0.0) -> bool\n",
      "        \n",
      "        Determine whether two floating point numbers are close in value.\n",
      "        \n",
      "           rel_tol\n",
      "               maximum difference for being considered \"close\", relative to the\n",
      "               magnitude of the input values\n",
      "            abs_tol\n",
      "               maximum difference for being considered \"close\", regardless of the\n",
      "               magnitude of the input values\n",
      "        \n",
      "        Return True if a is close in value to b, and False otherwise.\n",
      "        \n",
      "        For the values to be considered close, the difference between them\n",
      "        must be smaller than at least one of the tolerances.\n",
      "        \n",
      "        -inf, inf and NaN behave similarly to the IEEE 754 Standard.  That\n",
      "        is, NaN is not close to anything, even itself.  inf and -inf are\n",
      "        only close to themselves.\n",
      "    \n",
      "    isfinite(...)\n",
      "        isfinite(x) -> bool\n",
      "        \n",
      "        Return True if x is neither an infinity nor a NaN, and False otherwise.\n",
      "    \n",
      "    isinf(...)\n",
      "        isinf(x) -> bool\n",
      "        \n",
      "        Return True if x is a positive or negative infinity, and False otherwise.\n",
      "    \n",
      "    isnan(...)\n",
      "        isnan(x) -> bool\n",
      "        \n",
      "        Return True if x is a NaN (not a number), and False otherwise.\n",
      "    \n",
      "    ldexp(...)\n",
      "        ldexp(x, i)\n",
      "        \n",
      "        Return x * (2**i).\n",
      "    \n",
      "    lgamma(...)\n",
      "        lgamma(x)\n",
      "        \n",
      "        Natural logarithm of absolute value of Gamma function at x.\n",
      "    \n",
      "    log(...)\n",
      "        log(x[, base])\n",
      "        \n",
      "        Return the logarithm of x to the given base.\n",
      "        If the base not specified, returns the natural logarithm (base e) of x.\n",
      "    \n",
      "    log10(...)\n",
      "        log10(x)\n",
      "        \n",
      "        Return the base 10 logarithm of x.\n",
      "    \n",
      "    log1p(...)\n",
      "        log1p(x)\n",
      "        \n",
      "        Return the natural logarithm of 1+x (base e).\n",
      "        The result is computed in a way which is accurate for x near zero.\n",
      "    \n",
      "    log2(...)\n",
      "        log2(x)\n",
      "        \n",
      "        Return the base 2 logarithm of x.\n",
      "    \n",
      "    modf(...)\n",
      "        modf(x)\n",
      "        \n",
      "        Return the fractional and integer parts of x.  Both results carry the sign\n",
      "        of x and are floats.\n",
      "    \n",
      "    pow(...)\n",
      "        pow(x, y)\n",
      "        \n",
      "        Return x**y (x to the power of y).\n",
      "    \n",
      "    radians(...)\n",
      "        radians(x)\n",
      "        \n",
      "        Convert angle x from degrees to radians.\n",
      "    \n",
      "    sin(...)\n",
      "        sin(x)\n",
      "        \n",
      "        Return the sine of x (measured in radians).\n",
      "    \n",
      "    sinh(...)\n",
      "        sinh(x)\n",
      "        \n",
      "        Return the hyperbolic sine of x.\n",
      "    \n",
      "    sqrt(...)\n",
      "        sqrt(x)\n",
      "        \n",
      "        Return the square root of x.\n",
      "    \n",
      "    tan(...)\n",
      "        tan(x)\n",
      "        \n",
      "        Return the tangent of x (measured in radians).\n",
      "    \n",
      "    tanh(...)\n",
      "        tanh(x)\n",
      "        \n",
      "        Return the hyperbolic tangent of x.\n",
      "    \n",
      "    trunc(...)\n",
      "        trunc(x:Real) -> Integral\n",
      "        \n",
      "        Truncates x to the nearest Integral toward 0. Uses the __trunc__ magic method.\n",
      "\n",
      "DATA\n",
      "    e = 2.718281828459045\n",
      "    inf = inf\n",
      "    nan = nan\n",
      "    pi = 3.141592653589793\n",
      "\n",
      "FILE\n",
      "    /Users/csalyk/anaconda/lib/python3.5/lib-dynload/math.cpython-35m-darwin.so\n",
      "\n",
      "\n"
     ]
    }
   ],
   "source": [
    "help(math)"
   ]
  },
  {
   "cell_type": "markdown",
   "metadata": {},
   "source": [
    "To use a function within the library we use the following <tt>library.function</tt> naming convention.  The library name followed by a . (dot) and then the function name.  For example if you want use the square root function from the math library you would type:"
   ]
  },
  {
   "cell_type": "code",
   "execution_count": 4,
   "metadata": {},
   "outputs": [
    {
     "data": {
      "text/plain": [
       "2.0"
      ]
     },
     "execution_count": 4,
     "metadata": {},
     "output_type": "execute_result"
    }
   ],
   "source": [
    "math.sqrt(4)"
   ]
  },
  {
   "cell_type": "code",
   "execution_count": 5,
   "metadata": {},
   "outputs": [
    {
     "name": "stdout",
     "output_type": "stream",
     "text": [
      "3.141592653589793\n"
     ]
    }
   ],
   "source": [
    "print(np.pi)"
   ]
  },
  {
   "cell_type": "markdown",
   "metadata": {},
   "source": [
    "Notice how when you run code in the Jupyter Notebook, any output is shown underneath the cell as output."
   ]
  },
  {
   "cell_type": "markdown",
   "metadata": {},
   "source": [
    "When you import a library you can also rename the library (often to something shorter) as you import it.  The following code imports the [numpy library](https://docs.scipy.org/doc/numpy-dev/user/quickstart.html) (which contains many, many useful tools for doing mathematical calculations) and calls it <tt>np</tt>, as a shortcut. "
   ]
  },
  {
   "cell_type": "code",
   "execution_count": 6,
   "metadata": {
    "collapsed": true
   },
   "outputs": [],
   "source": [
    "import numpy as np "
   ]
  },
  {
   "cell_type": "markdown",
   "metadata": {},
   "source": [
    "<b>Try it:</b> we'll learn more about <tt>numpy</tt> below, but just like the <tt>math</tt> library, it also provides a <tt>sqrt()</tt> function.  In the cell below use the numpy library to calculate the square root of 64.  "
   ]
  },
  {
   "cell_type": "code",
   "execution_count": 7,
   "metadata": {},
   "outputs": [
    {
     "data": {
      "text/plain": [
       "8.0"
      ]
     },
     "execution_count": 7,
     "metadata": {},
     "output_type": "execute_result"
    }
   ],
   "source": [
    "np.sqrt(64.)"
   ]
  },
  {
   "cell_type": "markdown",
   "metadata": {},
   "source": [
    "## 4. Python as a calculator"
   ]
  },
  {
   "cell_type": "markdown",
   "metadata": {},
   "source": [
    "The simplest task for python is for it to act as a calculator.  Try running the following bits of code:"
   ]
  },
  {
   "cell_type": "code",
   "execution_count": 8,
   "metadata": {},
   "outputs": [
    {
     "data": {
      "text/plain": [
       "5"
      ]
     },
     "execution_count": 8,
     "metadata": {},
     "output_type": "execute_result"
    }
   ],
   "source": [
    "3+2"
   ]
  },
  {
   "cell_type": "markdown",
   "metadata": {},
   "source": [
    "**Try it:** Use Python as a calculator to compute 5!, factorial of 5.  "
   ]
  },
  {
   "cell_type": "code",
   "execution_count": 9,
   "metadata": {},
   "outputs": [
    {
     "ename": "SyntaxError",
     "evalue": "invalid syntax (<ipython-input-9-6ece360ba2b3>, line 1)",
     "output_type": "error",
     "traceback": [
      "\u001b[0;36m  File \u001b[0;32m\"<ipython-input-9-6ece360ba2b3>\"\u001b[0;36m, line \u001b[0;32m1\u001b[0m\n\u001b[0;31m    5!\u001b[0m\n\u001b[0m     ^\u001b[0m\n\u001b[0;31mSyntaxError\u001b[0m\u001b[0;31m:\u001b[0m invalid syntax\n"
     ]
    }
   ],
   "source": [
    "5!"
   ]
  },
  {
   "cell_type": "markdown",
   "metadata": {},
   "source": [
    "**Try it:** Use the <tt>factorial</tt> function in the math library to compute the factorial of 5."
   ]
  },
  {
   "cell_type": "code",
   "execution_count": 10,
   "metadata": {},
   "outputs": [
    {
     "data": {
      "text/plain": [
       "120"
      ]
     },
     "execution_count": 10,
     "metadata": {},
     "output_type": "execute_result"
    }
   ],
   "source": [
    "math.factorial(5)"
   ]
  },
  {
   "cell_type": "markdown",
   "metadata": {},
   "source": [
    "Python is case sensitive.  Try running the code below.  You should get an error."
   ]
  },
  {
   "cell_type": "code",
   "execution_count": 11,
   "metadata": {},
   "outputs": [
    {
     "ename": "AttributeError",
     "evalue": "module 'math' has no attribute 'Factorial'",
     "output_type": "error",
     "traceback": [
      "\u001b[0;31m---------------------------------------------------------------------------\u001b[0m",
      "\u001b[0;31mAttributeError\u001b[0m                            Traceback (most recent call last)",
      "\u001b[0;32m<ipython-input-11-ee6e393ed922>\u001b[0m in \u001b[0;36m<module>\u001b[0;34m()\u001b[0m\n\u001b[0;32m----> 1\u001b[0;31m \u001b[0mmath\u001b[0m\u001b[0;34m.\u001b[0m\u001b[0mFactorial\u001b[0m\u001b[0;34m(\u001b[0m\u001b[0;36m5\u001b[0m\u001b[0;34m)\u001b[0m\u001b[0;34m\u001b[0m\u001b[0m\n\u001b[0m",
      "\u001b[0;31mAttributeError\u001b[0m: module 'math' has no attribute 'Factorial'"
     ]
    }
   ],
   "source": [
    "math.Factorial(5)"
   ]
  },
  {
   "cell_type": "markdown",
   "metadata": {},
   "source": [
    "<tt>np.log()</tt> is another example of a function.  Does the code below produce what you expected?  Why or why not?"
   ]
  },
  {
   "cell_type": "code",
   "execution_count": 12,
   "metadata": {},
   "outputs": [
    {
     "data": {
      "text/plain": [
       "4.6051701859880918"
      ]
     },
     "execution_count": 12,
     "metadata": {},
     "output_type": "execute_result"
    }
   ],
   "source": [
    "np.log(100)"
   ]
  },
  {
   "cell_type": "markdown",
   "metadata": {},
   "source": [
    "You can (and should) comment your code.  Placing a <tt>#</tt> on a line will turn everything from the the <tt>#</tt> sign to the end of the line into a comment.  "
   ]
  },
  {
   "cell_type": "code",
   "execution_count": 13,
   "metadata": {},
   "outputs": [
    {
     "data": {
      "text/plain": [
       "3"
      ]
     },
     "execution_count": 13,
     "metadata": {},
     "output_type": "execute_result"
    }
   ],
   "source": [
    "1 + 2 # + 3 this a comment the answer should be 3"
   ]
  },
  {
   "cell_type": "markdown",
   "metadata": {},
   "source": [
    "<tt>numpy</tt> has some handy built-in constants that you might want to use:"
   ]
  },
  {
   "cell_type": "code",
   "execution_count": 14,
   "metadata": {},
   "outputs": [
    {
     "data": {
      "text/plain": [
       "3.141592653589793"
      ]
     },
     "execution_count": 14,
     "metadata": {},
     "output_type": "execute_result"
    }
   ],
   "source": [
    "np.pi"
   ]
  },
  {
   "cell_type": "code",
   "execution_count": 15,
   "metadata": {},
   "outputs": [
    {
     "data": {
      "text/plain": [
       "2.718281828459045"
      ]
     },
     "execution_count": 15,
     "metadata": {},
     "output_type": "execute_result"
    }
   ],
   "source": [
    "np.e"
   ]
  },
  {
   "cell_type": "markdown",
   "metadata": {},
   "source": [
    "Python has a somewhat unusual format for computing exponents."
   ]
  },
  {
   "cell_type": "code",
   "execution_count": 16,
   "metadata": {},
   "outputs": [
    {
     "data": {
      "text/plain": [
       "9"
      ]
     },
     "execution_count": 16,
     "metadata": {},
     "output_type": "execute_result"
    }
   ],
   "source": [
    "3**2"
   ]
  },
  {
   "cell_type": "markdown",
   "metadata": {},
   "source": [
    "Be careful - python strictly follows order of operation rules! Compare the following:"
   ]
  },
  {
   "cell_type": "code",
   "execution_count": 17,
   "metadata": {},
   "outputs": [
    {
     "data": {
      "text/plain": [
       "4.5"
      ]
     },
     "execution_count": 17,
     "metadata": {},
     "output_type": "execute_result"
    }
   ],
   "source": [
    "3.**2./2."
   ]
  },
  {
   "cell_type": "code",
   "execution_count": 18,
   "metadata": {},
   "outputs": [
    {
     "data": {
      "text/plain": [
       "3.0"
      ]
     },
     "execution_count": 18,
     "metadata": {},
     "output_type": "execute_result"
    }
   ],
   "source": [
    "3.**(2./2.)"
   ]
  },
  {
   "cell_type": "markdown",
   "metadata": {},
   "source": [
    "## 5. Assignments and naming variables"
   ]
  },
  {
   "cell_type": "markdown",
   "metadata": {},
   "source": [
    "You will find yourself wanting to repeatedly type the same value. To avoid having to do this, you can save the value under some name (technically, we’re saving the value to a “variable”) To do this, we can use the equal sign. For example, suppose for some reason we want to save the value 5 into the variable x."
   ]
  },
  {
   "cell_type": "code",
   "execution_count": 19,
   "metadata": {
    "collapsed": true
   },
   "outputs": [],
   "source": [
    "x = 5"
   ]
  },
  {
   "cell_type": "markdown",
   "metadata": {},
   "source": [
    "Notice that nothing really exciting happens on our screen, but in the background, the kernel has now stored the value of 5 into the variable called x. Now type the following and record what happens:"
   ]
  },
  {
   "cell_type": "code",
   "execution_count": 20,
   "metadata": {},
   "outputs": [
    {
     "data": {
      "text/plain": [
       "5"
      ]
     },
     "execution_count": 20,
     "metadata": {},
     "output_type": "execute_result"
    }
   ],
   "source": [
    "x"
   ]
  },
  {
   "cell_type": "code",
   "execution_count": 21,
   "metadata": {},
   "outputs": [
    {
     "name": "stdout",
     "output_type": "stream",
     "text": [
      "5\n"
     ]
    }
   ],
   "source": [
    "print(x)"
   ]
  },
  {
   "cell_type": "code",
   "execution_count": 22,
   "metadata": {},
   "outputs": [
    {
     "name": "stdout",
     "output_type": "stream",
     "text": [
      "15\n"
     ]
    }
   ],
   "source": [
    "print(x+10)"
   ]
  },
  {
   "cell_type": "markdown",
   "metadata": {},
   "source": [
    "Note on Naming Conventions. Here we chose x to be the name of our variable. However, we could have chosen almost any name that’s a combination of letters and numbers. There are a few\n",
    "conditions on the name: no spaces, cannot start with a number, cannot start with a period, and are case-sensitive (e.g. X is not the same as x). There are also some other “reserved” names such as \"if\", \"and\", \"or\", \"not\", \"lambda\", \"where\", and others. Here's what happens if you try to use one of these reserved names:"
   ]
  },
  {
   "cell_type": "code",
   "execution_count": 23,
   "metadata": {},
   "outputs": [
    {
     "ename": "SyntaxError",
     "evalue": "invalid syntax (<ipython-input-23-7bc770600ca3>, line 1)",
     "output_type": "error",
     "traceback": [
      "\u001b[0;36m  File \u001b[0;32m\"<ipython-input-23-7bc770600ca3>\"\u001b[0;36m, line \u001b[0;32m1\u001b[0m\n\u001b[0;31m    lambda = 2\u001b[0m\n\u001b[0m           ^\u001b[0m\n\u001b[0;31mSyntaxError\u001b[0m\u001b[0;31m:\u001b[0m invalid syntax\n"
     ]
    }
   ],
   "source": [
    "lambda = 2"
   ]
  },
  {
   "cell_type": "markdown",
   "metadata": {},
   "source": [
    "This error isn't very useful!  But note that the notebook changed the variable name's color to green. This is a sign that lambda is a reserved word."
   ]
  },
  {
   "cell_type": "markdown",
   "metadata": {},
   "source": [
    "## 6. Data structures: Lists and dictionaries"
   ]
  },
  {
   "cell_type": "markdown",
   "metadata": {},
   "source": [
    "Python has a few other built-data structures that you might come across or find useful.  "
   ]
  },
  {
   "cell_type": "markdown",
   "metadata": {},
   "source": [
    "### Lists"
   ]
  },
  {
   "cell_type": "markdown",
   "metadata": {},
   "source": [
    "Lists are an ordered collection of items and they can contain any kind of data (not just numbers). Lists are also helpful because you can use the \"append\" function."
   ]
  },
  {
   "cell_type": "code",
   "execution_count": 24,
   "metadata": {},
   "outputs": [
    {
     "name": "stdout",
     "output_type": "stream",
     "text": [
      "[1, 2, 3, 'hello', 'blue']\n"
     ]
    }
   ],
   "source": [
    "x=[1,2,3,'hello','blue']\n",
    "print(x)"
   ]
  },
  {
   "cell_type": "code",
   "execution_count": 25,
   "metadata": {},
   "outputs": [
    {
     "name": "stdout",
     "output_type": "stream",
     "text": [
      "[1, 2, 3, 'hello', 'blue', 'red']\n"
     ]
    }
   ],
   "source": [
    "x.append('red')\n",
    "print(x)"
   ]
  },
  {
   "cell_type": "markdown",
   "metadata": {},
   "source": [
    "You can access an individual item in the list by refering to it's index. But remember the first element in the array starts with 0. "
   ]
  },
  {
   "cell_type": "code",
   "execution_count": 26,
   "metadata": {},
   "outputs": [
    {
     "data": {
      "text/plain": [
       "1"
      ]
     },
     "execution_count": 26,
     "metadata": {},
     "output_type": "execute_result"
    }
   ],
   "source": [
    "x[0]"
   ]
  },
  {
   "cell_type": "code",
   "execution_count": 27,
   "metadata": {},
   "outputs": [
    {
     "name": "stdout",
     "output_type": "stream",
     "text": [
      "hello\n",
      "red\n",
      "['blue', 'red']\n"
     ]
    }
   ],
   "source": [
    "print(x[3])\n",
    "print(x[5])\n",
    "x[0]='hi'\n",
    "print(x[4:6])"
   ]
  },
  {
   "cell_type": "markdown",
   "metadata": {},
   "source": [
    "You can also specifiy a range of items in a list by using list slicing.  List slices have an index in the form of <tt>[start:end]</tt> where <tt>start</tt> is the index of the first item in the slice and <tt>end</tt> goes up to but not including the index of <tt>end</tt>.   "
   ]
  },
  {
   "cell_type": "markdown",
   "metadata": {},
   "source": [
    "**Try it:** gues what will be printed with the following code. "
   ]
  },
  {
   "cell_type": "code",
   "execution_count": 28,
   "metadata": {},
   "outputs": [
    {
     "data": {
      "text/plain": [
       "['red']"
      ]
     },
     "execution_count": 28,
     "metadata": {},
     "output_type": "execute_result"
    }
   ],
   "source": [
    "x[5:]"
   ]
  },
  {
   "cell_type": "markdown",
   "metadata": {},
   "source": [
    "If you leave off the start index (before the colon), your slice will start from the begining of the list.  If you leave off the end index (after the color), you slice will go to the end of the array.    "
   ]
  },
  {
   "cell_type": "markdown",
   "metadata": {},
   "source": [
    "**Try it:** What slice will give you the list: <tt>['hello', 'blue', 'red']</tt>?"
   ]
  },
  {
   "cell_type": "code",
   "execution_count": null,
   "metadata": {
    "collapsed": true
   },
   "outputs": [],
   "source": []
  },
  {
   "cell_type": "markdown",
   "metadata": {},
   "source": [
    "Be careful to distinguish between lists and numpy arrays (described below).  Look what happens if you try to multiply this list by 2!  "
   ]
  },
  {
   "cell_type": "code",
   "execution_count": 29,
   "metadata": {},
   "outputs": [
    {
     "data": {
      "text/plain": [
       "['hi', 2, 3, 'hello', 'blue', 'red', 'hi', 2, 3, 'hello', 'blue', 'red']"
      ]
     },
     "execution_count": 29,
     "metadata": {},
     "output_type": "execute_result"
    }
   ],
   "source": [
    "x*2"
   ]
  },
  {
   "cell_type": "markdown",
   "metadata": {},
   "source": [
    "### Dictionaries"
   ]
  },
  {
   "cell_type": "markdown",
   "metadata": {},
   "source": [
    "Dictionaries are a powerful way to associate data with labels.  The label is called a 'key' and the data are called 'values'.  "
   ]
  },
  {
   "cell_type": "code",
   "execution_count": 30,
   "metadata": {},
   "outputs": [
    {
     "name": "stdout",
     "output_type": "stream",
     "text": [
      "0 1\n"
     ]
    }
   ],
   "source": [
    "numbers = {'zero': 0, 'one': 1, 'two' : 2}\n",
    "print(numbers['zero'], numbers['one'])"
   ]
  },
  {
   "cell_type": "markdown",
   "metadata": {},
   "source": [
    "You can probably imagine datasets for which this would be useful!  For example, imagine a set of professors with associated address and department.  "
   ]
  },
  {
   "cell_type": "code",
   "execution_count": 31,
   "metadata": {
    "collapsed": true
   },
   "outputs": [],
   "source": [
    "professors = {'Hu' : ['124 Raymond Ave', 'M&S'], 'Salyk' : ['124 Raymond Ave', 'P&A'],\n",
    "             'An' : ['124 Raymond Ave', 'M&S'], 'Waterman' : ['124 Raymond Ave', 'CS']}"
   ]
  },
  {
   "cell_type": "code",
   "execution_count": 32,
   "metadata": {},
   "outputs": [
    {
     "data": {
      "text/plain": [
       "['124 Raymond Ave', 'M&S']"
      ]
     },
     "execution_count": 32,
     "metadata": {},
     "output_type": "execute_result"
    }
   ],
   "source": [
    "professors['Hu']"
   ]
  },
  {
   "cell_type": "markdown",
   "metadata": {},
   "source": [
    "In fact, the \"value\" in the dictionary can itself be any kind of data structure - even a dictionary itself."
   ]
  },
  {
   "cell_type": "markdown",
   "metadata": {},
   "source": [
    "## 7. Numpy arrays"
   ]
  },
  {
   "cell_type": "markdown",
   "metadata": {},
   "source": [
    "Whenever working with 1D or 2D lists of numbers, you'll want to store them in numpy arrays.  (Numpy arrays are the python equivalent of R vectors, or C arrays).  Here is the format for creating a numpy array:"
   ]
  },
  {
   "cell_type": "code",
   "execution_count": 33,
   "metadata": {
    "collapsed": true
   },
   "outputs": [],
   "source": [
    "x=np.array([1,3,6,3])"
   ]
  },
  {
   "cell_type": "code",
   "execution_count": 34,
   "metadata": {},
   "outputs": [
    {
     "data": {
      "text/plain": [
       "array([1, 3, 6, 3])"
      ]
     },
     "execution_count": 34,
     "metadata": {},
     "output_type": "execute_result"
    }
   ],
   "source": [
    "x"
   ]
  },
  {
   "cell_type": "markdown",
   "metadata": {},
   "source": [
    "The great thing about numpy arrays is that if you do math on them, the math is executed on each and every number in the array!"
   ]
  },
  {
   "cell_type": "code",
   "execution_count": 35,
   "metadata": {},
   "outputs": [
    {
     "data": {
      "text/plain": [
       "array([ 5, 11, 20, 11])"
      ]
     },
     "execution_count": 35,
     "metadata": {},
     "output_type": "execute_result"
    }
   ],
   "source": [
    "x*3+2"
   ]
  },
  {
   "cell_type": "code",
   "execution_count": 36,
   "metadata": {},
   "outputs": [
    {
     "data": {
      "text/plain": [
       "array([ 1.        ,  1.73205081,  2.44948974,  1.73205081])"
      ]
     },
     "execution_count": 36,
     "metadata": {},
     "output_type": "execute_result"
    }
   ],
   "source": [
    "np.sqrt(x)"
   ]
  },
  {
   "cell_type": "markdown",
   "metadata": {},
   "source": [
    "There are a few array types that we tend to use often; these have built-in routines to create them:"
   ]
  },
  {
   "cell_type": "code",
   "execution_count": 37,
   "metadata": {},
   "outputs": [
    {
     "name": "stdout",
     "output_type": "stream",
     "text": [
      "[ 0.  0.  0.  0.  0.  0.  0.  0.  0.  0.]\n",
      "[ 1.  1.  1.  1.  1.  1.  1.  1.  1.  1.]\n"
     ]
    }
   ],
   "source": [
    "x=np.zeros(10)\n",
    "print(x)\n",
    "\n",
    "x=np.zeros(10)+1\n",
    "print(x)"
   ]
  },
  {
   "cell_type": "code",
   "execution_count": 38,
   "metadata": {},
   "outputs": [
    {
     "name": "stdout",
     "output_type": "stream",
     "text": [
      "[ 0.  2.  4.  6.  8.]\n"
     ]
    }
   ],
   "source": [
    "x=np.arange(0,10,2.)   #Array of numbers from 0 to <10, spaced by 1\n",
    "print(x)"
   ]
  },
  {
   "cell_type": "code",
   "execution_count": 39,
   "metadata": {},
   "outputs": [
    {
     "name": "stdout",
     "output_type": "stream",
     "text": [
      "[  4.           4.31578947   4.63157895   4.94736842   5.26315789\n",
      "   5.57894737   5.89473684   6.21052632   6.52631579   6.84210526\n",
      "   7.15789474   7.47368421   7.78947368   8.10526316   8.42105263\n",
      "   8.73684211   9.05263158   9.36842105   9.68421053  10.        ]\n"
     ]
    }
   ],
   "source": [
    "x=np.linspace(4, 10, 20)  #Array of 20 evenly spaced numers, beginning at 4, going to 10\n",
    "print(x)"
   ]
  },
  {
   "cell_type": "markdown",
   "metadata": {},
   "source": [
    "You can also access certain elements of an array, using python's 0-based indexing system."
   ]
  },
  {
   "cell_type": "code",
   "execution_count": 40,
   "metadata": {},
   "outputs": [
    {
     "name": "stdout",
     "output_type": "stream",
     "text": [
      "[ 1  2  3  4  5  6  7  8  9 10]\n",
      "1\n",
      "4\n"
     ]
    }
   ],
   "source": [
    "x=np.arange(1,11,1)\n",
    "print(x)\n",
    "print(x[0])\n",
    "print(x[3])"
   ]
  },
  {
   "cell_type": "markdown",
   "metadata": {},
   "source": [
    "You can also access a range of elements using the syntax [start_index:end_index].  It's a bit non-intuitive, since python indexing begins with zero, and the last element returned is actually end_index-1. "
   ]
  },
  {
   "cell_type": "code",
   "execution_count": 41,
   "metadata": {},
   "outputs": [
    {
     "name": "stdout",
     "output_type": "stream",
     "text": [
      "[3 4]\n"
     ]
    }
   ],
   "source": [
    "print(x[2:4])"
   ]
  },
  {
   "cell_type": "markdown",
   "metadata": {},
   "source": [
    "Python also has a snazzy way to get elements at the end of an rray:"
   ]
  },
  {
   "cell_type": "code",
   "execution_count": 42,
   "metadata": {},
   "outputs": [
    {
     "name": "stdout",
     "output_type": "stream",
     "text": [
      "10\n",
      "[7 8 9]\n"
     ]
    }
   ],
   "source": [
    "print(x[-1])\n",
    "print(x[-4:-1])"
   ]
  },
  {
   "cell_type": "markdown",
   "metadata": {},
   "source": [
    "Numpy arrays can also be 2- (or really n-) dimensional matrices."
   ]
  },
  {
   "cell_type": "code",
   "execution_count": 43,
   "metadata": {
    "scrolled": true
   },
   "outputs": [
    {
     "name": "stdout",
     "output_type": "stream",
     "text": [
      "[[1 2 3]\n",
      " [4 5 6]]\n",
      "[1 4]\n",
      "2\n"
     ]
    }
   ],
   "source": [
    "x=np.array([[1,2,3],[4,5,6]])\n",
    "print(x)\n",
    "print(x[0:2,0])   #element 0,0\n",
    "print(x[0,1])   #element 0,1"
   ]
  },
  {
   "cell_type": "markdown",
   "metadata": {},
   "source": [
    "## 8. Pandas Data Frames"
   ]
  },
  {
   "cell_type": "markdown",
   "metadata": {},
   "source": [
    "When you start dealing with large amount of data, it is helpful to arrange the data as a data frame, which we will describe below.  First let's look at the csv (comma separated values) file we'll be using.    "
   ]
  },
  {
   "cell_type": "code",
   "execution_count": 44,
   "metadata": {
    "scrolled": false
   },
   "outputs": [
    {
     "name": "stdout",
     "output_type": "stream",
     "text": [
      "\"\",\"date\",\"ad\",\"ba\",\"ef\",\"la\",\"lu\",\"re\",\"ri\",\"se\",\"si\",\"st\",\"su\",\"sz\",\"zg\"\n",
      "\"1\",2004-01-01,11.9800087363542,14.6621417249783,17.3327675,7.72978723404255,22.7243836310417,20.1284743541667,6.31510638297872,11.3403732080208,13.4619010619348,13.4038228755208,27.0467824851875,16.2282186103958,25.4943374836875\n",
      "\"2\",2004-01-02,16.9910534850217,18.711748894375,40.3534646666667,8.01468085106383,21.2092948645652,45.2351588913043,8.72595744680851,15.3867881239565,15.7620919040625,19.3400534534783,35.8196285835417,21.1686567182609,34.4695484678723\n",
      "\"3\",2004-01-03,12.3207268291042,8.74608104533333,35.0660198043478,6.83276595744681,26.7656768689375,8.40443522916667,10.310625,11.03831634075,9.815011689125,16.5073503277917,34.8829516254348,16.3714934561458,29.0576758172917\n",
      "\"4\",2004-01-04,13.5280269303958,19.3475927805,26.2741567916667,11.8363829787234,26.510880898125,37.3561275416667,7.00170212765957,19.4225749386042,13.0231483328542,14.972394073875,34.8381582670833,18.1407854026458,26.1602934773913\n",
      "\"5\",2004-01-05,47.0239840775,57.4712998873913,53.34478275,10.7442553191489,58.6024192995833,110.415986093023,1.39893617021277,NA,37.2665950725652,27.8260307735417,78.6999548252083,42.6809489680208,76.8604831691667\n",
      "\"6\",2004-01-06,33.9754850208696,83.4044059183333,NA,18.5097872340426,NA,113.930746208333,1.49702127659574,67.9496982337209,61.6801728625,30.1469265383913,99.5499692022727,38.4814776345652,87.3878706345833\n",
      "\"7\",2004-01-07,NA,88.8947201353488,80.7635851086957,28.0714893617021,65.382964176875,170.415849020833,NA,72.471280644375,64.2604892985417,35.8938485745833,141.582877635435,NA,70.261642143125\n",
      "\"8\",2004-01-08,43.327257909375,48.8350573278261,70.8366588125,NA,46.5119696429167,89.8227358541667,0.982978723404255,43.2918490291667,40.8625263733333,25.5264803666667,68.6847698752083,28.808804260625,NA\n",
      "\"9\",2004-01-09,35.9858920091458,11.7527941293958,59.1523647291667,7.54957446808511,35.5733609820417,43.893102,1.96914893617021,25.9978423870208,NA,NA,26.2715374075833,27.458222332,53.90708537375\n",
      "\"10\",2004-01-10,8.60926967630435,22.2793563345417,25.3784502173913,5.79468085106383,23.6972257679783,47.7358670625,1.0068085106383,12.6063433226304,15.9798862555625,9.94639804945833,46.5944946231739,14.3059484557609,35.7584826559792\n",
      "\"11\",2004-01-11,12.5229128353125,8.479483044,17.8601443958333,3.7931914893617,24.4489602252292,20.4050536041667,0.519148936170213,15.5668669962708,13.5811481848958,15.6186436898958,13.8710676555625,16.9213559214167,37.3102746528261\n",
      "\"12\",2004-01-12,14.60512082425,11.578457884087,39.601396,3.0963829787234,19.7232010533958,48.4250735416667,0.869148936170213,11.6913321330625,12.4644274886667,11.3913953762708,29.2918475695417,14.4234616010625,39.236853422125\n",
      "\"13\",2004-01-13,20.5315975682174,10.3380645298958,35.4567993541667,3.43170212765957,18.5693160663043,43.6664385434783,0.737659574468085,8.71955956988636,9.5527417281087,11.5867735223478,27.2668713814583,24.575592494413,35.2886298315833\n",
      "\"14\",2004-01-14,23.7572921737292,12.3730579027708,56.6672440869565,5.06829787234043,22.50373845575,46.5229109583333,2.28787234042553,NA,12.1695951900625,11.454180924,24.6928456351522,15.6118104163958,NA\n",
      "\"15\",2004-01-15,7.11110191932609,10.0703159062708,32.7373670208333,4.06063829787234,12.8330389756875,40.4046504583333,1.31382978723404,10.6509570281667,10.8865978907083,5.3711174081875,20.3788920239583,12.1689280371042,31.0758440180435\n",
      "\"16\",2004-01-16,10.6660805462083,9.42620900628261,15.39043125,5.23893617021277,42.46982942075,37.6944341458333,1.86021276595745,33.8819239633958,16.2017982337292,24.2414679131087,22.6150584512292,27.9744969020208,65.3918840125\n",
      "\"17\",2004-01-17,10.2438331876087,17.2974867297292,29.3040091458333,3.47872340425532,21.248964676587,27.9730749565217,1.70957446808511,15.0305085068478,8.6085976201087,12.1314322819375,25.5825068397292,16.9364888422826,33.4927337831458\n",
      "\"18\",2004-01-18,7.92185502658333,9.29300312566667,17.9208719130435,2.78404255319149,19.765427541875,7.013825875,3.42382978723404,8.658165328875,7.76071904825,10.1177214354375,17.2447187846739,14.0071439325417,18.3575927084375\n",
      "\"19\",2004-01-19,24.7105569550833,21.0127849640625,51.6933368695652,10.3982978723404,32.1987593270208,61.8868431666667,3.97595744680851,21.3181633924792,19.53964707075,12.4599070255,56.015476956875,19.9850276954583,26.3483955322391\n",
      "\"20\",2004-01-20,53.64730314825,28.6560935633913,93.5031767916667,8.85765957446809,37.6331270818958,50.772167875,3.0363829787234,22.6048606236875,63.6258966109783,28.7378862760435,46.2246856910625,44.6639604431458,53.7532260033542\n",
      "\"21\",2004-01-21,10.4290333499565,33.8811155758333,40.011207625,13.29,37.759346368913,81.8826349565217,8.49418604651163,28.9945227552174,29.6727356345833,18.8785346081875,67.6500014008333,32.8049317455,38.9133017395652\n",
      "\"22\",2004-01-22,29.3595752408958,23.2910367032917,54.754979173913,9.38170212765957,38.1623950933333,57.9751857083333,8.88723404255319,22.1096754916042,15.9616872605833,20.6733484843542,71.3880435271739,28.1449833500833,44.6891093997917\n",
      "\"23\",2004-01-23,44.6694321497917,33.4272681202083,72.1639185,15.3227659574468,59.2061667625,81.7896622291667,8.31808510638298,37.65446349625,18.6052825334583,28.3339523591667,85.2732744341667,41.463461454375,47.4919297869565\n",
      "\"24\",2004-01-24,41.1002198754167,38.3932014673913,66.1857150833333,22.5676595744681,50.324578330625,47.9170525416667,4.2036170212766,43.7418235635417,24.538171039087,32.4295572028261,51.1250143172917,36.2902966958333,44.0287255745833\n",
      "\"25\",2004-01-25,12.488296935,20.2790605981875,19.2242289375,6.19021276595745,30.7283211225435,34.2576465,2.98808510638298,17.8664774628913,16.7448783253125,12.5101020016042,31.2086382912083,25.6661005629783,36.1007651965833\n",
      "\"26\",2004-01-26,12.296535198875,29.2922190366667,NA,8.23531914893617,46.9048478297917,97.8779617916667,3.658125,33.512321795,12.7823491633333,29.0601096255833,85.8373391465217,30.4716577763333,56.4421952745\n",
      "\"27\",2004-01-27,13.2622221706042,37.0858326119565,NA,16.9278723404255,36.2257914197917,72.5077182708333,6.13021276595745,30.0877289610417,24.8509985141667,26.3268305835417,49.1206140927083,30.6357148866667,59.215164335\n",
      "\"28\",2004-01-28,19.3358599797917,21.0183006311458,50.7361825416667,12.6253191489362,22.4471814523542,65.6837493043478,4.99872340425532,15.8467501846667,23.9485635067609,19.5873902891957,32.9326154293478,22.9049298905417,32.63067532725\n",
      "\"29\",2004-01-29,12.2575999968478,12.6148987101702,44.0072467826087,7.67531914893617,15.1127897411522,44.9790140625,3.1263829787234,13.2011974701522,5.5880829043125,10.4997499928958,24.2273764585652,18.4670036491087,33.7616853833125\n",
      "\"30\",2004-01-30,55.5357515139375,45.109496690375,82.1013763125,7.45914893617021,38.3132630059583,136.8044889375,2.38553191489362,30.3112001814167,39.0670016186042,18.5582282199375,68.0792052088542,48.4372876204583,59.1726777777826\n",
      "\"31\",2004-01-31,37.51220745175,21.943896278413,41.6424968541667,8.48765957446808,51.0593924852083,79.1429368125,1.5236170212766,37.2352082183333,27.8583088487708,24.9615520406458,52.0196340184583,40.5805848660417,63.8615448504167\n",
      "\"32\",2004-02-01,23.2754396656739,20.0293528974583,27.7921404583333,3.23936170212766,33.666815226087,25.6726337608696,1.6831914893617,21.9229634307292,10.377136613,19.0924739949348,24.9150807566458,30.538619345,54.737994444375\n",
      "\"33\",2004-02-02,88.2838185770208,37.4760262308333,113.726014717391,11.5727659574468,55.8996944525,122.9288330625,1.39,45.0444830315217,51.3359613270833,27.7843499560417,73.5033522686957,59.4090324981458,92.9885510554167\n",
      "\"34\",2004-02-03,127.85618262375,114.156646835814,183.662873979167,23.0951162790698,65.5587961779167,150.2850685625,1.79840909090909,70.6495669554583,58.8257880914583,25.7242057708333,111.295282913542,64.8921974320417,NA\n",
      "\"35\",2004-02-04,133.372028364583,111.522606877083,186.834165,19.7008510638298,75.4319781325,162.535023651163,0.834468085106383,51.5472281990698,50.7875379652174,31.8679627285833,122.947633933488,58.4039712885417,92.3217873823913\n",
      "\"36\",2004-02-05,129.110453393913,120.507685785417,158.471579833333,19.5542553191489,68.2178513616279,155.6366473125,1.35127659574468,61.9365517679167,58.378632221875,29.9836955814884,127.957884607083,51.6604454413043,92.1629933035417\n",
      "\"37\",2004-02-06,NA,95.4770821970833,144.659673543478,14.3751063829787,69.4960351777083,110.948648416667,1.02085106382979,53.3042919045833,58.3358813977083,31.6786782388958,86.0424748745833,54.0106382927083,94.9380374625\n",
      "\"38\",2004-02-07,35.1885531206458,6.5489808843913,64.6221612083333,5.47808510638298,11.9265547904375,23.5132681666667,1.6031914893617,8.99716244889583,12.1289970245,9.2782918349375,16.5994784575417,13.0345273188958,33.261807084375\n",
      "\"39\",2004-02-08,6.04134887164583,3.3736496126875,12.3839299791667,1.76106382978723,6.70601456960417,8.95310806521739,0.929787234042553,3.18949639145652,2.74579429423913,3.673455943875,6.29446902628261,6.19576073422917,12.6470690616304\n",
      "\"40\",2004-02-09,27.7286303017174,25.4332020330625,NA,4.96723404255319,27.43504694825,60.5315146875,3.00276595744681,16.0477185111458,12.6038522824375,10.6181046041957,25.0419509734375,17.0142366218478,36.4503532944583\n",
      "\"41\",2004-02-10,67.2641930117917,61.5737909379167,101.220169065217,15.6159574468085,57.2595631679167,102.929285020833,4.04191489361702,54.4700627917292,35.1800934739583,18.613660604125,81.4742226206383,40.9207835225208,53.213783014375\n",
      "\"42\",2004-02-11,84.7090262802083,23.0528651036364,140.508353212766,12.8555319148936,37.3487131865745,54.7786661111111,2.9831914893617,29.6642076834043,17.9302104986667,34.4591135578723,48.2281281336222,NA,40.7595124029111\n",
      "\"43\",2004-02-12,51.089459424375,23.8275976936667,85.0536237708333,9.74808510638298,40.4165875376087,34.2925199166667,6.35,21.8039429964783,17.3311467008372,20.6336240549783,74.4734983495833,31.331142201875,44.7546788019565\n",
      "\"44\",2004-02-13,55.7394471508696,53.0448925476087,90.4441976875,10.185625,51.473557785,103.230406333333,9.95085106382979,40.775925978125,44.38996122,27.42508563375,95.7598472429167,35.4517461247826,51.2454864064583\n",
      "\"45\",2004-02-14,22.0015878292083,48.8900276237391,32.8719761304348,10.3304255319149,44.150926624375,72.219293625,10.4251063829787,35.0116834141458,28.6187859218542,18.3424173620833,60.2152535754167,21.7695357785417,46.8150301525\n",
      "\"46\",2004-02-15,10.7287339235,14.5178274063333,24.4240653125,7.27255319148936,30.24104649375,45.9900543913043,6.85021276595745,20.0245446454583,18.2342768997083,14.5900611381458,44.00390053,12.2704520161458,29.3542415029167\n",
      "\"47\",2004-02-16,59.5177955150217,12.7444769425,84.7419375531915,NA,44.6064105495652,40.0505882291667,7.75127659574468,31.5436909855,15.8383063784583,17.8934972598913,70.8423935491667,33.3429905966875,48.859378885\n",
      "\"48\",2004-02-17,54.1142019260417,32.1093400417708,84.1822027391304,16.4036170212766,35.4499198297917,108.335338395833,9.82604651162791,22.571353326625,33.7072571313043,20.6937697457292,72.0047685412766,25.8395597380435,47.9306994997917\n",
      "\"49\",2004-02-18,45.498834198125,26.0752751361957,80.6509339791667,13.9872340425532,34.0468957820833,64.9460350833333,14.634375,27.3222800879167,42.1836232429167,22.5994415356458,68.825720858125,26.5354483025833,54.6160665204167\n",
      "\"50\",2004-02-19,26.2203170553125,6.86010203135417,69.2684274791667,7.82872340425532,30.76889596125,7.40155676086956,9.63702127659574,12.0099670541042,9.10528355,14.5796047945833,36.133091855,19.091787001625,29.496408041087\n",
      "\"51\",2004-02-20,25.8208615120217,12.5049422296458,46.1656785744681,8.81957446808511,30.4206070391111,51.3174207291667,10.4578723404255,22.688997074587,10.9113934670208,19.2201521714667,52.3220279987917,31.0926693936957,43.113483474375\n",
      "\"52\",2004-02-21,2.3784886835,29.9587812620833,7.01954723913043,11.4893617021277,42.33209731,68.76005475,2.74829787234043,40.0887324202083,26.4470774091304,25.0712047370833,58.5677823997917,7.14064466260417,48.8755735470833\n",
      "\"53\",2004-02-22,22.775841676875,44.3782930630435,32.1198319375,16.0970212765957,44.9568041789583,44.0914592291667,5.40468085106383,33.2232028842917,40.0503450225,24.4731005954167,48.3764348675,27.5556250072917,56.2638920716667\n",
      "\"54\",2004-02-23,9.23054321202128,19.7314128688125,43.2710318958333,6.32744680851064,25.0421248483333,40.7480427608696,8.7531914893617,22.8574122971957,30.92466809325,16.9568567208333,69.5443677230435,15.5061312382083,46.1770785917391\n",
      "\"55\",2004-02-24,13.8587683602174,44.4844518677083,44.1718514583333,12.2017021276596,36.9587819231818,110.594025957447,6.21829787234043,33.0951638792292,32.704298708913,14.3902205420652,72.7266716372917,16.7689155106304,34.4857598989583\n",
      "\"56\",2004-02-25,41.6949997258333,54.674855638125,64.6316317954545,13.2804255319149,48.9953302827083,129.173309395833,4.54404255319149,38.7656651307917,48.2848569989583,20.6560473348125,88.7686245660417,23.848640484375,52.998569870625\n",
      "\"57\",2004-02-26,21.6368849992292,37.0664311242609,52.5519889777778,10.4451063829787,39.1017507470833,96.0014116875,7.50170212765957,26.2193033735417,38.2549243627083,20.3991585806458,69.059098086383,17.9869945245,44.040942745\n",
      "\"58\",2004-02-27,11.7541945043333,21.7457438610833,36.4475219565217,7.49468085106383,26.466359759375,105.994757021739,7.06234042553192,24.4161110869333,28.6025745733261,12.8749987732917,77.0210379858696,18.5280261897083,41.637281581413\n",
      "\"59\",2004-02-28,12.401386115087,31.8237508826042,33.1895373695652,14.0602127659574,31.16766029,64.7948676458333,4.78851063829787,21.1005683122292,27.1066714562174,14.7197582114783,63.1249173902083,21.1340556779783,32.12580622325\n",
      "\"60\",2004-02-29,8.39475379370833,14.7773300772391,20.303430826087,8.14106382978723,21.7908652954167,30.9809142916667,7.93765957446808,11.9878781042292,19.9904781363125,12.2346621392083,43.8198085439583,14.6229449539583,23.9010363510417\n",
      "\"61\",2004-03-01,19.5806402819167,6.626307848875,NA,7.65978723404255,29.6433606579167,16.0360849347826,7.79765957446808,11.1123380596042,17.3668813694375,15.6116852318333,47.4704004671739,17.7192522932292,29.8662569533333\n",
      "\"62\",2004-03-02,18.3867507500625,30.2755903396042,51.1436354166667,15.0782978723404,NA,95.5542334583333,NA,29.0629732261042,33.3399794164375,19.8624573591395,71.0026149979167,26.7923407672917,NA\n",
      "\"63\",2004-03-03,NA,54.0967106229167,78.5928230208333,NA,40.984799485625,82.1739717708333,6.12446808510638,NA,44.7387236583478,20.2047823021667,80.8970053145833,NA,44.2450052722917\n",
      "\"64\",2004-03-04,51.870200475,68.487424273913,94.7321565,13.4027659574468,58.6218705314583,89.3702337083333,3.32063829787234,55.2565572970833,48.9964865913953,25.1607445114583,81.93658900625,33.2250773717708,53.8328313485417\n",
      "\"65\",2004-03-05,53.7668358952391,46.102872343125,90.552205125,15.7868085106383,67.8206782008333,98.1545471956522,6.34808510638298,66.8461374929167,31.2598381635417,48.0697225527083,NA,52.1735611245833,56.6708951656522\n",
      "\"66\",2004-03-06,28.8948924664583,NA,55.6596822291667,17.5365957446809,44.6913760015217,71.3136347708333,4.59340425531915,43.9524719922917,21.1372481344792,24.7855601009565,50.4444802696458,38.0852928876042,50.8860249355833\n",
      "\"67\",2004-03-07,3.45926123414583,13.477988905,17.569002173913,4.70333333333333,15.6488987238125,31.3999794583333,5.2268085106383,12.093120077587,12.8375285132174,7.37318911520833,30.6308991241875,11.0631147359783,18.78744270225\n",
      "\"68\",2004-03-08,6.49039092770833,19.085069424,32.8361312291667,4.11404255319149,21.4938540540208,NA,7.6463829787234,20.2755857572917,21.7141109598958,14.4836539106042,79.311485930625,14.4761431881875,37.7782210558333\n",
      "\"69\",2004-03-09,13.9272671045652,15.594716019625,45.8179306458333,4.45489361702128,26.1630087037609,34.1324291304348,8.34978723404255,17.3901343226458,21.8351627835625,13.3654500299783,68.0320891125652,17.0356579947708,30.1815654991957\n",
      "\"70\",2004-03-10,26.9325847466042,14.0124940193696,74.8653845434783,5.24723404255319,29.93089309875,16.0104987083333,11.3944680851064,24.2790804948696,11.3189842628125,18.4553121461042,61.7964464537708,19.2979236289783,30.5136027760417\n",
      "\"71\",2004-03-11,25.1967298134583,23.9952665352083,50.3545963478261,8.38106382978723,31.3266292747917,41.9416532291667,12.9831914893617,23.6597547502083,22.5601830583261,18.0637278239583,44.2273167622917,21.6048950627083,40.80892849125\n",
      "\"72\",2004-03-12,18.0299887247917,40.804336355,19.8973112916667,14.4202127659574,45.3465650758333,73.1926115833333,7.226875,37.0257361540833,24.68028412875,27.352372117375,62.3365451906522,32.9768392769583,55.4672177510417\n",
      "\"73\",2004-03-13,7.47274601404348,31.2664464535417,16.8212989791667,10.1536170212766,34.7567571108696,36.708922826087,7.93978723404255,21.768526449375,18.8185580826042,16.4361912749783,39.1982336327083,21.8345999345,41.1590257184783\n",
      "\"74\",2004-03-14,13.1861587609375,19.8361198407174,24.2933281875,4.57595744680851,23.0204069140833,28.5894489583333,4.83595744680851,12.6029544789348,10.1785422618261,8.15157229566667,27.1226660084167,12.9336458746304,17.82545552975\n",
      "\"75\",2004-03-15,47.1051514176667,69.510593495,86.0778135434783,6.23468085106383,46.9379945110625,73.8562238541667,4.31297872340425,36.1351382772553,26.6225620736458,18.2299461188333,66.1065422070833,29.7165343456042,49.3967943919792\n",
      "\"76\",2004-03-16,62.3817125729167,78.8338562704167,111.98494975,8.79212765957447,60.4339521743478,86.4819835208333,3.55936170212766,38.6171890957708,34.54565694125,18.7320992728125,82.4921217567391,32.1977081033542,61.0428177654167\n",
      "\"77\",2004-03-17,65.8945818871111,79.4819375595652,139.382327166667,NA,54.3065186326087,97.187677,2.22613636363636,29.5708913404167,37.9751192897917,25.6035879511739,85.21218169375,33.6536247074375,61.0539162784783\n",
      "\"78\",2004-03-18,71.5490004897917,81.576191919375,140.132208583333,9.80127659574468,47.7749550164583,92.6081976041667,3.89276595744681,37.641861138913,37.8131511528261,20.4222932230417,81.2202061245833,31.4011641073478,56.9621697945833\n",
      "\"79\",2004-03-19,30.8539654214375,28.6991395899375,59.6233802391304,7.1863829787234,30.5905649206875,67.4750183333333,4.47489361702128,27.4429610695,15.6825026745,10.5367820886667,47.8302381964583,17.4699371569375,42.9907368508333\n",
      "\"80\",2004-03-20,22.5975065004792,6.5280117139375,43.009255875,3.4531914893617,12.220139102875,22.4575836304348,2.47382978723404,9.24239218204167,6.15396590377083,9.99572864904167,12.6740000749348,15.8744877308125,22.7897036015833\n",
      "\"81\",2004-03-21,8.78295487528261,5.4137130348913,17.4580915833333,2.15723404255319,9.01148186852174,11.3601048333333,1.72212765957447,7.95560408483333,6.17398624797917,5.75190370371739,6.49793746714583,9.52763565514583,16.5375126678696\n",
      "\"82\",2004-03-22,11.50933571625,16.4133658409583,39.575922625,3.56382978723404,16.6246027035208,48.2591835208333,2.03,13.1662224890652,10.8743330551522,9.51035320564583,25.3641185303125,11.1818725726522,19.8625070909375\n",
      "\"83\",2004-03-23,9.25740750728261,18.3935805143125,43.6295593478261,3.69234042553191,24.5916440302083,66.39370725,4.53808510638298,24.6544402467917,15.5487119940625,11.1773386447917,42.3490211314583,27.3232875621667,31.5346743075\n",
      "\"84\",2004-03-24,9.74716136784783,14.8989870765625,37.8510174375,4.90872340425532,28.6222154459583,54.8253893043478,6.95489361702128,33.9579270700208,15.7651172970208,10.2502121975417,38.7817314483696,NA,45.4261380648043\n",
      "\"85\",2004-03-25,10.8158279130833,16.1362283432826,40.1109979166667,5.7131914893617,39.6716751754348,35.1984688958333,8.39191489361702,24.618429155,17.0186524204792,15.6943133506304,60.99942486875,26.1565485597391,40.5281744775\n",
      "\"86\",2004-03-26,11.3014701986875,11.1674038159167,30.8147185869565,4.00829787234043,28.151556839375,8.99416427083333,7.84106382978723,9.70103067486957,10.7572490035652,16.5575049074375,44.7880712451667,17.3313960054375,26.9174055775625\n",
      "\"87\",2004-03-27,9.19700646102083,15.0752443858125,26.0570391041667,3.64744680851064,21.7371288030625,18.1280557291667,6.5263829787234,9.9133358938125,19.4428517945833,11.5593403975208,41.7807454547917,17.4580859362292,31.1056968910417\n",
      "\"88\",2004-03-28,16.9173660626739,33.12481336375,30.8472732083333,5.02829787234043,25.193224453913,32.0593914565217,5.23808510638298,14.1738495422708,19.8729955747917,10.5107487183261,35.8833410058696,18.6881135630208,28.533538486087\n",
      "\"89\",2004-03-29,50.92633283,31.8056096506522,99.4737098125,5.03510638297872,50.64904110625,56.774801,8.0163829787234,40.077964265413,24.3990475468542,18.222006161375,68.471998588125,30.4429844706304,49.8900649108333\n",
      "\"90\",2004-03-30,8.54104427227083,37.3499920649792,14.6703346521739,6.329375,51.7498259660417,88.6937166041667,12.1195454545455,30.4735117859167,18.8525306726087,19.4952912719167,76.0170727366667,29.1116677267708,47.2601524991667\n",
      "\"91\",2004-03-31,9.98246492295833,48.0928351089583,22.3918847391304,NA,49.6845987039583,78.8795238541667,5.03425531914894,36.9536300434167,29.6526197647083,17.8248733262292,66.1672623165217,20.5495004465208,55.5666364885417\n",
      "\"92\",2004-04-01,34.951109832413,NA,82.3976566458333,6.32574468085106,40.4941689984565,57.9452154565217,5.38127659574468,21.9544477576667,29.8950864263125,17.2654396705,71.126191705,22.3057072546458,49.9203622617391\n",
      "\"93\",2004-04-02,7.53801662279167,39.7587561379583,15.4397634791667,6.14617021276596,36.5833519093542,68.9224954583333,6.93127659574468,30.1192084521739,27.2160437617609,17.316702572375,64.4903830791628,17.2296623027609,48.7800075189583\n",
      "\"94\",2004-04-03,11.68517494375,14.632032170125,38.0589929782609,3.02276595744681,18.6789757324375,39.710449375,2.89042553191489,9.7865559346087,8.5309676363125,8.797584767375,24.5082446538125,13.8196881748958,24.8205898516042\n",
      "\"95\",2004-04-04,16.980277085125,19.4740759584583,32.5457268125,2.81957446808511,16.8748638641875,26.9227346666667,2.21520833333333,9.2818166384375,12.288837865125,10.1028843225,16.7599038343958,10.857720410125,26.7247231778542\n",
      "\"96\",2004-04-05,10.918329799087,8.14055509310869,NA,2.34,10.9601564881739,38.6106225434783,2.30191489361702,10.8337974641875,6.14573762866667,10.626224264087,15.0333036705652,14.4606523937292,20.3665814959348\n",
      "\"97\",2004-04-06,18.6942683252917,9.09366278808333,53.271953125,3.37382978723404,13.8647262923125,NA,1.67617021276596,11.2700382216739,6.07086014643478,10.5060221431667,18.9968135693542,13.3830452213913,NA\n",
      "\"98\",2004-04-07,NA,9.77480724983333,41.1142541521739,3.1931914893617,14.9676954926977,58.4393535416667,2.11829787234043,11.5167221475,8.7568570344375,NA,15.9299209046458,NA,36.3744465756042\n",
      "\"99\",2004-04-08,20.2188099959583,16.5952003552826,47.5838367083333,5.11042553191489,23.3178423822917,52.7077752916667,3.65829787234043,10.0206655058958,NA,11.4914631541667,33.0813475736667,12.9635303389375,19.4751068521667\n",
      "\"100\",2004-04-09,8.79147851482609,8.10531225191667,24.9434984166667,2.38914893617021,14.6940333386667,9.359917125,5.24340425531915,7.63297054452083,10.6379638832708,8.96632835879167,18.908018204587,9.40248762739583,15.2133119882391\n",
      "\"101\",2004-04-10,6.74448686979167,9.9333921781875,27.9421966875,3.26829787234043,13.9318324884167,14.8700589782609,4.55106382978723,8.88413107356522,9.98484915273913,12.4989718877083,28.6132569173958,13.5163434674565,24.2076993181458\n",
      "\"102\",2004-04-11,7.30728675802083,9.2998020715625,18.2812787391304,3.05978723404255,13.4685200076739,19.2277090833333,4.25723404255319,8.06444424329167,8.26348069102083,8.3188494321087,21.7520779155417,10.0083119608333,15.7815855061458\n",
      "\"103\",2004-04-12,10.7951300761957,10.4811021148478,26.507113375,1.96914893617021,18.9858557018542,18.1871484375,3.85021276595745,11.06760445575,11.5401353020208,8.37947398791667,25.0823012979375,11.1397070389792,21.2489958186957\n",
      "\"104\",2004-04-13,24.4315008783125,10.3211448993542,57.5481963125,3.29659574468085,29.7495281635417,42.7479452291667,6.45093023255814,NA,24.1040648202917,14.0559749847083,58.8831737380435,23.7562967560652,39.7276941308125\n",
      "\"105\",2004-04-14,34.240088201875,24.9196667709583,75.8595743478261,3.70127659574468,35.6815916584783,68.8082850652174,7.82914893617021,34.445817391875,27.1392912234222,16.5111287188696,69.9534632414583,25.2187159414583,40.925128598125\n",
      "\"106\",2004-04-15,27.6007973160444,NA,46.763594326087,4.94723404255319,28.557124958125,86.5491580625,6.5863829787234,22.5886216134583,23.820373781625,17.3072841443043,59.6732210291667,23.5228403930889,34.8293305581875\n",
      "\"107\",2004-04-16,6.66621861556522,27.164256683413,12.8953114375,4.42340425531915,32.2885814484783,55.730601826087,4.22829787234043,20.5959741797826,19.8826562231667,13.7391011633542,67.5133507016667,16.0836239087917,NA\n",
      "\"108\",2004-04-17,17.9078266077917,17.6369561215833,43.8978141041667,4.2,32.5726851652708,47.405899375,4.34085106382979,18.6853238244783,11.8848472920208,10.4420497503958,23.000203400087,15.1995420798478,26.4634899998333\n",
      "\"109\",2004-04-18,9.28819647577083,6.4989994155625,25.3917054130435,2.41595744680851,11.1634120143913,18.7368729565217,2.92787234042553,7.23769464504167,4.7545687736087,4.67658223754348,10.5321172924792,7.12869677675,11.4877423254375\n",
      "\"110\",2004-04-19,13.017203871125,13.0769055184375,47.1656511041667,3.48936170212766,17.650911811125,67.5924155208333,1.28723404255319,9.42701042097917,8.67687668697917,11.3805798758542,42.4765967621875,14.7585521155208,32.4371966525\n",
      "\"111\",2004-04-20,24.0269332358478,22.3589673486957,52.0032626875,5.90936170212766,25.5917213506042,65.1471592291667,3.08765957446809,21.355972425234,12.1886077567917,13.5990164605625,48.8224611471739,16.4987207439787,30.5026523172609\n",
      "\"112\",2004-04-21,38.0290306243542,35.2414204110208,70.8059371041667,NA,23.86074140475,49.3167107083333,3.1363829787234,21.016122703875,22.3680357015217,12.2466728085,48.6270798216667,21.5644135651957,31.5039331379792\n",
      "\"113\",2004-04-22,34.002538113,29.1813909740833,90.7806401086956,6.38604166666667,32.7569226957391,56.6030652826087,NA,22.989619945913,18.443347467766,13.9268152347609,53.6367483389792,19.1983695654167,39.27609951875\n",
      "\"114\",2004-04-23,30.116359987,16.0816798778333,61.0317359583333,5.43212765957447,28.8531683744583,48.2629095416667,5.38297872340426,22.8644903033542,10.5531660181042,14.0574449036042,27.5552481941667,20.2546245180833,35.8608926754167\n",
      "\"115\",2004-04-24,11.5600237825435,7.26180587719565,40.2025532916667,2.44978723404255,19.5866352448125,13.6736998541667,3.91787234042553,9.07173697447917,7.62617983764583,8.42362840802083,27.9490613845652,12.8741259758333,22.5613108323261\n",
      "\"116\",2004-04-25,10.8677182261875,6.06537497445833,31.2478656041667,2.0936170212766,14.7611484275417,8.19083335416667,2.80042553191489,7.97466900679167,8.06834999632609,6.97078575220833,19.7434218735,8.80742897771739,14.1214252990625\n",
      "\"117\",2004-04-26,29.5990124622083,8.63386608308511,58.1187100869565,2.86702127659574,24.619902911413,22.5490574130435,5.40404255319149,17.4504752258261,7.71013818466667,12.308008467,45.4923944810208,17.5949958890833,30.46118009025\n",
      "\"118\",2004-04-27,35.4880536243333,22.6624262956304,84.6986667916667,4.74063829787234,32.4344405502083,56.528825875,4.19651162790698,21.16519657375,19.0738483769792,22.7532866777917,39.3786449789792,20.0536598023542,32.4673186627917\n",
      "\"119\",2004-04-28,16.600968087913,19.4149330046667,20.7166944791667,5.46446808510638,25.9029732990833,39.3192981875,3.96510638297872,14.4600165526042,16.5370929131667,12.4548242400417,38.0445606451957,15.63489215725,35.6912116014783\n",
      "\"120\",2004-04-29,6.5580684716383,24.4085094788542,15.8049315208333,3.99787234042553,26.1531230416458,43.3965091521739,5.36,24.9935678951042,18.7892304892609,11.8428393414783,50.2023428794583,13.8362502468913,32.7507745854375\n",
      "\"121\",2004-04-30,5.52598823883333,32.6486000428542,14.1808313695652,5.31170212765957,26.3667466860652,57.4788958125,4.91404255319149,18.3518797335217,22.1178313762292,11.5629014231458,47.9337726417083,12.5614908228936,34.7887081821875\n",
      "\"122\",2004-05-01,12.6346086153261,9.81129825984783,31.8964284791667,2.87723404255319,23.4346233791458,32.5300536875,2.95234042553192,12.2233658882292,7.47671913177083,8.4716291555,19.986423277875,11.4970770173958,21.5696896321739\n",
      "\"123\",2004-05-02,13.0236142431875,15.0217846332292,29.2005837916667,3.62063829787234,14.1955913060833,29.6595544166667,2.29531914893617,8.82556793829167,8.72415939870833,4.32209383435417,19.879017989913,9.5632128753913,13.903940650625\n",
      "\"124\",2004-05-03,17.79774664325,16.3553149981395,34.9010695434783,4.6863829787234,26.4657909576522,68.2401269782609,4.78936170212766,21.8462497474167,12.9957180179565,10.336400762087,41.9898710217292,15.3351894073125,19.4253625184583\n",
      "\"125\",2004-05-04,19.5109669386875,18.6411102724375,57.1717815833333,NA,22.386526512875,NA,5.34955555555556,12.649548303814,10.2627428668542,11.2711969483958,28.7374988180682,13.8406461253333,20.4689769589167\n",
      "\"126\",2004-05-05,17.1493164332174,15.5749673957083,59.9591538695652,3.79127659574468,15.9458635125581,57.336435,1.84,12.7468756282917,8.49130373904167,8.16768303730233,49.1927778445625,13.0751413006875,28.6902788351087\n",
      "\"127\",2004-05-06,20.8277919591458,13.277945500875,57.6705898125,4.07042553191489,20.4088282323125,68.2193610416667,1.53808510638298,10.1754800785833,8.70061480808696,13.0257326365208,38.1793466209375,12.474156589087,24.4862238651042\n",
      "\"128\",2004-05-07,15.5823390395833,13.638424823587,42.1436759777778,5.52,22.6624333740625,51.4165446875,1.51148936170213,9.450144762875,10.9832113987917,9.90820422352083,35.7164136346458,10.6885705751458,33.7743748885208\n",
      "\"129\",2004-05-08,12.4714575586458,6.246867613625,31.8373004583333,2.67106382978723,13.2902847163333,21.2557174130435,1.37659574468085,9.9859076695,4.75270227872917,7.23561449847917,11.4376858266522,9.78697883522917,13.2328868939792\n",
      "\"130\",2004-05-09,7.97064619147826,8.49289588360417,26.0601097083333,4.06106382978723,10.7240825256957,22.7930138958333,1.18255319148936,8.35286341485417,6.58345347154167,7.14335941041304,8.89722211710417,8.59184835779167,15.8428338410652\n",
      "\"131\",2004-05-10,15.6121096269167,16.541943787234,52.3167615833333,4.03106382978723,21.725497191375,49.7647504791667,3.15872340425532,15.1602060308125,NA,10.3020133245,40.6421927341042,11.7948237507727,24.676990782\n",
      "\"132\",2004-05-11,30.89378820675,19.4586649405,NA,4.92978723404255,35.5403726831875,60.4805343478261,4.58441860465116,22.1233443835217,16.9662163161739,12.2049257284375,44.2985490971304,18.0243041421667,29.0826962092917\n",
      "\"133\",2004-05-12,30.1392770627917,17.385246872587,76.1580938043478,4.24255319148936,25.6830308922917,57.5448785833333,5.33553191489362,18.5357543161875,20.9086309684583,11.4698549236087,45.32372342075,15.4086552753958,NA\n",
      "\"134\",2004-05-13,NA,10.6329806273125,53.1058515416667,4.23191489361702,20.7001328820217,24.5421454166667,7.64170212765957,13.14339192275,15.9664051054255,12.3156047267917,26.6852457088125,NA,30.966175006087\n",
      "\"135\",2004-05-14,14.5642135579167,13.9244008887826,41.3314652291667,3.48765957446808,21.936655295375,32.3647928958333,5.44829787234043,13.9518205990208,16.8951385106875,8.87505330747917,53.7245704845455,11.9668620748913,30.7287660058333\n",
      "\"136\",2004-05-15,18.3814692206739,11.0877774541667,40.0372931041667,3.20291666666667,18.9380695347917,32.8894376956522,5.26829787234043,11.9073378989348,16.3688204293043,7.7101073145,37.5638677069565,11.7385976180625,24.3236730879167\n",
      "\"137\",2004-05-16,13.2801822191739,13.6490965607292,28.5750625869565,2.56829787234043,16.4173682788043,21.8916169791667,3.91085106382979,8.8436234495625,12.6433328569375,5.6754922196087,24.6165463096667,8.01748192658333,15.0678088715417\n",
      "\"138\",2004-05-17,25.4148588583542,17.0059150210833,70.7898166875,2.27085106382979,24.3380266563958,36.3171683617021,3.03595744680851,17.9703772244583,18.2115829602083,12.1202366934792,48.5188932361042,14.4013432219792,30.6458109942174\n",
      "\"139\",2004-05-18,35.0359421139583,25.8672363645217,81.9448905833333,4.13617021276596,35.6367623974583,50.9768754166667,2.43,22.8933429167083,16.2072547152292,10.3936678052083,37.0930711028542,15.6331553073043,22.0428741910208\n",
      "\"140\",2004-05-19,27.7262263168542,20.2585744035417,79.1649612708333,3.97914893617021,26.0019724151667,46.279436,3.22063829787234,14.3391588631957,16.9652097341667,9.90394186827083,35.3426790110217,12.7759914311042,25.1099671625\n",
      "\"141\",2004-05-20,16.923618038413,14.9033207543333,NA,3.53255319148936,14.7307242167609,25.4300586041667,3.47729166666667,9.66287752864583,9.86952853078261,5.05058124465217,16.9653710276042,8.4332841391875,15.3519279518043\n",
      "\"142\",2004-05-21,17.5418067371458,16.3630192965833,41.953142125,4.02659574468085,21.1884904332083,43.1567268958333,2.39723404255319,13.2154586380625,13.2270433167083,9.0957765080625,35.0063822187917,12.947311289413,28.2531999182708\n",
      "\"143\",2004-05-22,7.33526602204167,6.55768380656522,29.3986434375,2.13148936170213,10.298985978125,11.8697455625,2.24212765957447,7.97227768791667,5.75769820710417,6.55833480495833,29.5005366500417,9.910789425375,19.8996281934792\n",
      "\"144\",2004-05-23,6.6843476834375,5.9106096190625,21.2884843695652,1.64872340425532,11.5747917142083,15.6046547045455,2.72297872340426,NA,6.0252314996875,5.45472854645833,17.845851123087,5.28975622122917,14.286352756\n",
      "\"145\",2004-05-24,20.0924768136087,12.2462645470208,55.0948519791667,2.03148936170213,19.8201894203696,NA,3.82297872340426,NA,14.9654829063043,8.71335284117391,39.7608981688542,12.7106672334583,23.6950499352174\n",
      "\"146\",2004-05-25,27.1645784552083,21.1644215907917,71.1050801041667,NA,28.8945433829375,61.6427204791667,NA,16.5970107233125,13.8802806120208,10.5166585033333,42.71665307225,16.7078587266304,28.0310557687447\n",
      "\"147\",2004-05-26,24.8111315476042,18.9725142747391,55.87603,4.42829787234043,28.8872161648542,49.6644949375,5.05106382978723,20.3911205972708,12.575720059875,11.8758509353125,NA,15.3842577886667,22.8139719741042\n",
      "\"148\",2004-05-27,23.6487095212083,16.223525434,55.7684794565217,5.23851063829787,30.3502513358333,51.0412682708333,7.46234042553191,19.8867866704318,15.5586097357391,13.8548503446667,43.58760897,16.3034948176875,23.9362613075625\n",
      "\"149\",2004-05-28,17.0506112517391,11.069775299875,43.6664856875,3.25510638297872,24.0624939081087,32.2264736875,NA,11.8907909569792,14.5361176738958,8.30206245969565,52.3510554477292,13.2268191736875,26.9539734210652\n",
      "\"150\",2004-05-29,18.5334405633333,10.8886532027917,56.2938506458333,2.40340425531915,18.0506150467292,32.3981213958333,3.84957446808511,11.6153934760208,9.99683605320833,6.35652773191667,35.3251427445833,11.5914413418261,20.3078351675208\n",
      "\"151\",2004-05-30,11.7918591631667,9.81501157071739,34.3356465,2.49617021276596,14.4450615615833,21.0944290217391,2.82255319148936,8.57141177058696,6.44207477504167,4.77189348395833,15.0479527639783,8.5909482050625,14.7587853270208\n",
      "\"152\",2004-05-31,8.4706727553125,7.19494154579167,26.6315014130435,2.97787234042553,14.5057232595,27.4515769375,1.50255319148936,8.9872198670625,4.98380841604348,5.0457288386087,NA,8.82046122475,14.9244922780833\n",
      "\"153\",2004-06-01,24.317112692587,17.0110584444583,62.0178843541667,4.35468085106383,25.9226343731875,87.0585734166667,1.7,12.54767242375,11.8828410997292,10.6964958285625,41.8949262684583,17.1453305610625,21.4382055296087\n",
      "\"154\",2004-06-02,13.56933234025,13.3400660887826,NA,6.17617021276596,23.2321120331395,58.5207472826087,1.5063829787234,8.42676497409302,8.9935813374375,9.6248747104375,37.1324383599565,12.2319484123478,19.0580474376458\n",
      "\"155\",2004-06-03,NA,19.9773765839792,54.0145853125,9.1868085106383,30.5359118256458,59.3787586041667,2.49085106382979,11.4291266326739,13.2148309936667,11.9482801767708,27.4968428264167,13.93585435825,NA\n",
      "\"156\",2004-06-04,17.1806750726957,NA,46.9679608913043,5.89659574468085,23.2002385312391,48.43596675,4.36936170212766,10.7142611415,11.3753319861739,11.2894114612083,29.9084941740625,NA,19.3992657447826\n",
      "\"157\",2004-06-05,12.4735544480625,10.5160484143125,39.0965235208333,2.84170212765957,19.77351774475,39.5327387391304,2.86595744680851,10.3385893575,6.73967454185417,8.27160321391667,20.9695309760625,11.6015469343333,20.6777992093542\n",
      "\"158\",2004-06-06,9.47083476285417,9.7242098489375,24.5473310416667,1.7736170212766,12.3908066697083,16.1775357608696,1.78063829787234,7.52713351045833,9.78244008575,4.57913782058333,21.4618102151957,6.46650399295652,14.3792167226667\n",
      "\"159\",2004-06-07,25.7225468393125,17.218855356,59.3973213478261,3.2025,29.2174858652292,NA,2.99957446808511,15.4369580831739,11.5487033111875,NA,39.1427713177083,13.5215750508125,NA\n",
      "\"160\",2004-06-08,26.5534047442826,22.703943022413,76.9035942608696,NA,30.2269788037174,47.5863177291667,NA,18.0084966830833,NA,10.0939389488125,39.368219,14.9412074725625,26.5164376244348\n",
      "\"161\",2004-06-09,28.2015756490833,21.4122022131458,80.8145437608696,5.0268085106383,27.0487358745208,53.914727125,2.65957446808511,13.3448863250833,15.3065206241522,9.575597566875,37.41064426825,13.2041226336522,26.6487967143542\n",
      "\"162\",2004-06-10,14.0154935405,14.9690928591458,57.0712807083333,3.71787234042553,15.5053289875625,43.7581256521739,1.96808510638298,8.16750569685417,10.462487667375,4.49650418022917,32.3814190637917,7.71273714175,16.4575940425625\n",
      "\"163\",2004-06-11,19.4519366798542,13.709195716413,51.2036263478261,4.32957446808511,21.0489153518958,56.1623765625,2.74148936170213,11.8508761075,10.9231279769167,7.9610092043913,27.9188080643333,11.4134008118333,25.2801020279583\n",
      "\"164\",2004-06-12,11.1395328188043,8.27291686235417,35.0584257083333,2.81787234042553,17.335403147087,25.61043875,1.92229166666667,8.00958747985417,5.9315022280625,5.3334862451875,11.417388868087,9.6105064784375,21.7113151143696\n",
      "\"165\",2004-06-13,7.04896063175,4.99978466858333,23.8605891458333,1.48893617021277,8.4370323118125,24.296247,1.90659574468085,5.74965511564583,5.84909549652174,4.04493086233333,13.3529825335833,6.29476897608696,12.9009138704375\n",
      "\"166\",2004-06-14,12.9876405582917,6.85083512629167,43.8866945416667,2.09,21.2005279730833,24.3463600652174,2.50234042553191,9.25724328158696,9.89307504608333,7.35923606330435,46.196267245375,9.36227931420833,24.3657267869792\n",
      "\"167\",2004-06-15,25.6288332518333,15.5063201530435,55.0628521521739,4.21808510638298,28.3495693447708,43.8293993125,5.6063829787234,16.1427340757708,18.9967663502083,10.8795292221458,45.2089379837826,15.0441514318958,25.4686983195417\n",
      "\"168\",2004-06-16,22.4445789026957,18.7485908429167,65.5752960208333,5.6263829787234,28.3722379944565,49.2103748333333,4.74893617021277,17.8731979525208,16.3831244938261,14.0620723361042,48.8427265095625,NA,27.7815011165652\n",
      "\"169\",2004-06-17,21.1186229796042,14.7476175896667,59.7381831041667,4.65595744680851,18.7450950732292,55.1622762083333,3.39914893617021,13.02501038175,10.9223614382708,9.6305017648125,20.05857104225,NA,23.1655689915833\n",
      "\"170\",2004-06-18,20.4790635248542,11.5463326985,50.7217255208333,4.36872340425532,26.8054177874167,34.9240416086957,2.94659574468085,12.7653298758043,9.31964589825,11.198309016587,20.573845583875,NA,24.7553023738125\n",
      "\"171\",2004-06-19,12.7878477346875,10.830211808587,33.9430832608696,2.49148936170213,18.2878683718913,33.8257705957447,2.02851063829787,10.48940405125,5.9988361705625,6.16551113958333,25.0337761137391,NA,22.4575761960833\n",
      "\"172\",2004-06-20,6.5788338156087,6.24059435495833,21.3332775833333,2.78,13.217457267375,21.7393045416667,1.02574468085106,5.86804359125,4.876547477,3.08094947970833,11.8764056105833,NA,12.8673364533261\n",
      "\"173\",2004-06-21,11.7117698499375,9.75280801552083,35.4488221666667,3.36936170212766,19.455174179875,35.9509193695652,2.15787234042553,9.35996904877083,8.60463269283333,5.8745530696875,20.5031015482083,NA,17.732664749875\n",
      "\"174\",2004-06-22,19.7586283412708,24.01163428775,52.3293600625,4.76489361702128,26.1991239164167,58.7532518541667,2.42279069767442,15.2326818876522,11.9437505048958,8.17838407858696,47.1966709759167,14.3974142285217,25.7792591618958\n",
      "\"175\",2004-06-23,13.7592463644565,13.0556395706304,38.1749006521739,4.13276595744681,22.1642180241522,44.0995805416667,1.41191489361702,8.42251337454167,10.1745459017917,7.7941052205625,27.7504185105217,13.9072908001042,21.8207792654565\n",
      "\"176\",2004-06-24,16.54935325625,7.80031489722917,44.1779564791667,2.26127659574468,12.5691840594583,36.1060141666667,1.95574468085106,9.44759242041667,5.01844644971739,7.30514621560417,8.90129375102083,12.4524987843333,10.2925537640208\n",
      "\"177\",2004-06-25,16.378938058875,12.907627154,50.0220460833333,NA,24.706620781,44.5446624565217,1.97957446808511,13.0754807951042,9.614825321,6.500994712,21.5209869466383,9.62553595285417,31.4877513907083\n",
      "\"178\",2004-06-26,18.3104677910417,11.3477824594792,45.5097813541667,2.24340425531915,22.8590777399792,34.4430968913044,NA,9.9569485001087,8.311100033,5.90751911026087,32.0523727929375,12.2876078916957,22.0507365244375\n",
      "\"179\",2004-06-27,14.6444222072174,12.9732869106957,28.8257790652174,3.62957446808511,18.7263243958043,28.0520551875,NA,7.30942635708333,8.21663744708333,5.28529911672917,18.0264643518696,11.7571219931458,21.7270086795\n",
      "\"180\",2004-06-28,20.8280748438958,10.6128385523125,48.8986534130435,3.10977777777778,21.5165194942292,35.110516625,NA,9.17069487772917,8.18087417373913,8.38836044395833,19.9787630415625,15.1536225636875,30.0642547430208\n",
      "\"181\",2004-06-29,11.100744338625,11.732630400234,33.2945763125,NA,23.6742364705417,36.3681207391304,3.40574468085106,11.668498444125,11.9403473294681,5.76308088308333,29.9469581565333,10.5112460368125,25.6855166460417\n",
      "\"182\",2004-06-30,27.0078651212708,17.683170905087,63.029836,3.331875,28.9016938281875,49.6724970833333,4.26723404255319,16.8214249026522,11.232569648125,8.65515650897826,41.3903982112083,15.1458835900217,28.6567317299167\n",
      "\"183\",2004-07-01,24.0293271524348,14.4755018569167,NA,4.32425531914894,19.7502532126739,69.3046205208333,3.66765957446809,17.6575255118125,10.5770480426667,11.8823859898333,19.9829222665217,14.8387769780833,43.7507898223478\n",
      "\"184\",2004-07-02,15.3914478405208,11.7608959546458,48.9150575652174,3.61872340425532,15.480435460125,59.8882977708333,1.9231914893617,11.0077217440625,9.86861735063044,7.85764348875,29.2100402605833,11.906843189375,35.2419797514583\n",
      "\"185\",2004-07-03,10.47898769,8.55179446895833,36.7142485208333,2.01553191489362,10.741907287125,38.2700044347826,1.31872340425532,9.08638638869565,6.91869194329167,4.50479388595652,12.9938511666042,7.710546302,15.8916584535208\n",
      "\"186\",2004-07-04,13.6417553140625,11.4685824772609,30.998550826087,1.6968085106383,16.4994768129375,29.4409957291667,1.41234042553191,7.99990515277083,7.88242562829167,3.971832619875,16.437125497,8.54741203080435,11.1115677995625\n",
      "\"187\",2004-07-05,13.2224603396739,15.0154183164583,38.6809972708333,3.94765957446809,19.5872249823478,53.7597092708333,1.86041666666667,NA,16.3084659477609,9.9866839943125,34.8354559930417,15.8183998446042,32.1390038957174\n",
      "\"188\",2004-07-06,15.7288028434583,10.6106838347292,46.3164066458333,2.30425531914894,25.5868136621875,41.7483822916667,4.13302325581395,15.618228211375,8.27869387172917,10.95084899925,NA,15.2725559936667,29.2516707809792\n",
      "\"189\",2004-07-07,17.7380660484375,12.4839185394583,41.5028937708333,4.40063829787234,28.4181799723958,54.0499942391304,4.62957446808511,14.91516592325,11.1152734007292,NA,49.1418204721875,14.5742451471667,NA\n",
      "\"190\",2004-07-08,NA,11.9687471161739,24.0345021521739,4.30978723404255,NA,50.57116075,4.78382978723404,11.8193135277391,10.5801424942292,8.41190094560417,24.7279876281739,NA,37.9961353974\n",
      "\"191\",2004-07-09,16.3742676825217,9.49092757427083,45.8701655,2.68212765957447,10.4061350581042,NA,1.8331914893617,6.41805265525,NA,6.14567938439583,21.0146146745833,9.19950542310417,9.1396799183913\n",
      "\"192\",2004-07-10,12.1818216944583,10.1256208187292,37.538839125,2.33404255319149,10.2504636747708,33.5531976041667,1.50297872340426,5.68408127825,6.4687042458913,4.07416338947826,16.6584468043125,5.78955831629167,10.2047535879167\n",
      "\"193\",2004-07-11,8.08760395029167,6.3331771995625,27.6047031666667,1.75255319148936,10.57841388375,27.8049037083333,1.24404255319149,6.44598470520833,5.4247352756875,3.49916011872917,12.5149082008958,4.7428541136087,8.1908833048125\n",
      "\"194\",2004-07-12,13.0054070139783,9.8307827675,43.4367938695652,3.45404255319149,14.4637233883043,57.206045625,1.26936170212766,10.7577024494348,7.29389432233333,5.67930496970833,28.9171122960652,8.5953462368125,16.1644617462609\n",
      "\"195\",2004-07-13,15.3572661227917,14.4613655924583,50.8123924166667,5.78340425531915,22.8264382412917,62.2489980434783,1.26574468085106,11.7883765172917,8.46327833735417,7.71692185683333,32.4903285817292,9.92196709252083,23.0375700282917\n",
      "\"196\",2004-07-14,20.051544471625,10.1817004892609,60.0400346875,3.45191489361702,20.3107760339583,49.2405532291667,2.67468085106383,12.3936601273125,11.7039014412826,6.74967471273913,26.1320098660833,10.5457322774583,20.299443907625\n",
      "\"197\",2004-07-15,27.9608643755625,NA,61.9804785,5.90787234042553,20.9725217816087,44.7963224375,2.26106382978723,9.4482626130625,14.7653902318333,9.27664526529167,27.39552104825,10.537056654087,16.90307897375\n",
      "\"198\",2004-07-16,29.3438005761087,11.8618066660625,60.1046416521739,NA,23.2535673969375,50.1177949347826,3.51659574468085,10.159581580413,13.7040212768542,7.37425229197917,35.9201536678261,11.8898025141875,20.9142352157174\n",
      "\"199\",2004-07-17,13.2696945512917,7.5930839354375,38.2525720208333,3.24829787234043,17.0709169628125,28.2424299361702,2.21787234042553,5.3235551105625,8.9617059674375,5.80644438285417,15.0764506673958,8.02608247004167,8.8147229268125\n",
      "\"200\",2004-07-18,9.64114027547917,6.31780344,33.9893075,2.41553191489362,18.6860229538333,31.3451220625,1.67808510638298,5.2697218135625,6.0256235845,4.88006900126087,13.607306666875,6.35944044841667,7.66909238745833\n",
      "\"201\",2004-07-19,16.2229607141875,14.9958725889565,41.8960450217391,4.27191489361702,23.2423875074565,54.0987737708333,1.92085106382979,10.9974399619583,11.098726488375,7.50834280720833,31.8671924366739,10.0721370280217,19.54177312375\n",
      "\"202\",2004-07-20,14.0888708812609,13.8307115697083,34.9055965416667,5.65808510638298,22.5728720487083,54.1550580869565,2.07886363636364,10.2366736223043,12.6869188253333,6.1632630035625,33.623575680625,10.4378736009167,17.1538458439348\n",
      "\"203\",2004-07-21,27.0380283834375,13.3465063070208,57.6331228333333,4.23765957446809,24.3452280657708,55.8056956875,2.03978723404255,10.3709160501042,9.18567200810638,6.57028268956522,23.0925919915106,12.4873903237083,23.8822486828958\n",
      "\"204\",2004-07-22,19.7983911540833,11.9415152826739,45.790055,3.8263829787234,21.231339368125,43.7928697291667,2.21744680851064,9.4108931651875,8.42173443943478,6.83444817685417,33.7053213314167,10.3163311825,18.9055697824792\n",
      "\"205\",2004-07-23,15.4286877732708,21.5764464775833,51.3720659333333,6.04166666666667,22.0536404783913,NA,1.9536170212766,10.9096036581957,11.0203290737292,6.70968401870833,29.3277889219565,9.53499333204348,20.4954575190426\n",
      "\"206\",2004-07-24,13.979646324,9.27364198725,41.985919875,4.63829787234043,13.9599723934583,NA,2.07446808510638,6.42698168591667,7.71793472951064,4.69787754404167,14.897431257625,9.02072002395833,14.3695528098478\n",
      "\"207\",2004-07-25,9.4922961484375,6.30058748852083,29.2371060909091,3.87234042553191,11.7014008798542,23.6178510833333,2.35148936170213,5.50970815010417,6.32880780084783,2.94992406082609,9.6828425565,5.91939415410417,8.2985190801875\n",
      "\"208\",2004-07-26,14.3974140949375,10.9572491704348,47.9472407083333,4.48106382978723,19.0380788883542,42.2936997291667,2.64297872340426,8.45502489970833,10.2674855936875,4.97531306585417,18.1220027177083,9.809824017,19.1582236461458\n",
      "\"209\",2004-07-27,15.3745137667083,7.54572436997917,47.0992094782609,3.09829787234043,19.067264504087,36.6758891666667,2.85404255319149,7.10543846708696,12.4186265353542,4.95763827852083,35.0254185618696,7.61066740454348,23.5068045977292\n",
      "\"210\",2004-07-28,27.2454785296522,8.6322647655625,66.2115732916667,3.62957446808511,20.8716143095625,36.0733396956522,3.711875,12.6283095193542,13.1545335885,6.2476091860625,41.7025437804792,12.3779602260417,21.0959648365652\n",
      "\"211\",2004-07-29,33.49028615425,10.762804113875,73.45513975,3.77851063829787,26.8070719701042,50.154269125,4.12787234042553,13.9565080542708,14.0345967951304,8.02457529326087,36.2871447966667,11.8265901808125,26.72747111375\n",
      "\"212\",2004-07-30,32.6402978131458,17.8320647903696,71.4487662291667,4.61651162790698,25.4641904466875,50.7195692340426,3.43765957446809,20.2752067998333,12.3010262763958,7.66468353116667,30.5287181126667,12.8322632904783,22.1721584469583\n",
      "\"213\",2004-07-31,30.0180624769348,16.4708039900417,67.4930180652174,4.20276595744681,22.7754456431739,37.3945833125,3.23276595744681,10.6745408401304,11.345842779875,5.987536543625,23.8356555073913,10.0799582546458,16.103995588413\n",
      "\"214\",2004-08-01,23.46580354475,14.7941652806042,50.904880875,3.7936170212766,17.8701755552083,29.2932496956522,2.44595744680851,7.24286477014583,10.7925884797917,5.22800410866667,15.031831899875,9.42380258958333,16.0499142172083\n",
      "\"215\",2004-08-02,30.4467651586042,15.1550956559583,68.7617435625,4.14574468085106,29.4430593835417,47.8617891458333,3.36531914893617,15.3661534316667,13.0101447586087,7.66651019136957,35.3581884507083,12.5630638694167,22.2121096620833\n",
      "\"216\",2004-08-03,32.9348103172292,16.8503951147174,62.0014855217391,5.84021276595745,25.0820669400652,55.38179375,NA,NA,12.2674674428542,7.27737400288372,40.7474558071458,11.7271967198696,22.3566319336458\n",
      "\"217\",2004-08-04,16.9514118160217,9.4970177936875,51.2427071666667,5.2063829787234,15.9186014924884,35.782729826087,3.08510638297872,8.73571117614583,9.56879005304167,7.0822601488125,NA,8.65093095775,19.1509660083696\n",
      "\"218\",2004-08-05,22.8242590661875,7.96053337495833,54.6252893958333,4.80021276595745,14.9091691336667,55.4156077391304,3.19489361702128,8.76448829410417,8.43566075154167,6.57154784258333,21.35621795,9.39355165316667,19.2578281072917\n",
      "\"219\",2004-08-06,12.1113661495417,NA,47.1871482291667,5.13170212765957,18.3557744185208,43.9193373125,2.84340425531915,11.2231903818958,9.66930686682222,7.31023778041667,27.4277915979167,8.90366867766667,24.0929879771042\n",
      "\"220\",2004-08-07,14.9760653050417,11.725935338875,46.4514441086957,5.87744680851064,20.9106256396087,33.6163767391304,2.98085106382979,8.23240970876087,9.80282743029167,4.96220753315217,24.7717231135625,8.43148359895652,16.50723443125\n",
      "\"221\",2004-08-08,21.2734937938913,8.77460913585417,49.9223518125,3.75021276595745,16.3859515208333,27.7051841956522,2.02595744680851,5.90568833920833,8.05290884977083,3.69164735822917,20.6552914795435,8.48453802139583,15.579172169587\n",
      "\"222\",2004-08-09,18.8316325158333,17.2752141223542,56.4789338695652,5.61765957446809,30.8997018043542,59.0574885,3.09893617021277,14.74979958175,12.915399711,6.56349461908333,51.4444184478333,14.4327997710833,25.893898806875\n",
      "\"223\",2004-08-10,24.4852785301458,14.3276627050217,63.068418,NA,20.2221989257292,33.6678845625,3.25468085106383,11.7322882878696,8.97925360035417,7.29659409821739,32.0814804638333,11.7619415777708,19.8072144074792\n",
      "\"224\",2004-08-11,15.3594559422917,11.6812491663333,NA,3.94723404255319,15.7628593610217,NA,2.44234042553191,7.92178623029167,9.42479130377083,5.7028131155,34.6557300268043,10.0023222259348,23.5925317694167\n",
      "\"225\",2004-08-12,19.6351447715435,15.6739166357292,54.4709244130435,5.68148936170213,20.004406006125,48.7288215833333,2.11893617021277,11.5184519772292,9.35070316279167,5.7373831746875,29.3627576892917,11.848122001625,NA\n",
      "\"226\",2004-08-13,10.1948533251875,10.5168324113913,34.6123588125,5.51148936170213,13.6468153871667,51.5576541276596,1.58063829787234,5.77702054010417,9.83401362928261,3.92709207675,24.8893606561458,8.19209465589583,12.4335474032708\n",
      "\"227\",2004-08-14,14.4371514528125,7.16690313435417,43.0599727083333,3.11957446808511,10.5784707429792,35.1206876458333,1.31085106382979,4.11157151458696,6.0308284385625,3.73771485447826,17.3925682966042,9.15107898475,12.0948206088958\n",
      "\"228\",2004-08-15,17.8153962098478,9.06734245485417,39.9605626458333,3.060625,14.1804916902391,29.6576329782609,1.67617021276596,4.97211546491667,7.98412036454167,3.2570241561875,18.561400679,9.31469193313043,15.4986082500208\n",
      "\"229\",2004-08-16,22.527648145,22.7116878733125,47.7788074782609,5.8736170212766,21.2401287008125,64.6216873333333,2.5536170212766,15.9644556343542,12.19121104875,9.1219437428125,35.5293099614375,16.5976431247917,32.1398111636304\n",
      "\"230\",2004-08-17,NA,18.0592177780435,39.521611375,4.83212765957447,22.4264773349792,NA,3.99209302325581,13.9623468960833,16.3065227076957,10.9983386134167,42.9265975704583,13.749232791,30.5743280010417\n",
      "\"231\",2004-08-18,5.5605964185625,18.3243783378333,16.1805410833333,4.47957446808511,22.5525718681739,50.4793294782609,2.51936170212766,9.79148117430435,10.3650656977292,7.19499783597826,38.1936499347708,NA,30.986372811875\n",
      "\"232\",2004-08-19,10.0419275289348,17.6873414791522,32.1757310208333,4.98212765957447,20.5415952638333,49.6594476458333,2.11723404255319,11.094427829625,NA,6.97019886377083,32.254678477587,11.2257587120208,27.1355500145652\n",
      "\"233\",2004-08-20,13.9636358533333,11.5364073489167,43.7985766956522,3.97553191489362,19.3631721576667,NA,1.33166666666667,7.10433256291667,9.608656477125,7.32688066810417,38.0245186260625,12.9678071499167,31.6291121912708\n",
      "\"234\",2004-08-21,8.18985690058333,6.04356514552174,31.4785645,2.72340425531915,6.64003193835417,NA,1.01936170212766,3.18240994320833,5.07723502508696,4.17054741279167,12.2730741820833,7.46961719047917,7.1904440889375\n",
      "\"235\",2004-08-22,10.8879882180625,7.25066772879167,34.9792652708333,2.25212765957447,9.18356807404348,NA,1.51468085106383,2.70477958956522,5.67083875710417,3.97263390615217,19.0863953250833,7.43445607334783,12.8166859702917\n",
      "\"236\",2004-08-23,29.405520211913,20.9510031639167,76.0727224565217,5.20574468085106,23.7939996670435,NA,2.86042553191489,17.8999660005208,13.2878093729583,10.7308348686458,36.6325391036087,17.065055701375,28.1739754683478\n",
      "\"237\",2004-08-24,17.6587601703333,14.4008947079792,48.5332432826087,4.19425531914894,20.9310775045417,NA,1.16659574468085,10.39158535325,10.8423360555208,8.50427602345833,38.5433811580208,15.6521657389167,29.0689282486875\n",
      "\"238\",2004-08-25,16.8951765386875,10.2905440231739,42.2187174375,3.30914893617021,15.4337360645417,54.4190014166667,1.88659574468085,8.278057612,7.89787348113043,7.9700607131875,24.6557725614792,12.3102050356875,20.37360989475\n",
      "\"239\",2004-08-26,11.3716116952708,10.1665120313958,45.4751029583333,5.2,14.7975428257391,51.2340082608696,1.03042553191489,7.03184336171739,7.29800986064583,7.49919548047826,22.9375418623333,14.5150427411304,23.9402232723125\n",
      "\"240\",2004-08-27,19.8962350366087,13.056248686375,49.6689580869565,5.13127659574468,21.6399315279792,60.1702453333333,1.61404255319149,7.85052054708333,13.7830890787917,7.09609371989583,32.7431329190652,13.0586027437083,25.0940609157391\n",
      "\"241\",2004-08-28,21.7613590258125,13.1593821621875,52.4474867083333,4.45148936170213,16.5867708117083,43.6993877083333,2.46255319148936,6.9755742003125,9.8335782961087,5.95513478252083,24.6610941367292,10.7189330407083,26.2401337597708\n",
      "\"242\",2004-08-29,10.0423311769583,11.0426943567174,29.9684633541667,3.53085106382979,14.7717283126458,33.2823587708333,1.66617021276596,NA,9.53305837610417,4.83937999278261,14.777108332375,10.4565668241667,17.6872194793542\n",
      "\"243\",2004-08-30,17.759011327,12.0245267771042,51.4386518958333,5.1068085106383,15.9597961866087,46.3792863695652,1.93574468085106,NA,11.8507238120625,8.02783448941667,21.1729420500652,11.5930480892174,29.4471138604792\n",
      "\"244\",2004-08-31,16.334597485,14.5486977890208,45.5653665,2.39186046511628,18.6586251849167,44.7049499583333,2.44955555555556,9.83447523379167,15.7830133725417,5.05386743252083,35.9736383872708,11.3304560370833,30.2349619456957\n",
      "\"245\",2004-09-01,29.9314750062917,19.9587721005349,61.5431720625,3.2168085106383,25.4452946371875,53.142659125,5.32936170212766,16.1992538363261,15.1500363398913,8.02793775504167,50.78286354375,17.426829355125,33.1511475415\n",
      "\"246\",2004-09-02,39.3226108031042,28.0816525429792,84.460859,7.81,NA,63.5203873541667,4.36893617021277,27.4442076764651,21.6889020299167,10.653260650087,55.0103245129167,18.6640696418958,35.15542979075\n",
      "\"247\",2004-09-03,33.3941583963696,26.0443163885833,71.7517845,6.02276595744681,30.1207059003333,70.4581350217391,3.19340425531915,22.311560969875,21.5087224085,10.251738442875,44.1156495556304,17.9936354175217,36.4649667381739\n",
      "\"248\",2004-09-04,24.0195123030417,12.6839344060625,57.5289934782609,4.19042553191489,21.4243662637708,38.276371125,3.71127659574468,14.382105907875,13.5197478817917,7.1604091109375,37.603251335,13.7004012003333,25.5619729333333\n",
      "\"249\",2004-09-05,20.9896994577917,7.85547447897826,48.183422375,3.05531914893617,14.6626154401875,32.5261827083333,3.19042553191489,9.420055842375,13.0282378100652,5.68582484327083,28.751746083125,10.0866326191042,17.0981246853542\n",
      "\"250\",2004-09-06,34.4368520704167,17.8154532895625,NA,4.20170212765957,29.9275333068261,52.8282880434783,3.82595744680851,NA,17.8650970305208,10.0394135089565,61.9206413291667,16.0823349674565,30.3162312449375\n",
      "\"251\",2004-09-07,NA,16.8049709398542,74.8723922916667,4.755,30.8088118723125,60.4949275416667,6.20489361702128,23.1896389025417,17.8175222446667,9.6101513639375,64.7508579354348,NA,34.175970416087\n",
      "\"252\",2004-09-08,26.9713152831957,18.5203134066458,64.3464638043478,4.09723404255319,28.7501818697083,63.6465045416667,5.67489361702128,24.2609747397083,20.275960452625,10.4125859883542,67.584300518125,18.3062074388125,NA\n",
      "\"253\",2004-09-09,36.6854723755417,14.7787264721304,71.4939972608696,5.07340425531915,33.3645945192391,62.969429627907,6.30808510638298,25.7315854357609,8.6540791603913,9.03276780113953,68.9541778322917,19.9529338571875,32.5149178441667\n",
      "\"254\",2004-09-10,41.5399707134583,25.6363392675833,91.6418300217391,8.88765957446808,35.5005417935417,76.249384375,5.30127659574468,29.8970356295833,NA,11.7882819039375,47.5396107789535,18.7959204912609,54.6289826310417\n",
      "\"255\",2004-09-11,20.6208711165625,12.6073887389375,45.6546807173913,5.21425531914894,17.9690026805625,47.6071382083333,3.79468085106383,12.0465721913542,9.27612390920833,7.34267766729167,29.8606355710833,11.6889932872083,26.7615584653043\n",
      "\"256\",2004-09-12,10.063009481913,6.16989598982609,28.8897312291667,2.4336170212766,12.0434988697083,28.9451662083333,1.86375,7.10586839870833,5.77419975633333,4.846035906375,14.210187447,7.350039947375,17.7219264829792\n",
      "\"257\",2004-09-13,26.1170203350208,20.4630550790417,55.1883150625,5.12489361702128,23.405697213087,63.2657800434783,2.35957446808511,15.5757373846304,12.0625755094348,7.44015888604348,47.8112344531667,14.8862247298958,32.0350167750417\n",
      "\"258\",2004-09-14,19.2517218107917,23.0244691030417,58.3745364375,5.77872340425532,31.0833397875833,69.4294755416667,3.43595744680851,22.1567779041667,15.8743789457917,12.195868039625,47.3642479352174,16.5365184713478,45.5185484626458\n",
      "\"259\",2004-09-15,11.6855694484583,16.2461558999375,47.8995570652174,6.98787234042553,19.8169017084167,72.183811875,NA,10.2220248186042,11.0851912821458,8.26025797985417,51.6424553066042,11.6119890534375,42.6708722675217\n",
      "\"260\",2004-09-16,11.8277018938043,11.7801514228043,47.9403735416667,4.17063829787234,21.1096945585625,37.1878065869565,5.03957446808511,11.6642581777917,17.4160216629783,9.75922470041304,63.5886447085,15.832906388125,32.5514801325833\n",
      "\"261\",2004-09-17,30.9771938086667,29.3326730550417,NA,8.58069767441861,30.4393527426739,89.9135328958333,6.78234042553192,24.4494027981522,19.2109817262917,11.9841737218958,75.1797298793478,19.908822391125,39.1402328998958\n",
      "\"262\",2004-09-18,29.7693030340208,24.8682924451875,NA,9.14085106382979,34.2222315202083,52.51459225,2.83702127659574,20.6931814771667,16.2303396250417,7.6798762911875,32.6843493713958,17.1567992828478,27.7341686709167\n",
      "\"263\",2004-09-19,11.2607456784583,17.6328608415417,32.7748382391304,5.51829787234043,18.31870694875,36.8818611666667,1.98808510638298,NA,12.5892923609167,5.74506400095833,22.3043831548125,11.0134925239792,20.4781340366739\n",
      "\"264\",2004-09-20,22.8618657823043,11.3748720048696,48.4714650434783,4.10553191489362,26.4211134058333,54.3814144565217,3.31468085106383,19.9207531331667,9.14867734630435,9.93763301667391,21.7558166750625,13.6526810761875,23.0551945264583\n",
      "\"265\",2004-09-21,11.0543852920833,11.6318757481042,43.2634713617021,6.01936170212766,10.6295313344565,54.1462103541667,2.2868085106383,8.94134474070455,6.5697054678125,8.8181578805,19.2810903618667,11.7158137437609,11.7769780378958\n",
      "\"266\",2004-09-22,9.43258615189583,9.32582879833333,28.2345797083333,3.45063829787234,13.6215034692955,55.5816345416667,2.83191489361702,NA,5.99889170114583,7.60482901208333,13.7501986367917,10.4413193391875,10.6518224243261\n",
      "\"267\",2004-09-23,28.7658676868913,9.47582077710417,62.1350285652174,5.34,14.0658938823617,36.8249394375,2.06404255319149,8.6613533148125,13.3276795248542,8.61206348364583,16.763930726125,21.7176389108958,17.2853091130208\n",
      "\"268\",2004-09-24,9.7142184284375,13.4096772038696,35.358844,5.02574468085106,18.6704692800208,56.7380409565217,1.70978723404255,10.1827819922083,13.3074550778478,6.81264614752174,18.1800337798333,13.8426238484167,40.6237484047083\n",
      "\"269\",2004-09-25,11.3996530335417,12.4861857577917,40.7867047916667,7.42553191489362,17.4227468095,40.771675875,1.37382978723404,9.91816972186957,7.6428281753125,8.34639563508333,23.5036120100652,11.1557778128696,27.853518600375\n",
      "\"270\",2004-09-26,9.24227975804167,12.5183530489375,26.875607875,4.40914893617021,16.1290894223958,34.4071251666667,1.32468085106383,5.61196590114583,10.7414349539583,5.34610167845833,27.3161505426458,9.016454442375,19.9471095452174\n",
      "\"271\",2004-09-27,29.3355028453478,21.6472610893913,73.3417054347826,9.28914893617021,30.8506761685208,53.7836857916667,2.2236170212766,24.1470557178958,14.6070994253125,11.3492732522917,40.3068745364583,18.345523114875,37.0749232053542\n",
      "\"272\",2004-09-28,36.7325158973125,32.895271308125,65.2918654791667,12.7,34.6210781200217,56.5602061086957,3.60046511627907,32.5861560708696,18.7271434233261,12.2189924341304,50.46923361275,21.0745107352979,40.7907843897708\n",
      "\"273\",2004-09-29,37.7628987304375,26.8221923661667,67.4818963958333,10.7265957446809,30.9288583421875,77.679092375,4.07170212765957,NA,23.2184174329375,12.6597590436458,38.8828345555652,22.126587375413,42.2093729895833\n",
      "\"274\",2004-09-30,44.67175259325,40.5726226347917,80.8365754782609,8.53666666666667,40.0961849552083,65.5528154166667,4.67595744680851,35.46257842,20.6263210508958,11.7781961372917,61.61113969,23.5720170099583,49.5620564567391\n",
      "\"275\",2004-10-01,41.3251540019333,31.9621385725652,81.3125003125,10.9997872340426,31.2668258925,77.5909088125,3.77191489361702,27.9873669929167,27.4029859886042,10.4129273308542,52.9247757371064,19.7413870550417,38.1208953729167\n",
      "\"276\",2004-10-02,20.5938273879792,18.7371493577708,47.8541430208333,5.97787234042553,20.5155260596304,44.0903924565217,3.32340425531915,13.5050922015,12.616299120413,7.71426259019565,33.7672267371875,12.4061881134167,29.1695117795833\n",
      "\"277\",2004-10-03,19.8853841839792,21.2236275103542,37.02116875,3.79340425531915,22.0807187233333,34.7691577708333,2.08489361702128,14.4436171421458,9.587667808625,5.5806747571875,29.2286911668043,13.5800907613043,22.0836905135208\n",
      "\"278\",2004-10-04,50.99934823,39.015297770625,88.1752095217391,7.77297872340426,44.3996579506875,80.0938430625,2.17276595744681,NA,17.3434511090208,13.199172779875,60.9434618033333,27.4537242321064,40.9143786354783\n",
      "\"279\",2004-10-05,52.7602073144783,68.5688470572174,120.9217749375,7.4363829787234,40.3677314385417,97.5873572608696,2.44208333333333,33.4233743791458,23.4942733121739,NA,84.7825694927083,27.3679605957708,56.8577689633333\n",
      "\"280\",2004-10-06,19.6502702023333,43.8538248545,45.9194472916667,7.75914893617021,NA,95.6564112083333,3.02021276595745,33.4263056544792,26.9070819855417,15.2232287825833,66.4129993418044,24.9785728921458,60.9099596329167\n",
      "\"281\",2004-10-07,27.7839155076875,13.025930130125,68.2229474375,7.94851063829787,31.3869259098333,NA,4.36489361702128,17.781520908125,19.002763276766,11.7907303952917,54.3792016245833,17.6964663858261,33.4946064151042\n",
      "\"282\",2004-10-08,37.9676880961458,30.5051775479167,75.526143173913,10.6582978723404,32.8912857060417,69.391084875,3.25085106382979,24.0746289648478,24.4866348354792,12.239043619,NA,22.0696434810851,43.0556180686957\n",
      "\"283\",2004-10-09,21.1248921299565,10.5482036758913,46.3839834791667,5.64085106382979,21.7795612653958,18.5239824375,4.99893617021277,13.4830288393958,13.7076002052609,10.7579467015435,28.4636288785417,15.2812564942708,25.9372474646042\n",
      "\"284\",2004-10-10,14.9832579573958,9.39678475139583,31.135969125,4.58723404255319,18.6576679687174,12.5920602708333,3.75893617021277,NA,9.20506948010417,10.2891433735208,18.37535446125,13.6181320489565,22.7905024724792\n",
      "\"285\",2004-10-11,18.1482806726042,NA,50.8694161875,6.08468085106383,31.7767876008542,10.7371735217391,8.90553191489362,NA,7.84674309860417,14.8043335543333,37.9693511385417,17.3867101259375,33.340323741087\n",
      "\"286\",2004-10-12,NA,19.0407863453958,60.8263519565217,10.7346808510638,30.9441328079167,55.8140557916667,5.91136363636364,20.3248734705,12.2794016449375,13.8416331743696,59.8392938178261,24.1550378407708,34.7045323092083\n",
      "\"287\",2004-10-13,32.498082721087,22.8905279980208,NA,15.2395348837209,37.3235242026087,55.5137538541667,5.35531914893617,26.883978501875,13.2124274626522,16.0299079405625,53.762772575,24.4015840357292,40.4997583173125\n",
      "\"288\",2004-10-14,34.9334256344583,28.6853726718333,82.2841330625,9.08936170212766,34.9036164139583,69.5525191304348,3.18042553191489,26.1739278652708,17.0735910721458,12.2390212879167,55.4600324335417,NA,43.9482598916667\n",
      "\"289\",2004-10-15,15.90185565525,16.9500307462391,48.4520977083333,4.84936170212766,25.7637649833191,64.438490106383,2.78574468085106,20.3376184386667,14.8107710419375,11.2247144385208,41.5961572155217,15.6058750130217,36.8334819650652\n",
      "\"290\",2004-10-16,15.7134392351667,11.2361757235,NA,3.4431914893617,21.0033929642708,37.2233055833333,1.53936170212766,12.7937111373261,6.900066321875,7.91413403969565,35.3013646119583,11.2178210721458,28.221497563625\n",
      "\"291\",2004-10-17,8.76753075463044,5.56617429727083,NA,2.56276595744681,12.8143962473696,20.3160249375,0.792978723404255,7.22974107377083,8.30534858393182,5.74091742141667,12.3700460462292,9.46869514641667,15.5338344889167\n",
      "\"292\",2004-10-18,39.2037301631667,16.2088514571087,74.1530139130435,4.58468085106383,39.488149817,55.9919262608696,1.73234042553191,24.3679363898958,15.156219974125,12.5232079638333,40.5037247132708,NA,NA\n",
      "\"293\",2004-10-19,39.1292232358542,38.5834977636957,75.6235115217391,9.77489361702128,40.1904492886667,92.8759995833333,1.42553191489362,29.8473720916957,NA,27.5080628322917,81.860545571087,30.377695271913,71.1087753007826\n",
      "\"294\",2004-10-20,26.7782317772292,64.5458482085106,30.4055901666667,7.7831914893617,50.256618575,91.6510970625,1.83702127659574,41.568632275,31.0519131760417,24.6006642275435,82.0865490145833,36.3107885441667,73.5030189720833\n",
      "\"295\",2004-10-21,31.3166535402609,53.2792601022917,60.4829528541667,9.97021276595745,48.0857713428478,98.5775299791667,1.56042553191489,37.0782252445833,31.1960813202174,14.9044357604167,71.08772612625,21.2864846425,67.6882469202708\n",
      "\"296\",2004-10-22,50.335167857875,59.669161718913,79.6989717708333,16.6289361702128,44.09379719625,82.2387710652174,1.59,35.4375473716667,29.4993726993542,15.6871157831042,76.7218735770833,26.3587037594167,49.06627208125\n",
      "\"297\",2004-10-23,42.0456974066667,43.737154305,64.5185121521739,7.73020833333333,32.9085770414583,51.3151330208333,2.24212765957447,20.2778638519565,26.5012458232708,10.576906495125,43.0365718130435,22.4861453526087,44.2976268558696\n",
      "\"298\",2004-10-24,27.5567388477083,38.3547023502708,46.4679454583333,4.75170212765957,28.4556365417083,48.7598153125,1.16276595744681,18.3777265658125,15.9350817211957,9.09757959541304,31.2767796230833,23.66908524575,35.2573840305625\n",
      "\"299\",2004-10-25,38.9063057269783,48.3626344346667,82.0621557708333,6.05723404255319,40.464398355413,85.1553851666667,2.91617021276596,33.4410325933542,24.6282903401458,15.3290506431042,63.059325769125,24.4748409225833,54.6566617403958\n",
      "\"300\",2004-10-26,19.8968339149375,10.4525354431087,64.9898110625,3.06127659574468,16.4932160745208,41.2323367826087,5.32139534883721,19.1037414846042,16.9172737668958,11.3005645599583,45.7919868313958,16.6402953437083,41.9606766993958\n",
      "\"301\",2004-10-27,33.2763139936042,14.0680178062708,59.5086287391304,4.81404255319149,25.3909301246875,62.63670925,7.33574468085106,17.9891028671304,10.6570944246458,12.6653161597708,66.9459939381522,22.7640503915,39.9609925762174\n",
      "\"302\",2004-10-28,4.5589443008125,34.6906328230833,10.9429232916667,10.7104255319149,40.1142255095833,79.1765893958333,4.37875,35.5124199097917,22.8670306443043,22.065119532587,80.6213590508333,20.0444551927083,57.6782899527083\n",
      "\"303\",2004-10-29,41.6096132972609,58.5089141952083,68.15832125,11.5709302325581,68.1739879997826,69.3888963617021,7.13829787234043,62.783650664375,41.7200232085417,29.75341542625,81.5593266895833,38.0785427329167,63.1812467525\n",
      "\"304\",2004-10-30,30.7538462499375,28.445848559,55.0076598125,6.6536170212766,27.9182510866667,49.946956326087,5.51276595744681,22.1386240004167,19.5408388156042,13.2819461641458,40.7528286135208,25.0404908238043,39.4573233064348\n",
      "\"305\",2004-10-31,19.9515744456522,13.9862675231957,35.4099775,3.99893617021277,22.3599066643478,15.8550243695652,5.76106382978723,19.1077574547727,11.8839821788478,11.5048771006818,23.0040489959091,17.8285873365435,25.0048533558696\n",
      "\"306\",2004-11-01,20.7991860989565,20.2939079740213,41.0287541666667,3.76212765957447,17.7171010870652,30.332314,4.65148936170213,15.37906276625,11.5369831127609,9.1760046985625,58.6402257328542,15.2480744069167,27.8799576582917\n",
      "\"307\",2004-11-02,36.5084322258333,23.4920981075652,83.0230082826087,7.91148936170213,36.90990115125,49.467642673913,10.373829787234,28.5664742384091,32.5371917821957,22.2534385670833,59.7925125553488,31.4609497583958,55.1465698452083\n",
      "\"308\",2004-11-03,57.9671298635417,42.6260439967391,103.568245434783,16.3004255319149,34.8036958004167,NA,9.64404255319149,31.3873240575,36.212586076875,20.778030469375,90.4339954414583,38.0630972591304,51.0579304449783\n",
      "\"309\",2004-11-04,52.8706274260417,39.5985949545833,113.775554395833,26.9042553191489,42.1188905483333,64.600291875,4.23489361702128,32.9630557872917,28.3399010804167,23.7448443540217,38.24321757,35.277384705,47.8549406529167\n",
      "\"310\",2004-11-05,41.1166013681957,26.7819974714792,NA,14.513829787234,41.7909002793478,39.8526233695652,6.54978723404255,39.0216648316667,33.2818765254348,19.403452292125,31.8380197039583,33.9093793967292,49.1315421464583\n",
      "\"311\",2004-11-06,11.4522965689375,14.8174880440217,37.7813299791667,8.34893617021277,18.8650883492083,32.4890245217391,7.22276595744681,12.4390199290435,20.9263909347083,11.0445498028542,30.6100331786522,17.364544707875,26.9904281041875\n",
      "\"312\",2004-11-07,9.04736805404167,18.20858592625,18.9901311304348,4.50106382978723,19.2085034505625,31.7294008541667,3.73936170212766,13.9504430120833,12.9159197303958,11.0453825504792,31.2900881102083,14.1428596000435,27.9042283553261\n",
      "\"313\",2004-11-08,NA,NA,50.2877302708333,7.13872340425532,37.1849053654167,74.3618448125,6.10021276595745,27.319292716875,20.828405894587,13.7683826681957,78.0593094716667,NA,49.0771114585417\n",
      "\"314\",2004-11-09,18.7269385761957,23.3903194411042,61.2297237916667,9.8463829787234,NA,43.8265530416667,7.50181818181818,25.8460123673913,26.0247478126042,NA,46.9317408416591,21.8321911091667,NA\n",
      "\"315\",2004-11-10,30.5555600660208,27.872960235,71.8440631041667,15.2021276595745,36.25050235375,77.357300826087,11.7293617021277,35.2039037517292,17.2779708333023,17.1312512015417,58.4436043929167,27.6864974702083,55.24017958375\n",
      "\"316\",2004-11-11,46.0256582557708,14.8848650540638,89.8611918043478,11.3212765957447,27.75685225125,23.6465537291667,11.2776595744681,21.6967453852083,26.6028409927083,20.5999599908333,58.4731232604167,28.1274032182609,42.9703770323913\n",
      "\"317\",2004-11-12,26.95048122375,20.389431497587,62.7344695416667,17.3814893617021,29.6042927352083,72.4054938333333,13.0740425531915,19.4598022027083,15.4293170746522,16.3046225621667,48.76481305,30.5960988004167,41.6932017067391\n",
      "\"318\",2004-11-13,12.368711928587,15.7494428329583,30.2803806666667,9.01851063829787,29.532749648913,40.1750237291667,8.97297872340426,24.0136698252174,11.0034235030417,14.4441756789565,52.0953999026087,24.0713904703125,39.0764027779167\n",
      "\"319\",2004-11-14,4.64476392625,7.86595184385417,14.0306455208333,2.87617021276596,15.0289266806458,8.16739358695652,3.24765957446809,7.03872051275,10.7605397377083,5.07963506354167,23.7968163102917,11.9829286539375,15.283556289625\n",
      "\"320\",2004-11-15,43.9005758373542,31.0399728509792,76.9221234565217,5.70125,33.1893196157083,35.4816570833333,6.12702127659574,21.4533741754375,33.5447816082292,15.37553192525,81.3177272599583,33.8508711071087,45.8695134508478\n",
      "\"321\",2004-11-16,80.5661766484783,74.100261668913,123.8608476875,20.8104255319149,68.8868186167391,113.515393791667,4.7368085106383,57.854204425,39.2220128991304,21.2667489085217,106.983907751667,46.1990014516667,72.3967741358333\n",
      "\"322\",2004-11-17,93.8717865127083,34.9680437979167,124.225650854167,17.7704651162791,48.3949898460417,92.0684335217391,3.84083333333333,35.29181302,38.2614791260417,20.5306778237083,40.2269802028261,45.7408789402083,45.4215404477083\n",
      "\"323\",2004-11-18,80.264261648125,19.6579502116875,111.165167291667,13.291914893617,38.3081861179792,62.8131273043478,3.64574468085106,20.0471099767292,9.23689403660417,23.1848715958542,30.1445261393542,34.7288120106522,22.4336997891304\n",
      "\"324\",2004-11-19,16.6816655459167,12.9292718788958,41.32874475,4.28936170212766,17.1051581078125,44.691704375,3.08127659574468,13.8510042287917,7.5912458039375,12.6519448201042,18.8904963067917,24.9592597682292,24.8991558791875\n",
      "\"325\",2004-11-20,12.7027369986739,18.6107536943478,31.3639456875,8.77829787234043,23.7119374783913,36.5776243333333,2.36765957446809,20.8918952998043,23.1209276463043,11.9621018034565,22.77376665825,22.4603371221875,20.8149089260833\n",
      "\"326\",2004-11-21,16.9506091882083,32.4405895295833,24.0916001458333,7.37553191489362,26.0610755205208,31.3123468695652,1.55872340425532,NA,13.7964177390417,10.7435384397917,40.3634510555652,20.8045226922292,29.5956195954375\n",
      "\"327\",2004-11-22,64.9767835554167,25.3604499114583,108.626547978261,15.9129787234043,41.2943031925,55.9562586458333,1.58851063829787,23.30096163825,25.231816389625,21.6360680445625,37.3880646937292,33.0531512657391,35.1229321156087\n",
      "\"328\",2004-11-23,56.5567064804167,25.6670099662292,88.1122196875,9.18425531914894,36.3765012779167,71.4213587083333,NA,22.4514003018333,30.8696913934375,25.7464390814792,47.0916013922708,43.6141398335417,42.1614108512708\n",
      "\"329\",2004-11-24,64.9266619369565,22.9184409231136,93.651291326087,6.65021276595745,37.5184680673913,25.4315982083333,9.03851063829787,17.96129984,12.6254902631957,19.6167895127391,66.9430556105,33.623866895875,42.5375446697917\n",
      "\"330\",2004-11-25,96.1671456491667,52.2960108422917,136.455379916667,15.7993617021277,44.8737656483333,106.989255326087,6.53191489361702,37.0318532547826,22.0631156897917,21.008415000625,99.8804301019565,47.0528069133333,61.5660704216667\n",
      "\"331\",2004-11-26,133.636725533958,69.6535115302083,173.174271717391,19.5074468085106,93.9529391345833,111.3611295,3.43,93.4626330753191,53.8642914545833,28.4592541738542,85.5247823779167,59.8256061354348,99.1528139554348\n",
      "\"332\",2004-11-27,55.579180404375,66.7070820795652,77.0018765833333,12.0944680851064,51.845324255,78.396652625,5.12914893617021,53.4598991385417,27.6744004511522,22.4968216829583,83.38708109375,37.1337601945833,70.1635772875\n",
      "\"333\",2004-11-28,26.5393510443696,35.3400424364583,37.8278333958333,8.20106382978723,31.3089140663043,33.7267244791667,1.93,23.7487858228261,17.62258953875,17.1543082956304,33.0311183257174,29.852810720625,41.95658348875\n",
      "\"334\",2004-11-29,87.3092150232917,38.0201539399792,161.127109145833,9.02702127659574,49.86683197125,59.0476410652174,12.9868085106383,44.7587887208333,30.5493335077083,33.1003639635,68.5504499647917,57.6094463679167,65.854718035625\n",
      "\"335\",2004-11-30,38.3972887875,20.3722867346042,68.8201468043478,11.5440425531915,31.3458705435417,31.2144641666667,12.9625531914894,22.0162698658333,32.40473658475,24.15019025125,57.3397840436875,36.0068202632609,49.2213824132609\n",
      "\"336\",2004-12-01,11.8038113127708,56.0272768128261,24.1415081875,27.97,52.1768169,80.3556535833333,10.0114893617021,46.892990528125,48.0210262671111,29.5857469114167,74.2302654791667,NA,61.5915179872917\n",
      "\"337\",2004-12-02,59.9853706973043,40.3235188802083,NA,NA,58.679462398125,NA,NA,52.0493045751163,29.8955410725,31.5450797213043,66.6157043858696,43.1140604814583,59.6508912414583\n",
      "\"338\",2004-12-03,102.28334276625,69.952911715625,155.13972275,NA,NA,115.148105255319,3.57063829787234,75.514736468125,51.5740562016667,38.36831095625,101.044275683958,63.1447608477083,90.11416435\n",
      "\"339\",2004-12-04,59.7383634297917,26.4247865212083,83.1238025869565,16.8853191489362,59.3201258816667,42.8699017291667,13.6474468085106,41.0660891029167,24.3675682298542,29.2984082602083,61.3301183839583,38.2380136821739,58.780130730625\n",
      "\"340\",2004-12-05,15.4488616067826,10.4454650740652,31.712385625,7.64170212765957,22.6802856254167,12.7984446666667,9.67787234042553,11.9153375197292,11.2581558478261,14.6898241877174,32.7863473578542,21.2850297495833,22.6455538770833\n",
      "\"341\",2004-12-06,28.3390594775625,11.8614491792083,70.1785375208333,7.31659574468085,33.3937615764583,24.158251326087,9.80659574468085,12.8826930816087,NA,14.755848539625,61.1097101742174,20.3071470163542,40.5348872407292\n",
      "\"342\",2004-12-07,NA,24.7289885718333,62.2073368958333,18.763829787234,39.1928038134783,63.7081768541667,8.85954545454545,26.30468993,19.2926290242292,17.290848157375,64.6970950127083,26.1659241552174,53.0617747834783\n",
      "\"343\",2004-12-08,26.8973562060417,NA,39.568542326087,20.6916666666667,51.57320880125,30.8162134375,27.5234042553192,29.23505813125,22.1824086108333,29.8348125370833,69.692277781875,32.5201805433333,NA\n",
      "\"344\",2004-12-09,39.6326953254348,27.2808605964583,59.7468177083333,18.7485106382979,56.2684044222917,57.9716570652174,31.7259574468085,31.6648598676087,19.5696646541304,35.1858864058696,NA,40.6978040135417,64.2845354825\n",
      "\"345\",2004-12-10,42.5403192160417,47.1297599975,71.5863338333333,36.1272340425532,57.1727142382609,84.8193887083333,3.52395833333333,45.2537003074468,30.2787581460417,33.5275735023256,82.93874270625,44.802374601875,64.1321174258333\n",
      "\"346\",2004-12-11,44.1906369252083,46.1814128829167,58.9203101521739,38.631914893617,48.4164536541667,54.4095567291667,0.801063829787234,36.0718352166667,31.911459210625,29.2747763760417,44.8820299070833,38.0422556091304,51.9821486743478\n",
      "\"347\",2004-12-12,27.6553221825,36.3410596523913,32.9223230625,32.72,36.1097296379167,33.8952853125,0.524468085106383,27.0596303889583,28.9549344047917,22.83255278375,30.9754480347917,30.960645199375,42.2579495416667\n",
      "\"348\",2004-12-13,47.3060030406522,33.617172366875,91.715211375,25.368085106383,46.5623466002083,59.4097650434783,0.492978723404255,38.6779903554348,34.1998525369565,28.7045434535417,48.5274906928261,36.6750137408333,64.8281847285417\n",
      "\"349\",2004-12-14,83.1251701089583,60.5895577747917,152.0529450625,28.6268085106383,58.7617002763043,89.6201337708333,0.898085106382979,53.7442010435417,45.3117408958333,36.35519501,71.5848462172917,46.7358258564583,71.0869683016667\n",
      "\"350\",2004-12-15,111.938599955,70.32918882625,174.384171863636,40.0608510638298,73.6181250975,77.0704494791667,0.699787234042553,64.7004202010417,53.5113428108333,45.1189937302083,73.2024595929167,66.3497045767391,95.3836733186957\n",
      "\"351\",2004-12-16,110.881183822708,86.5704066754348,172.5851191875,NA,97.356625590625,92.9835579375,1.27106382978723,89.1150768947917,64.4517931930435,49.7974973825,73.7009946566667,71.1393922164583,107.310352281875\n",
      "\"352\",2004-12-17,38.2814557073261,14.7461530152292,69.3465267291667,9.54531914893617,47.3345449130417,47.0231618478261,2.96914893617021,29.5705157648261,34.8717893191875,26.4856826185,37.0821779138043,38.02844158775,48.8757704085417\n",
      "\"353\",2004-12-18,4.95971217533333,7.4500643184375,21.3359443958333,3.73978723404255,14.0000437141087,24.1281934166667,1.99595744680851,8.69837388760417,NA,6.05566656089583,14.3529427711458,15.2817088667917,22.7827178001458\n",
      "\"354\",2004-12-19,13.5442036361458,8.26276633858696,16.0017107391304,3.41617021276596,26.5385268131667,10.0140620833333,2.22276595744681,18.8751105431667,12.6529003122292,13.3216655706042,18.5684842642292,21.2189684432391,37.296461886\n",
      "\"355\",2004-12-20,14.9905376260625,13.8833326915625,49.5526562083333,8.00255319148936,22.7675217810417,21.4096146875,8.68723404255319,14.05861836175,14.8828059685435,17.07662152775,59.8053711766739,22.5779254431667,38.787324155375\n",
      "\"356\",2004-12-21,33.6952793240652,26.8438080406383,75.114862125,10.4217021276596,44.1243889345833,25.5105646304348,NA,21.9577444202174,25.42447608625,17.8394480383261,51.294453340625,39.5696854984375,49.31451273375\n",
      "\"357\",2004-12-22,35.8360668186875,30.5945091822917,69.1100300208333,12.7495744680851,37.2387243380435,67.11395175,7.26702127659574,29.4729330458333,43.3199316866667,18.6612011607083,57.1313927691667,34.0950257575217,33.9771445535435\n",
      "\"358\",2004-12-23,56.393997824375,14.3333848326304,87.9856673913043,11.4978723404255,46.96824539625,43.4129353333333,2.20808510638298,28.7872105241875,54.4574580475,22.5020272931042,29.8565540408333,37.3636719575417,50.7305397358333\n",
      "\"359\",2004-12-24,39.8024562291304,8.3552535776875,56.7558317291667,5.54,44.4602118850625,28.650654375,1.1968085106383,22.1359337817708,9.52252916863043,21.9891591881875,20.9016691902609,33.7633786997917,49.8563413972917\n",
      "\"360\",2004-12-25,7.17936572670833,11.8563113764375,9.1929729375,4.88851063829787,25.7462662316875,28.2109894347826,1.51723404255319,16.2342806002174,8.21600042152083,15.1276709541304,16.4948999474583,20.1592122320833,33.5784421343125\n",
      "\"361\",2004-12-26,13.1686608807083,12.1338233435,26.8268873333333,3.5768085106383,13.6975763042667,22.0480657083333,3.77255319148936,8.26871841764583,16.4581214943333,11.1339970279583,39.0796793686042,12.0616070812609,22.1534777726739\n",
      "\"362\",2004-12-27,14.5697048018958,16.1662623003913,46.1164862826087,7.42446808510638,21.3842067683333,58.8227895208333,9.76531914893617,21.788086363125,20.5705375908333,19.4055188270833,64.9875640558333,18.7155257270833,39.39970348125\n",
      "\"363\",2004-12-28,16.5588070201957,16.4855162815417,36.9261172291667,9.69063829787234,29.0734939063333,55.784669673913,8.42297872340426,20.0422878945435,14.6646762622174,20.1020301027083,30.4918382166522,22.2083695136875,35.6732891589583\n",
      "\"364\",2004-12-29,15.532009713125,24.4836494180417,37.6581824583333,9.04787234042553,27.3050696872826,66.0186002083333,2.50021276595745,15.7794989062917,27.4454798643333,16.2508020280652,38.9643862561458,32.1227682338542,36.9066985634375\n",
      "\"365\",2004-12-30,30.769743026125,33.9957371752083,49.2854311304348,11.9255319148936,41.8164043847917,79.725533375,1.8431914893617,24.5590610883542,18.1607796906667,16.7957216108958,72.581040814375,41.4670408490217,48.4066514430435\n",
      "\"366\",2004-12-31,41.9912816047917,30.6413380147826,56.8246449583333,10.206875,29.146960198125,32.5151699583333,0.522127659574468,20.1567231006875,25.1616938789583,21.8610677002083,29.3725927902083,33.8142060636667,49.0633301754167\n"
     ]
    }
   ],
   "source": [
    "#!cat ambientNOxCH.csv\n",
    "!cat 'ambientNOxCH.csv'"
   ]
  },
  {
   "cell_type": "markdown",
   "metadata": {},
   "source": [
    "These data are a compilation of daily average concentrations (in parts per billion) of NOx compounds at 13 different locations in Switzerland.  NOx compounds are a chemical shorthand for NO$_2$ and NO - Nitrogen-based air pollutants."
   ]
  },
  {
   "cell_type": "markdown",
   "metadata": {},
   "source": [
    "You can see there is a lot of data and it would be useful to keep this data organized in a tabular data structure. This is exactly what a pandas dataframe does.   "
   ]
  },
  {
   "cell_type": "markdown",
   "metadata": {},
   "source": [
    "Let's load the csv file above as a pandas dataframe. First we need to import the pandas library."
   ]
  },
  {
   "cell_type": "code",
   "execution_count": 45,
   "metadata": {
    "collapsed": true
   },
   "outputs": [],
   "source": [
    "import pandas as pd"
   ]
  },
  {
   "cell_type": "markdown",
   "metadata": {},
   "source": [
    "Now lets read in the file and store it as a dataframe object, <tt>df</tt>"
   ]
  },
  {
   "cell_type": "code",
   "execution_count": 46,
   "metadata": {
    "collapsed": true
   },
   "outputs": [],
   "source": [
    "df = pd.read_csv('ambientNOxCH.csv')"
   ]
  },
  {
   "cell_type": "markdown",
   "metadata": {},
   "source": [
    "Note: In this example, I just give the name of the file, because the file is in the same dirctory as the notebook.  If the file were in a different directory, I would need to provide the full address (\"path\") to the directory, like \"/Users/csalyk/datafiles/ambientNOxCH.csv\""
   ]
  },
  {
   "cell_type": "markdown",
   "metadata": {},
   "source": [
    "To see all the data in the dataframe, you can simply evaluate the variable. "
   ]
  },
  {
   "cell_type": "code",
   "execution_count": 47,
   "metadata": {
    "scrolled": true
   },
   "outputs": [
    {
     "data": {
      "text/html": [
       "<div>\n",
       "<style scoped>\n",
       "    .dataframe tbody tr th:only-of-type {\n",
       "        vertical-align: middle;\n",
       "    }\n",
       "\n",
       "    .dataframe tbody tr th {\n",
       "        vertical-align: top;\n",
       "    }\n",
       "\n",
       "    .dataframe thead th {\n",
       "        text-align: right;\n",
       "    }\n",
       "</style>\n",
       "<table border=\"1\" class=\"dataframe\">\n",
       "  <thead>\n",
       "    <tr style=\"text-align: right;\">\n",
       "      <th></th>\n",
       "      <th>Unnamed: 0</th>\n",
       "      <th>date</th>\n",
       "      <th>ad</th>\n",
       "      <th>ba</th>\n",
       "      <th>ef</th>\n",
       "      <th>la</th>\n",
       "      <th>lu</th>\n",
       "      <th>re</th>\n",
       "      <th>ri</th>\n",
       "      <th>se</th>\n",
       "      <th>si</th>\n",
       "      <th>st</th>\n",
       "      <th>su</th>\n",
       "      <th>sz</th>\n",
       "      <th>zg</th>\n",
       "    </tr>\n",
       "  </thead>\n",
       "  <tbody>\n",
       "    <tr>\n",
       "      <th>0</th>\n",
       "      <td>1</td>\n",
       "      <td>2004-01-01</td>\n",
       "      <td>11.980009</td>\n",
       "      <td>14.662142</td>\n",
       "      <td>17.332767</td>\n",
       "      <td>7.729787</td>\n",
       "      <td>22.724384</td>\n",
       "      <td>20.128474</td>\n",
       "      <td>6.315106</td>\n",
       "      <td>11.340373</td>\n",
       "      <td>13.461901</td>\n",
       "      <td>13.403823</td>\n",
       "      <td>27.046782</td>\n",
       "      <td>16.228219</td>\n",
       "      <td>25.494337</td>\n",
       "    </tr>\n",
       "    <tr>\n",
       "      <th>1</th>\n",
       "      <td>2</td>\n",
       "      <td>2004-01-02</td>\n",
       "      <td>16.991053</td>\n",
       "      <td>18.711749</td>\n",
       "      <td>40.353465</td>\n",
       "      <td>8.014681</td>\n",
       "      <td>21.209295</td>\n",
       "      <td>45.235159</td>\n",
       "      <td>8.725957</td>\n",
       "      <td>15.386788</td>\n",
       "      <td>15.762092</td>\n",
       "      <td>19.340053</td>\n",
       "      <td>35.819629</td>\n",
       "      <td>21.168657</td>\n",
       "      <td>34.469548</td>\n",
       "    </tr>\n",
       "    <tr>\n",
       "      <th>2</th>\n",
       "      <td>3</td>\n",
       "      <td>2004-01-03</td>\n",
       "      <td>12.320727</td>\n",
       "      <td>8.746081</td>\n",
       "      <td>35.066020</td>\n",
       "      <td>6.832766</td>\n",
       "      <td>26.765677</td>\n",
       "      <td>8.404435</td>\n",
       "      <td>10.310625</td>\n",
       "      <td>11.038316</td>\n",
       "      <td>9.815012</td>\n",
       "      <td>16.507350</td>\n",
       "      <td>34.882952</td>\n",
       "      <td>16.371493</td>\n",
       "      <td>29.057676</td>\n",
       "    </tr>\n",
       "    <tr>\n",
       "      <th>3</th>\n",
       "      <td>4</td>\n",
       "      <td>2004-01-04</td>\n",
       "      <td>13.528027</td>\n",
       "      <td>19.347593</td>\n",
       "      <td>26.274157</td>\n",
       "      <td>11.836383</td>\n",
       "      <td>26.510881</td>\n",
       "      <td>37.356128</td>\n",
       "      <td>7.001702</td>\n",
       "      <td>19.422575</td>\n",
       "      <td>13.023148</td>\n",
       "      <td>14.972394</td>\n",
       "      <td>34.838158</td>\n",
       "      <td>18.140785</td>\n",
       "      <td>26.160293</td>\n",
       "    </tr>\n",
       "    <tr>\n",
       "      <th>4</th>\n",
       "      <td>5</td>\n",
       "      <td>2004-01-05</td>\n",
       "      <td>47.023984</td>\n",
       "      <td>57.471300</td>\n",
       "      <td>53.344783</td>\n",
       "      <td>10.744255</td>\n",
       "      <td>58.602419</td>\n",
       "      <td>110.415986</td>\n",
       "      <td>1.398936</td>\n",
       "      <td>NaN</td>\n",
       "      <td>37.266595</td>\n",
       "      <td>27.826031</td>\n",
       "      <td>78.699955</td>\n",
       "      <td>42.680949</td>\n",
       "      <td>76.860483</td>\n",
       "    </tr>\n",
       "    <tr>\n",
       "      <th>5</th>\n",
       "      <td>6</td>\n",
       "      <td>2004-01-06</td>\n",
       "      <td>33.975485</td>\n",
       "      <td>83.404406</td>\n",
       "      <td>NaN</td>\n",
       "      <td>18.509787</td>\n",
       "      <td>NaN</td>\n",
       "      <td>113.930746</td>\n",
       "      <td>1.497021</td>\n",
       "      <td>67.949698</td>\n",
       "      <td>61.680173</td>\n",
       "      <td>30.146927</td>\n",
       "      <td>99.549969</td>\n",
       "      <td>38.481478</td>\n",
       "      <td>87.387871</td>\n",
       "    </tr>\n",
       "    <tr>\n",
       "      <th>6</th>\n",
       "      <td>7</td>\n",
       "      <td>2004-01-07</td>\n",
       "      <td>NaN</td>\n",
       "      <td>88.894720</td>\n",
       "      <td>80.763585</td>\n",
       "      <td>28.071489</td>\n",
       "      <td>65.382964</td>\n",
       "      <td>170.415849</td>\n",
       "      <td>NaN</td>\n",
       "      <td>72.471281</td>\n",
       "      <td>64.260489</td>\n",
       "      <td>35.893849</td>\n",
       "      <td>141.582878</td>\n",
       "      <td>NaN</td>\n",
       "      <td>70.261642</td>\n",
       "    </tr>\n",
       "    <tr>\n",
       "      <th>7</th>\n",
       "      <td>8</td>\n",
       "      <td>2004-01-08</td>\n",
       "      <td>43.327258</td>\n",
       "      <td>48.835057</td>\n",
       "      <td>70.836659</td>\n",
       "      <td>NaN</td>\n",
       "      <td>46.511970</td>\n",
       "      <td>89.822736</td>\n",
       "      <td>0.982979</td>\n",
       "      <td>43.291849</td>\n",
       "      <td>40.862526</td>\n",
       "      <td>25.526480</td>\n",
       "      <td>68.684770</td>\n",
       "      <td>28.808804</td>\n",
       "      <td>NaN</td>\n",
       "    </tr>\n",
       "    <tr>\n",
       "      <th>8</th>\n",
       "      <td>9</td>\n",
       "      <td>2004-01-09</td>\n",
       "      <td>35.985892</td>\n",
       "      <td>11.752794</td>\n",
       "      <td>59.152365</td>\n",
       "      <td>7.549574</td>\n",
       "      <td>35.573361</td>\n",
       "      <td>43.893102</td>\n",
       "      <td>1.969149</td>\n",
       "      <td>25.997842</td>\n",
       "      <td>NaN</td>\n",
       "      <td>NaN</td>\n",
       "      <td>26.271537</td>\n",
       "      <td>27.458222</td>\n",
       "      <td>53.907085</td>\n",
       "    </tr>\n",
       "    <tr>\n",
       "      <th>9</th>\n",
       "      <td>10</td>\n",
       "      <td>2004-01-10</td>\n",
       "      <td>8.609270</td>\n",
       "      <td>22.279356</td>\n",
       "      <td>25.378450</td>\n",
       "      <td>5.794681</td>\n",
       "      <td>23.697226</td>\n",
       "      <td>47.735867</td>\n",
       "      <td>1.006809</td>\n",
       "      <td>12.606343</td>\n",
       "      <td>15.979886</td>\n",
       "      <td>9.946398</td>\n",
       "      <td>46.594495</td>\n",
       "      <td>14.305948</td>\n",
       "      <td>35.758483</td>\n",
       "    </tr>\n",
       "    <tr>\n",
       "      <th>10</th>\n",
       "      <td>11</td>\n",
       "      <td>2004-01-11</td>\n",
       "      <td>12.522913</td>\n",
       "      <td>8.479483</td>\n",
       "      <td>17.860144</td>\n",
       "      <td>3.793191</td>\n",
       "      <td>24.448960</td>\n",
       "      <td>20.405054</td>\n",
       "      <td>0.519149</td>\n",
       "      <td>15.566867</td>\n",
       "      <td>13.581148</td>\n",
       "      <td>15.618644</td>\n",
       "      <td>13.871068</td>\n",
       "      <td>16.921356</td>\n",
       "      <td>37.310275</td>\n",
       "    </tr>\n",
       "    <tr>\n",
       "      <th>11</th>\n",
       "      <td>12</td>\n",
       "      <td>2004-01-12</td>\n",
       "      <td>14.605121</td>\n",
       "      <td>11.578458</td>\n",
       "      <td>39.601396</td>\n",
       "      <td>3.096383</td>\n",
       "      <td>19.723201</td>\n",
       "      <td>48.425074</td>\n",
       "      <td>0.869149</td>\n",
       "      <td>11.691332</td>\n",
       "      <td>12.464427</td>\n",
       "      <td>11.391395</td>\n",
       "      <td>29.291848</td>\n",
       "      <td>14.423462</td>\n",
       "      <td>39.236853</td>\n",
       "    </tr>\n",
       "    <tr>\n",
       "      <th>12</th>\n",
       "      <td>13</td>\n",
       "      <td>2004-01-13</td>\n",
       "      <td>20.531598</td>\n",
       "      <td>10.338065</td>\n",
       "      <td>35.456799</td>\n",
       "      <td>3.431702</td>\n",
       "      <td>18.569316</td>\n",
       "      <td>43.666439</td>\n",
       "      <td>0.737660</td>\n",
       "      <td>8.719560</td>\n",
       "      <td>9.552742</td>\n",
       "      <td>11.586774</td>\n",
       "      <td>27.266871</td>\n",
       "      <td>24.575592</td>\n",
       "      <td>35.288630</td>\n",
       "    </tr>\n",
       "    <tr>\n",
       "      <th>13</th>\n",
       "      <td>14</td>\n",
       "      <td>2004-01-14</td>\n",
       "      <td>23.757292</td>\n",
       "      <td>12.373058</td>\n",
       "      <td>56.667244</td>\n",
       "      <td>5.068298</td>\n",
       "      <td>22.503738</td>\n",
       "      <td>46.522911</td>\n",
       "      <td>2.287872</td>\n",
       "      <td>NaN</td>\n",
       "      <td>12.169595</td>\n",
       "      <td>11.454181</td>\n",
       "      <td>24.692846</td>\n",
       "      <td>15.611810</td>\n",
       "      <td>NaN</td>\n",
       "    </tr>\n",
       "    <tr>\n",
       "      <th>14</th>\n",
       "      <td>15</td>\n",
       "      <td>2004-01-15</td>\n",
       "      <td>7.111102</td>\n",
       "      <td>10.070316</td>\n",
       "      <td>32.737367</td>\n",
       "      <td>4.060638</td>\n",
       "      <td>12.833039</td>\n",
       "      <td>40.404650</td>\n",
       "      <td>1.313830</td>\n",
       "      <td>10.650957</td>\n",
       "      <td>10.886598</td>\n",
       "      <td>5.371117</td>\n",
       "      <td>20.378892</td>\n",
       "      <td>12.168928</td>\n",
       "      <td>31.075844</td>\n",
       "    </tr>\n",
       "    <tr>\n",
       "      <th>15</th>\n",
       "      <td>16</td>\n",
       "      <td>2004-01-16</td>\n",
       "      <td>10.666081</td>\n",
       "      <td>9.426209</td>\n",
       "      <td>15.390431</td>\n",
       "      <td>5.238936</td>\n",
       "      <td>42.469829</td>\n",
       "      <td>37.694434</td>\n",
       "      <td>1.860213</td>\n",
       "      <td>33.881924</td>\n",
       "      <td>16.201798</td>\n",
       "      <td>24.241468</td>\n",
       "      <td>22.615058</td>\n",
       "      <td>27.974497</td>\n",
       "      <td>65.391884</td>\n",
       "    </tr>\n",
       "    <tr>\n",
       "      <th>16</th>\n",
       "      <td>17</td>\n",
       "      <td>2004-01-17</td>\n",
       "      <td>10.243833</td>\n",
       "      <td>17.297487</td>\n",
       "      <td>29.304009</td>\n",
       "      <td>3.478723</td>\n",
       "      <td>21.248965</td>\n",
       "      <td>27.973075</td>\n",
       "      <td>1.709574</td>\n",
       "      <td>15.030509</td>\n",
       "      <td>8.608598</td>\n",
       "      <td>12.131432</td>\n",
       "      <td>25.582507</td>\n",
       "      <td>16.936489</td>\n",
       "      <td>33.492734</td>\n",
       "    </tr>\n",
       "    <tr>\n",
       "      <th>17</th>\n",
       "      <td>18</td>\n",
       "      <td>2004-01-18</td>\n",
       "      <td>7.921855</td>\n",
       "      <td>9.293003</td>\n",
       "      <td>17.920872</td>\n",
       "      <td>2.784043</td>\n",
       "      <td>19.765428</td>\n",
       "      <td>7.013826</td>\n",
       "      <td>3.423830</td>\n",
       "      <td>8.658165</td>\n",
       "      <td>7.760719</td>\n",
       "      <td>10.117721</td>\n",
       "      <td>17.244719</td>\n",
       "      <td>14.007144</td>\n",
       "      <td>18.357593</td>\n",
       "    </tr>\n",
       "    <tr>\n",
       "      <th>18</th>\n",
       "      <td>19</td>\n",
       "      <td>2004-01-19</td>\n",
       "      <td>24.710557</td>\n",
       "      <td>21.012785</td>\n",
       "      <td>51.693337</td>\n",
       "      <td>10.398298</td>\n",
       "      <td>32.198759</td>\n",
       "      <td>61.886843</td>\n",
       "      <td>3.975957</td>\n",
       "      <td>21.318163</td>\n",
       "      <td>19.539647</td>\n",
       "      <td>12.459907</td>\n",
       "      <td>56.015477</td>\n",
       "      <td>19.985028</td>\n",
       "      <td>26.348396</td>\n",
       "    </tr>\n",
       "    <tr>\n",
       "      <th>19</th>\n",
       "      <td>20</td>\n",
       "      <td>2004-01-20</td>\n",
       "      <td>53.647303</td>\n",
       "      <td>28.656094</td>\n",
       "      <td>93.503177</td>\n",
       "      <td>8.857660</td>\n",
       "      <td>37.633127</td>\n",
       "      <td>50.772168</td>\n",
       "      <td>3.036383</td>\n",
       "      <td>22.604861</td>\n",
       "      <td>63.625897</td>\n",
       "      <td>28.737886</td>\n",
       "      <td>46.224686</td>\n",
       "      <td>44.663960</td>\n",
       "      <td>53.753226</td>\n",
       "    </tr>\n",
       "    <tr>\n",
       "      <th>20</th>\n",
       "      <td>21</td>\n",
       "      <td>2004-01-21</td>\n",
       "      <td>10.429033</td>\n",
       "      <td>33.881116</td>\n",
       "      <td>40.011208</td>\n",
       "      <td>13.290000</td>\n",
       "      <td>37.759346</td>\n",
       "      <td>81.882635</td>\n",
       "      <td>8.494186</td>\n",
       "      <td>28.994523</td>\n",
       "      <td>29.672736</td>\n",
       "      <td>18.878535</td>\n",
       "      <td>67.650001</td>\n",
       "      <td>32.804932</td>\n",
       "      <td>38.913302</td>\n",
       "    </tr>\n",
       "    <tr>\n",
       "      <th>21</th>\n",
       "      <td>22</td>\n",
       "      <td>2004-01-22</td>\n",
       "      <td>29.359575</td>\n",
       "      <td>23.291037</td>\n",
       "      <td>54.754979</td>\n",
       "      <td>9.381702</td>\n",
       "      <td>38.162395</td>\n",
       "      <td>57.975186</td>\n",
       "      <td>8.887234</td>\n",
       "      <td>22.109675</td>\n",
       "      <td>15.961687</td>\n",
       "      <td>20.673348</td>\n",
       "      <td>71.388044</td>\n",
       "      <td>28.144983</td>\n",
       "      <td>44.689109</td>\n",
       "    </tr>\n",
       "    <tr>\n",
       "      <th>22</th>\n",
       "      <td>23</td>\n",
       "      <td>2004-01-23</td>\n",
       "      <td>44.669432</td>\n",
       "      <td>33.427268</td>\n",
       "      <td>72.163919</td>\n",
       "      <td>15.322766</td>\n",
       "      <td>59.206167</td>\n",
       "      <td>81.789662</td>\n",
       "      <td>8.318085</td>\n",
       "      <td>37.654463</td>\n",
       "      <td>18.605283</td>\n",
       "      <td>28.333952</td>\n",
       "      <td>85.273274</td>\n",
       "      <td>41.463461</td>\n",
       "      <td>47.491930</td>\n",
       "    </tr>\n",
       "    <tr>\n",
       "      <th>23</th>\n",
       "      <td>24</td>\n",
       "      <td>2004-01-24</td>\n",
       "      <td>41.100220</td>\n",
       "      <td>38.393201</td>\n",
       "      <td>66.185715</td>\n",
       "      <td>22.567660</td>\n",
       "      <td>50.324578</td>\n",
       "      <td>47.917053</td>\n",
       "      <td>4.203617</td>\n",
       "      <td>43.741824</td>\n",
       "      <td>24.538171</td>\n",
       "      <td>32.429557</td>\n",
       "      <td>51.125014</td>\n",
       "      <td>36.290297</td>\n",
       "      <td>44.028726</td>\n",
       "    </tr>\n",
       "    <tr>\n",
       "      <th>24</th>\n",
       "      <td>25</td>\n",
       "      <td>2004-01-25</td>\n",
       "      <td>12.488297</td>\n",
       "      <td>20.279061</td>\n",
       "      <td>19.224229</td>\n",
       "      <td>6.190213</td>\n",
       "      <td>30.728321</td>\n",
       "      <td>34.257646</td>\n",
       "      <td>2.988085</td>\n",
       "      <td>17.866477</td>\n",
       "      <td>16.744878</td>\n",
       "      <td>12.510102</td>\n",
       "      <td>31.208638</td>\n",
       "      <td>25.666101</td>\n",
       "      <td>36.100765</td>\n",
       "    </tr>\n",
       "    <tr>\n",
       "      <th>25</th>\n",
       "      <td>26</td>\n",
       "      <td>2004-01-26</td>\n",
       "      <td>12.296535</td>\n",
       "      <td>29.292219</td>\n",
       "      <td>NaN</td>\n",
       "      <td>8.235319</td>\n",
       "      <td>46.904848</td>\n",
       "      <td>97.877962</td>\n",
       "      <td>3.658125</td>\n",
       "      <td>33.512322</td>\n",
       "      <td>12.782349</td>\n",
       "      <td>29.060110</td>\n",
       "      <td>85.837339</td>\n",
       "      <td>30.471658</td>\n",
       "      <td>56.442195</td>\n",
       "    </tr>\n",
       "    <tr>\n",
       "      <th>26</th>\n",
       "      <td>27</td>\n",
       "      <td>2004-01-27</td>\n",
       "      <td>13.262222</td>\n",
       "      <td>37.085833</td>\n",
       "      <td>NaN</td>\n",
       "      <td>16.927872</td>\n",
       "      <td>36.225791</td>\n",
       "      <td>72.507718</td>\n",
       "      <td>6.130213</td>\n",
       "      <td>30.087729</td>\n",
       "      <td>24.850999</td>\n",
       "      <td>26.326831</td>\n",
       "      <td>49.120614</td>\n",
       "      <td>30.635715</td>\n",
       "      <td>59.215164</td>\n",
       "    </tr>\n",
       "    <tr>\n",
       "      <th>27</th>\n",
       "      <td>28</td>\n",
       "      <td>2004-01-28</td>\n",
       "      <td>19.335860</td>\n",
       "      <td>21.018301</td>\n",
       "      <td>50.736183</td>\n",
       "      <td>12.625319</td>\n",
       "      <td>22.447181</td>\n",
       "      <td>65.683749</td>\n",
       "      <td>4.998723</td>\n",
       "      <td>15.846750</td>\n",
       "      <td>23.948564</td>\n",
       "      <td>19.587390</td>\n",
       "      <td>32.932615</td>\n",
       "      <td>22.904930</td>\n",
       "      <td>32.630675</td>\n",
       "    </tr>\n",
       "    <tr>\n",
       "      <th>28</th>\n",
       "      <td>29</td>\n",
       "      <td>2004-01-29</td>\n",
       "      <td>12.257600</td>\n",
       "      <td>12.614899</td>\n",
       "      <td>44.007247</td>\n",
       "      <td>7.675319</td>\n",
       "      <td>15.112790</td>\n",
       "      <td>44.979014</td>\n",
       "      <td>3.126383</td>\n",
       "      <td>13.201197</td>\n",
       "      <td>5.588083</td>\n",
       "      <td>10.499750</td>\n",
       "      <td>24.227376</td>\n",
       "      <td>18.467004</td>\n",
       "      <td>33.761685</td>\n",
       "    </tr>\n",
       "    <tr>\n",
       "      <th>29</th>\n",
       "      <td>30</td>\n",
       "      <td>2004-01-30</td>\n",
       "      <td>55.535752</td>\n",
       "      <td>45.109497</td>\n",
       "      <td>82.101376</td>\n",
       "      <td>7.459149</td>\n",
       "      <td>38.313263</td>\n",
       "      <td>136.804489</td>\n",
       "      <td>2.385532</td>\n",
       "      <td>30.311200</td>\n",
       "      <td>39.067002</td>\n",
       "      <td>18.558228</td>\n",
       "      <td>68.079205</td>\n",
       "      <td>48.437288</td>\n",
       "      <td>59.172678</td>\n",
       "    </tr>\n",
       "    <tr>\n",
       "      <th>...</th>\n",
       "      <td>...</td>\n",
       "      <td>...</td>\n",
       "      <td>...</td>\n",
       "      <td>...</td>\n",
       "      <td>...</td>\n",
       "      <td>...</td>\n",
       "      <td>...</td>\n",
       "      <td>...</td>\n",
       "      <td>...</td>\n",
       "      <td>...</td>\n",
       "      <td>...</td>\n",
       "      <td>...</td>\n",
       "      <td>...</td>\n",
       "      <td>...</td>\n",
       "      <td>...</td>\n",
       "    </tr>\n",
       "    <tr>\n",
       "      <th>336</th>\n",
       "      <td>337</td>\n",
       "      <td>2004-12-02</td>\n",
       "      <td>59.985371</td>\n",
       "      <td>40.323519</td>\n",
       "      <td>NaN</td>\n",
       "      <td>NaN</td>\n",
       "      <td>58.679462</td>\n",
       "      <td>NaN</td>\n",
       "      <td>NaN</td>\n",
       "      <td>52.049305</td>\n",
       "      <td>29.895541</td>\n",
       "      <td>31.545080</td>\n",
       "      <td>66.615704</td>\n",
       "      <td>43.114060</td>\n",
       "      <td>59.650891</td>\n",
       "    </tr>\n",
       "    <tr>\n",
       "      <th>337</th>\n",
       "      <td>338</td>\n",
       "      <td>2004-12-03</td>\n",
       "      <td>102.283343</td>\n",
       "      <td>69.952912</td>\n",
       "      <td>155.139723</td>\n",
       "      <td>NaN</td>\n",
       "      <td>NaN</td>\n",
       "      <td>115.148105</td>\n",
       "      <td>3.570638</td>\n",
       "      <td>75.514736</td>\n",
       "      <td>51.574056</td>\n",
       "      <td>38.368311</td>\n",
       "      <td>101.044276</td>\n",
       "      <td>63.144761</td>\n",
       "      <td>90.114164</td>\n",
       "    </tr>\n",
       "    <tr>\n",
       "      <th>338</th>\n",
       "      <td>339</td>\n",
       "      <td>2004-12-04</td>\n",
       "      <td>59.738363</td>\n",
       "      <td>26.424787</td>\n",
       "      <td>83.123803</td>\n",
       "      <td>16.885319</td>\n",
       "      <td>59.320126</td>\n",
       "      <td>42.869902</td>\n",
       "      <td>13.647447</td>\n",
       "      <td>41.066089</td>\n",
       "      <td>24.367568</td>\n",
       "      <td>29.298408</td>\n",
       "      <td>61.330118</td>\n",
       "      <td>38.238014</td>\n",
       "      <td>58.780131</td>\n",
       "    </tr>\n",
       "    <tr>\n",
       "      <th>339</th>\n",
       "      <td>340</td>\n",
       "      <td>2004-12-05</td>\n",
       "      <td>15.448862</td>\n",
       "      <td>10.445465</td>\n",
       "      <td>31.712386</td>\n",
       "      <td>7.641702</td>\n",
       "      <td>22.680286</td>\n",
       "      <td>12.798445</td>\n",
       "      <td>9.677872</td>\n",
       "      <td>11.915338</td>\n",
       "      <td>11.258156</td>\n",
       "      <td>14.689824</td>\n",
       "      <td>32.786347</td>\n",
       "      <td>21.285030</td>\n",
       "      <td>22.645554</td>\n",
       "    </tr>\n",
       "    <tr>\n",
       "      <th>340</th>\n",
       "      <td>341</td>\n",
       "      <td>2004-12-06</td>\n",
       "      <td>28.339059</td>\n",
       "      <td>11.861449</td>\n",
       "      <td>70.178538</td>\n",
       "      <td>7.316596</td>\n",
       "      <td>33.393762</td>\n",
       "      <td>24.158251</td>\n",
       "      <td>9.806596</td>\n",
       "      <td>12.882693</td>\n",
       "      <td>NaN</td>\n",
       "      <td>14.755849</td>\n",
       "      <td>61.109710</td>\n",
       "      <td>20.307147</td>\n",
       "      <td>40.534887</td>\n",
       "    </tr>\n",
       "    <tr>\n",
       "      <th>341</th>\n",
       "      <td>342</td>\n",
       "      <td>2004-12-07</td>\n",
       "      <td>NaN</td>\n",
       "      <td>24.728989</td>\n",
       "      <td>62.207337</td>\n",
       "      <td>18.763830</td>\n",
       "      <td>39.192804</td>\n",
       "      <td>63.708177</td>\n",
       "      <td>8.859545</td>\n",
       "      <td>26.304690</td>\n",
       "      <td>19.292629</td>\n",
       "      <td>17.290848</td>\n",
       "      <td>64.697095</td>\n",
       "      <td>26.165924</td>\n",
       "      <td>53.061775</td>\n",
       "    </tr>\n",
       "    <tr>\n",
       "      <th>342</th>\n",
       "      <td>343</td>\n",
       "      <td>2004-12-08</td>\n",
       "      <td>26.897356</td>\n",
       "      <td>NaN</td>\n",
       "      <td>39.568542</td>\n",
       "      <td>20.691667</td>\n",
       "      <td>51.573209</td>\n",
       "      <td>30.816213</td>\n",
       "      <td>27.523404</td>\n",
       "      <td>29.235058</td>\n",
       "      <td>22.182409</td>\n",
       "      <td>29.834813</td>\n",
       "      <td>69.692278</td>\n",
       "      <td>32.520181</td>\n",
       "      <td>NaN</td>\n",
       "    </tr>\n",
       "    <tr>\n",
       "      <th>343</th>\n",
       "      <td>344</td>\n",
       "      <td>2004-12-09</td>\n",
       "      <td>39.632695</td>\n",
       "      <td>27.280861</td>\n",
       "      <td>59.746818</td>\n",
       "      <td>18.748511</td>\n",
       "      <td>56.268404</td>\n",
       "      <td>57.971657</td>\n",
       "      <td>31.725957</td>\n",
       "      <td>31.664860</td>\n",
       "      <td>19.569665</td>\n",
       "      <td>35.185886</td>\n",
       "      <td>NaN</td>\n",
       "      <td>40.697804</td>\n",
       "      <td>64.284535</td>\n",
       "    </tr>\n",
       "    <tr>\n",
       "      <th>344</th>\n",
       "      <td>345</td>\n",
       "      <td>2004-12-10</td>\n",
       "      <td>42.540319</td>\n",
       "      <td>47.129760</td>\n",
       "      <td>71.586334</td>\n",
       "      <td>36.127234</td>\n",
       "      <td>57.172714</td>\n",
       "      <td>84.819389</td>\n",
       "      <td>3.523958</td>\n",
       "      <td>45.253700</td>\n",
       "      <td>30.278758</td>\n",
       "      <td>33.527574</td>\n",
       "      <td>82.938743</td>\n",
       "      <td>44.802375</td>\n",
       "      <td>64.132117</td>\n",
       "    </tr>\n",
       "    <tr>\n",
       "      <th>345</th>\n",
       "      <td>346</td>\n",
       "      <td>2004-12-11</td>\n",
       "      <td>44.190637</td>\n",
       "      <td>46.181413</td>\n",
       "      <td>58.920310</td>\n",
       "      <td>38.631915</td>\n",
       "      <td>48.416454</td>\n",
       "      <td>54.409557</td>\n",
       "      <td>0.801064</td>\n",
       "      <td>36.071835</td>\n",
       "      <td>31.911459</td>\n",
       "      <td>29.274776</td>\n",
       "      <td>44.882030</td>\n",
       "      <td>38.042256</td>\n",
       "      <td>51.982149</td>\n",
       "    </tr>\n",
       "    <tr>\n",
       "      <th>346</th>\n",
       "      <td>347</td>\n",
       "      <td>2004-12-12</td>\n",
       "      <td>27.655322</td>\n",
       "      <td>36.341060</td>\n",
       "      <td>32.922323</td>\n",
       "      <td>32.720000</td>\n",
       "      <td>36.109730</td>\n",
       "      <td>33.895285</td>\n",
       "      <td>0.524468</td>\n",
       "      <td>27.059630</td>\n",
       "      <td>28.954934</td>\n",
       "      <td>22.832553</td>\n",
       "      <td>30.975448</td>\n",
       "      <td>30.960645</td>\n",
       "      <td>42.257950</td>\n",
       "    </tr>\n",
       "    <tr>\n",
       "      <th>347</th>\n",
       "      <td>348</td>\n",
       "      <td>2004-12-13</td>\n",
       "      <td>47.306003</td>\n",
       "      <td>33.617172</td>\n",
       "      <td>91.715211</td>\n",
       "      <td>25.368085</td>\n",
       "      <td>46.562347</td>\n",
       "      <td>59.409765</td>\n",
       "      <td>0.492979</td>\n",
       "      <td>38.677990</td>\n",
       "      <td>34.199853</td>\n",
       "      <td>28.704543</td>\n",
       "      <td>48.527491</td>\n",
       "      <td>36.675014</td>\n",
       "      <td>64.828185</td>\n",
       "    </tr>\n",
       "    <tr>\n",
       "      <th>348</th>\n",
       "      <td>349</td>\n",
       "      <td>2004-12-14</td>\n",
       "      <td>83.125170</td>\n",
       "      <td>60.589558</td>\n",
       "      <td>152.052945</td>\n",
       "      <td>28.626809</td>\n",
       "      <td>58.761700</td>\n",
       "      <td>89.620134</td>\n",
       "      <td>0.898085</td>\n",
       "      <td>53.744201</td>\n",
       "      <td>45.311741</td>\n",
       "      <td>36.355195</td>\n",
       "      <td>71.584846</td>\n",
       "      <td>46.735826</td>\n",
       "      <td>71.086968</td>\n",
       "    </tr>\n",
       "    <tr>\n",
       "      <th>349</th>\n",
       "      <td>350</td>\n",
       "      <td>2004-12-15</td>\n",
       "      <td>111.938600</td>\n",
       "      <td>70.329189</td>\n",
       "      <td>174.384172</td>\n",
       "      <td>40.060851</td>\n",
       "      <td>73.618125</td>\n",
       "      <td>77.070449</td>\n",
       "      <td>0.699787</td>\n",
       "      <td>64.700420</td>\n",
       "      <td>53.511343</td>\n",
       "      <td>45.118994</td>\n",
       "      <td>73.202460</td>\n",
       "      <td>66.349705</td>\n",
       "      <td>95.383673</td>\n",
       "    </tr>\n",
       "    <tr>\n",
       "      <th>350</th>\n",
       "      <td>351</td>\n",
       "      <td>2004-12-16</td>\n",
       "      <td>110.881184</td>\n",
       "      <td>86.570407</td>\n",
       "      <td>172.585119</td>\n",
       "      <td>NaN</td>\n",
       "      <td>97.356626</td>\n",
       "      <td>92.983558</td>\n",
       "      <td>1.271064</td>\n",
       "      <td>89.115077</td>\n",
       "      <td>64.451793</td>\n",
       "      <td>49.797497</td>\n",
       "      <td>73.700995</td>\n",
       "      <td>71.139392</td>\n",
       "      <td>107.310352</td>\n",
       "    </tr>\n",
       "    <tr>\n",
       "      <th>351</th>\n",
       "      <td>352</td>\n",
       "      <td>2004-12-17</td>\n",
       "      <td>38.281456</td>\n",
       "      <td>14.746153</td>\n",
       "      <td>69.346527</td>\n",
       "      <td>9.545319</td>\n",
       "      <td>47.334545</td>\n",
       "      <td>47.023162</td>\n",
       "      <td>2.969149</td>\n",
       "      <td>29.570516</td>\n",
       "      <td>34.871789</td>\n",
       "      <td>26.485683</td>\n",
       "      <td>37.082178</td>\n",
       "      <td>38.028442</td>\n",
       "      <td>48.875770</td>\n",
       "    </tr>\n",
       "    <tr>\n",
       "      <th>352</th>\n",
       "      <td>353</td>\n",
       "      <td>2004-12-18</td>\n",
       "      <td>4.959712</td>\n",
       "      <td>7.450064</td>\n",
       "      <td>21.335944</td>\n",
       "      <td>3.739787</td>\n",
       "      <td>14.000044</td>\n",
       "      <td>24.128193</td>\n",
       "      <td>1.995957</td>\n",
       "      <td>8.698374</td>\n",
       "      <td>NaN</td>\n",
       "      <td>6.055667</td>\n",
       "      <td>14.352943</td>\n",
       "      <td>15.281709</td>\n",
       "      <td>22.782718</td>\n",
       "    </tr>\n",
       "    <tr>\n",
       "      <th>353</th>\n",
       "      <td>354</td>\n",
       "      <td>2004-12-19</td>\n",
       "      <td>13.544204</td>\n",
       "      <td>8.262766</td>\n",
       "      <td>16.001711</td>\n",
       "      <td>3.416170</td>\n",
       "      <td>26.538527</td>\n",
       "      <td>10.014062</td>\n",
       "      <td>2.222766</td>\n",
       "      <td>18.875111</td>\n",
       "      <td>12.652900</td>\n",
       "      <td>13.321666</td>\n",
       "      <td>18.568484</td>\n",
       "      <td>21.218968</td>\n",
       "      <td>37.296462</td>\n",
       "    </tr>\n",
       "    <tr>\n",
       "      <th>354</th>\n",
       "      <td>355</td>\n",
       "      <td>2004-12-20</td>\n",
       "      <td>14.990538</td>\n",
       "      <td>13.883333</td>\n",
       "      <td>49.552656</td>\n",
       "      <td>8.002553</td>\n",
       "      <td>22.767522</td>\n",
       "      <td>21.409615</td>\n",
       "      <td>8.687234</td>\n",
       "      <td>14.058618</td>\n",
       "      <td>14.882806</td>\n",
       "      <td>17.076622</td>\n",
       "      <td>59.805371</td>\n",
       "      <td>22.577925</td>\n",
       "      <td>38.787324</td>\n",
       "    </tr>\n",
       "    <tr>\n",
       "      <th>355</th>\n",
       "      <td>356</td>\n",
       "      <td>2004-12-21</td>\n",
       "      <td>33.695279</td>\n",
       "      <td>26.843808</td>\n",
       "      <td>75.114862</td>\n",
       "      <td>10.421702</td>\n",
       "      <td>44.124389</td>\n",
       "      <td>25.510565</td>\n",
       "      <td>NaN</td>\n",
       "      <td>21.957744</td>\n",
       "      <td>25.424476</td>\n",
       "      <td>17.839448</td>\n",
       "      <td>51.294453</td>\n",
       "      <td>39.569685</td>\n",
       "      <td>49.314513</td>\n",
       "    </tr>\n",
       "    <tr>\n",
       "      <th>356</th>\n",
       "      <td>357</td>\n",
       "      <td>2004-12-22</td>\n",
       "      <td>35.836067</td>\n",
       "      <td>30.594509</td>\n",
       "      <td>69.110030</td>\n",
       "      <td>12.749574</td>\n",
       "      <td>37.238724</td>\n",
       "      <td>67.113952</td>\n",
       "      <td>7.267021</td>\n",
       "      <td>29.472933</td>\n",
       "      <td>43.319932</td>\n",
       "      <td>18.661201</td>\n",
       "      <td>57.131393</td>\n",
       "      <td>34.095026</td>\n",
       "      <td>33.977145</td>\n",
       "    </tr>\n",
       "    <tr>\n",
       "      <th>357</th>\n",
       "      <td>358</td>\n",
       "      <td>2004-12-23</td>\n",
       "      <td>56.393998</td>\n",
       "      <td>14.333385</td>\n",
       "      <td>87.985667</td>\n",
       "      <td>11.497872</td>\n",
       "      <td>46.968245</td>\n",
       "      <td>43.412935</td>\n",
       "      <td>2.208085</td>\n",
       "      <td>28.787211</td>\n",
       "      <td>54.457458</td>\n",
       "      <td>22.502027</td>\n",
       "      <td>29.856554</td>\n",
       "      <td>37.363672</td>\n",
       "      <td>50.730540</td>\n",
       "    </tr>\n",
       "    <tr>\n",
       "      <th>358</th>\n",
       "      <td>359</td>\n",
       "      <td>2004-12-24</td>\n",
       "      <td>39.802456</td>\n",
       "      <td>8.355254</td>\n",
       "      <td>56.755832</td>\n",
       "      <td>5.540000</td>\n",
       "      <td>44.460212</td>\n",
       "      <td>28.650654</td>\n",
       "      <td>1.196809</td>\n",
       "      <td>22.135934</td>\n",
       "      <td>9.522529</td>\n",
       "      <td>21.989159</td>\n",
       "      <td>20.901669</td>\n",
       "      <td>33.763379</td>\n",
       "      <td>49.856341</td>\n",
       "    </tr>\n",
       "    <tr>\n",
       "      <th>359</th>\n",
       "      <td>360</td>\n",
       "      <td>2004-12-25</td>\n",
       "      <td>7.179366</td>\n",
       "      <td>11.856311</td>\n",
       "      <td>9.192973</td>\n",
       "      <td>4.888511</td>\n",
       "      <td>25.746266</td>\n",
       "      <td>28.210989</td>\n",
       "      <td>1.517234</td>\n",
       "      <td>16.234281</td>\n",
       "      <td>8.216000</td>\n",
       "      <td>15.127671</td>\n",
       "      <td>16.494900</td>\n",
       "      <td>20.159212</td>\n",
       "      <td>33.578442</td>\n",
       "    </tr>\n",
       "    <tr>\n",
       "      <th>360</th>\n",
       "      <td>361</td>\n",
       "      <td>2004-12-26</td>\n",
       "      <td>13.168661</td>\n",
       "      <td>12.133823</td>\n",
       "      <td>26.826887</td>\n",
       "      <td>3.576809</td>\n",
       "      <td>13.697576</td>\n",
       "      <td>22.048066</td>\n",
       "      <td>3.772553</td>\n",
       "      <td>8.268718</td>\n",
       "      <td>16.458121</td>\n",
       "      <td>11.133997</td>\n",
       "      <td>39.079679</td>\n",
       "      <td>12.061607</td>\n",
       "      <td>22.153478</td>\n",
       "    </tr>\n",
       "    <tr>\n",
       "      <th>361</th>\n",
       "      <td>362</td>\n",
       "      <td>2004-12-27</td>\n",
       "      <td>14.569705</td>\n",
       "      <td>16.166262</td>\n",
       "      <td>46.116486</td>\n",
       "      <td>7.424468</td>\n",
       "      <td>21.384207</td>\n",
       "      <td>58.822790</td>\n",
       "      <td>9.765319</td>\n",
       "      <td>21.788086</td>\n",
       "      <td>20.570538</td>\n",
       "      <td>19.405519</td>\n",
       "      <td>64.987564</td>\n",
       "      <td>18.715526</td>\n",
       "      <td>39.399703</td>\n",
       "    </tr>\n",
       "    <tr>\n",
       "      <th>362</th>\n",
       "      <td>363</td>\n",
       "      <td>2004-12-28</td>\n",
       "      <td>16.558807</td>\n",
       "      <td>16.485516</td>\n",
       "      <td>36.926117</td>\n",
       "      <td>9.690638</td>\n",
       "      <td>29.073494</td>\n",
       "      <td>55.784670</td>\n",
       "      <td>8.422979</td>\n",
       "      <td>20.042288</td>\n",
       "      <td>14.664676</td>\n",
       "      <td>20.102030</td>\n",
       "      <td>30.491838</td>\n",
       "      <td>22.208370</td>\n",
       "      <td>35.673289</td>\n",
       "    </tr>\n",
       "    <tr>\n",
       "      <th>363</th>\n",
       "      <td>364</td>\n",
       "      <td>2004-12-29</td>\n",
       "      <td>15.532010</td>\n",
       "      <td>24.483649</td>\n",
       "      <td>37.658182</td>\n",
       "      <td>9.047872</td>\n",
       "      <td>27.305070</td>\n",
       "      <td>66.018600</td>\n",
       "      <td>2.500213</td>\n",
       "      <td>15.779499</td>\n",
       "      <td>27.445480</td>\n",
       "      <td>16.250802</td>\n",
       "      <td>38.964386</td>\n",
       "      <td>32.122768</td>\n",
       "      <td>36.906699</td>\n",
       "    </tr>\n",
       "    <tr>\n",
       "      <th>364</th>\n",
       "      <td>365</td>\n",
       "      <td>2004-12-30</td>\n",
       "      <td>30.769743</td>\n",
       "      <td>33.995737</td>\n",
       "      <td>49.285431</td>\n",
       "      <td>11.925532</td>\n",
       "      <td>41.816404</td>\n",
       "      <td>79.725533</td>\n",
       "      <td>1.843191</td>\n",
       "      <td>24.559061</td>\n",
       "      <td>18.160780</td>\n",
       "      <td>16.795722</td>\n",
       "      <td>72.581041</td>\n",
       "      <td>41.467041</td>\n",
       "      <td>48.406651</td>\n",
       "    </tr>\n",
       "    <tr>\n",
       "      <th>365</th>\n",
       "      <td>366</td>\n",
       "      <td>2004-12-31</td>\n",
       "      <td>41.991282</td>\n",
       "      <td>30.641338</td>\n",
       "      <td>56.824645</td>\n",
       "      <td>10.206875</td>\n",
       "      <td>29.146960</td>\n",
       "      <td>32.515170</td>\n",
       "      <td>0.522128</td>\n",
       "      <td>20.156723</td>\n",
       "      <td>25.161694</td>\n",
       "      <td>21.861068</td>\n",
       "      <td>29.372593</td>\n",
       "      <td>33.814206</td>\n",
       "      <td>49.063330</td>\n",
       "    </tr>\n",
       "  </tbody>\n",
       "</table>\n",
       "<p>366 rows × 15 columns</p>\n",
       "</div>"
      ],
      "text/plain": [
       "     Unnamed: 0        date          ad         ba          ef         la  \\\n",
       "0             1  2004-01-01   11.980009  14.662142   17.332767   7.729787   \n",
       "1             2  2004-01-02   16.991053  18.711749   40.353465   8.014681   \n",
       "2             3  2004-01-03   12.320727   8.746081   35.066020   6.832766   \n",
       "3             4  2004-01-04   13.528027  19.347593   26.274157  11.836383   \n",
       "4             5  2004-01-05   47.023984  57.471300   53.344783  10.744255   \n",
       "5             6  2004-01-06   33.975485  83.404406         NaN  18.509787   \n",
       "6             7  2004-01-07         NaN  88.894720   80.763585  28.071489   \n",
       "7             8  2004-01-08   43.327258  48.835057   70.836659        NaN   \n",
       "8             9  2004-01-09   35.985892  11.752794   59.152365   7.549574   \n",
       "9            10  2004-01-10    8.609270  22.279356   25.378450   5.794681   \n",
       "10           11  2004-01-11   12.522913   8.479483   17.860144   3.793191   \n",
       "11           12  2004-01-12   14.605121  11.578458   39.601396   3.096383   \n",
       "12           13  2004-01-13   20.531598  10.338065   35.456799   3.431702   \n",
       "13           14  2004-01-14   23.757292  12.373058   56.667244   5.068298   \n",
       "14           15  2004-01-15    7.111102  10.070316   32.737367   4.060638   \n",
       "15           16  2004-01-16   10.666081   9.426209   15.390431   5.238936   \n",
       "16           17  2004-01-17   10.243833  17.297487   29.304009   3.478723   \n",
       "17           18  2004-01-18    7.921855   9.293003   17.920872   2.784043   \n",
       "18           19  2004-01-19   24.710557  21.012785   51.693337  10.398298   \n",
       "19           20  2004-01-20   53.647303  28.656094   93.503177   8.857660   \n",
       "20           21  2004-01-21   10.429033  33.881116   40.011208  13.290000   \n",
       "21           22  2004-01-22   29.359575  23.291037   54.754979   9.381702   \n",
       "22           23  2004-01-23   44.669432  33.427268   72.163919  15.322766   \n",
       "23           24  2004-01-24   41.100220  38.393201   66.185715  22.567660   \n",
       "24           25  2004-01-25   12.488297  20.279061   19.224229   6.190213   \n",
       "25           26  2004-01-26   12.296535  29.292219         NaN   8.235319   \n",
       "26           27  2004-01-27   13.262222  37.085833         NaN  16.927872   \n",
       "27           28  2004-01-28   19.335860  21.018301   50.736183  12.625319   \n",
       "28           29  2004-01-29   12.257600  12.614899   44.007247   7.675319   \n",
       "29           30  2004-01-30   55.535752  45.109497   82.101376   7.459149   \n",
       "..          ...         ...         ...        ...         ...        ...   \n",
       "336         337  2004-12-02   59.985371  40.323519         NaN        NaN   \n",
       "337         338  2004-12-03  102.283343  69.952912  155.139723        NaN   \n",
       "338         339  2004-12-04   59.738363  26.424787   83.123803  16.885319   \n",
       "339         340  2004-12-05   15.448862  10.445465   31.712386   7.641702   \n",
       "340         341  2004-12-06   28.339059  11.861449   70.178538   7.316596   \n",
       "341         342  2004-12-07         NaN  24.728989   62.207337  18.763830   \n",
       "342         343  2004-12-08   26.897356        NaN   39.568542  20.691667   \n",
       "343         344  2004-12-09   39.632695  27.280861   59.746818  18.748511   \n",
       "344         345  2004-12-10   42.540319  47.129760   71.586334  36.127234   \n",
       "345         346  2004-12-11   44.190637  46.181413   58.920310  38.631915   \n",
       "346         347  2004-12-12   27.655322  36.341060   32.922323  32.720000   \n",
       "347         348  2004-12-13   47.306003  33.617172   91.715211  25.368085   \n",
       "348         349  2004-12-14   83.125170  60.589558  152.052945  28.626809   \n",
       "349         350  2004-12-15  111.938600  70.329189  174.384172  40.060851   \n",
       "350         351  2004-12-16  110.881184  86.570407  172.585119        NaN   \n",
       "351         352  2004-12-17   38.281456  14.746153   69.346527   9.545319   \n",
       "352         353  2004-12-18    4.959712   7.450064   21.335944   3.739787   \n",
       "353         354  2004-12-19   13.544204   8.262766   16.001711   3.416170   \n",
       "354         355  2004-12-20   14.990538  13.883333   49.552656   8.002553   \n",
       "355         356  2004-12-21   33.695279  26.843808   75.114862  10.421702   \n",
       "356         357  2004-12-22   35.836067  30.594509   69.110030  12.749574   \n",
       "357         358  2004-12-23   56.393998  14.333385   87.985667  11.497872   \n",
       "358         359  2004-12-24   39.802456   8.355254   56.755832   5.540000   \n",
       "359         360  2004-12-25    7.179366  11.856311    9.192973   4.888511   \n",
       "360         361  2004-12-26   13.168661  12.133823   26.826887   3.576809   \n",
       "361         362  2004-12-27   14.569705  16.166262   46.116486   7.424468   \n",
       "362         363  2004-12-28   16.558807  16.485516   36.926117   9.690638   \n",
       "363         364  2004-12-29   15.532010  24.483649   37.658182   9.047872   \n",
       "364         365  2004-12-30   30.769743  33.995737   49.285431  11.925532   \n",
       "365         366  2004-12-31   41.991282  30.641338   56.824645  10.206875   \n",
       "\n",
       "            lu          re         ri         se         si         st  \\\n",
       "0    22.724384   20.128474   6.315106  11.340373  13.461901  13.403823   \n",
       "1    21.209295   45.235159   8.725957  15.386788  15.762092  19.340053   \n",
       "2    26.765677    8.404435  10.310625  11.038316   9.815012  16.507350   \n",
       "3    26.510881   37.356128   7.001702  19.422575  13.023148  14.972394   \n",
       "4    58.602419  110.415986   1.398936        NaN  37.266595  27.826031   \n",
       "5          NaN  113.930746   1.497021  67.949698  61.680173  30.146927   \n",
       "6    65.382964  170.415849        NaN  72.471281  64.260489  35.893849   \n",
       "7    46.511970   89.822736   0.982979  43.291849  40.862526  25.526480   \n",
       "8    35.573361   43.893102   1.969149  25.997842        NaN        NaN   \n",
       "9    23.697226   47.735867   1.006809  12.606343  15.979886   9.946398   \n",
       "10   24.448960   20.405054   0.519149  15.566867  13.581148  15.618644   \n",
       "11   19.723201   48.425074   0.869149  11.691332  12.464427  11.391395   \n",
       "12   18.569316   43.666439   0.737660   8.719560   9.552742  11.586774   \n",
       "13   22.503738   46.522911   2.287872        NaN  12.169595  11.454181   \n",
       "14   12.833039   40.404650   1.313830  10.650957  10.886598   5.371117   \n",
       "15   42.469829   37.694434   1.860213  33.881924  16.201798  24.241468   \n",
       "16   21.248965   27.973075   1.709574  15.030509   8.608598  12.131432   \n",
       "17   19.765428    7.013826   3.423830   8.658165   7.760719  10.117721   \n",
       "18   32.198759   61.886843   3.975957  21.318163  19.539647  12.459907   \n",
       "19   37.633127   50.772168   3.036383  22.604861  63.625897  28.737886   \n",
       "20   37.759346   81.882635   8.494186  28.994523  29.672736  18.878535   \n",
       "21   38.162395   57.975186   8.887234  22.109675  15.961687  20.673348   \n",
       "22   59.206167   81.789662   8.318085  37.654463  18.605283  28.333952   \n",
       "23   50.324578   47.917053   4.203617  43.741824  24.538171  32.429557   \n",
       "24   30.728321   34.257646   2.988085  17.866477  16.744878  12.510102   \n",
       "25   46.904848   97.877962   3.658125  33.512322  12.782349  29.060110   \n",
       "26   36.225791   72.507718   6.130213  30.087729  24.850999  26.326831   \n",
       "27   22.447181   65.683749   4.998723  15.846750  23.948564  19.587390   \n",
       "28   15.112790   44.979014   3.126383  13.201197   5.588083  10.499750   \n",
       "29   38.313263  136.804489   2.385532  30.311200  39.067002  18.558228   \n",
       "..         ...         ...        ...        ...        ...        ...   \n",
       "336  58.679462         NaN        NaN  52.049305  29.895541  31.545080   \n",
       "337        NaN  115.148105   3.570638  75.514736  51.574056  38.368311   \n",
       "338  59.320126   42.869902  13.647447  41.066089  24.367568  29.298408   \n",
       "339  22.680286   12.798445   9.677872  11.915338  11.258156  14.689824   \n",
       "340  33.393762   24.158251   9.806596  12.882693        NaN  14.755849   \n",
       "341  39.192804   63.708177   8.859545  26.304690  19.292629  17.290848   \n",
       "342  51.573209   30.816213  27.523404  29.235058  22.182409  29.834813   \n",
       "343  56.268404   57.971657  31.725957  31.664860  19.569665  35.185886   \n",
       "344  57.172714   84.819389   3.523958  45.253700  30.278758  33.527574   \n",
       "345  48.416454   54.409557   0.801064  36.071835  31.911459  29.274776   \n",
       "346  36.109730   33.895285   0.524468  27.059630  28.954934  22.832553   \n",
       "347  46.562347   59.409765   0.492979  38.677990  34.199853  28.704543   \n",
       "348  58.761700   89.620134   0.898085  53.744201  45.311741  36.355195   \n",
       "349  73.618125   77.070449   0.699787  64.700420  53.511343  45.118994   \n",
       "350  97.356626   92.983558   1.271064  89.115077  64.451793  49.797497   \n",
       "351  47.334545   47.023162   2.969149  29.570516  34.871789  26.485683   \n",
       "352  14.000044   24.128193   1.995957   8.698374        NaN   6.055667   \n",
       "353  26.538527   10.014062   2.222766  18.875111  12.652900  13.321666   \n",
       "354  22.767522   21.409615   8.687234  14.058618  14.882806  17.076622   \n",
       "355  44.124389   25.510565        NaN  21.957744  25.424476  17.839448   \n",
       "356  37.238724   67.113952   7.267021  29.472933  43.319932  18.661201   \n",
       "357  46.968245   43.412935   2.208085  28.787211  54.457458  22.502027   \n",
       "358  44.460212   28.650654   1.196809  22.135934   9.522529  21.989159   \n",
       "359  25.746266   28.210989   1.517234  16.234281   8.216000  15.127671   \n",
       "360  13.697576   22.048066   3.772553   8.268718  16.458121  11.133997   \n",
       "361  21.384207   58.822790   9.765319  21.788086  20.570538  19.405519   \n",
       "362  29.073494   55.784670   8.422979  20.042288  14.664676  20.102030   \n",
       "363  27.305070   66.018600   2.500213  15.779499  27.445480  16.250802   \n",
       "364  41.816404   79.725533   1.843191  24.559061  18.160780  16.795722   \n",
       "365  29.146960   32.515170   0.522128  20.156723  25.161694  21.861068   \n",
       "\n",
       "             su         sz          zg  \n",
       "0     27.046782  16.228219   25.494337  \n",
       "1     35.819629  21.168657   34.469548  \n",
       "2     34.882952  16.371493   29.057676  \n",
       "3     34.838158  18.140785   26.160293  \n",
       "4     78.699955  42.680949   76.860483  \n",
       "5     99.549969  38.481478   87.387871  \n",
       "6    141.582878        NaN   70.261642  \n",
       "7     68.684770  28.808804         NaN  \n",
       "8     26.271537  27.458222   53.907085  \n",
       "9     46.594495  14.305948   35.758483  \n",
       "10    13.871068  16.921356   37.310275  \n",
       "11    29.291848  14.423462   39.236853  \n",
       "12    27.266871  24.575592   35.288630  \n",
       "13    24.692846  15.611810         NaN  \n",
       "14    20.378892  12.168928   31.075844  \n",
       "15    22.615058  27.974497   65.391884  \n",
       "16    25.582507  16.936489   33.492734  \n",
       "17    17.244719  14.007144   18.357593  \n",
       "18    56.015477  19.985028   26.348396  \n",
       "19    46.224686  44.663960   53.753226  \n",
       "20    67.650001  32.804932   38.913302  \n",
       "21    71.388044  28.144983   44.689109  \n",
       "22    85.273274  41.463461   47.491930  \n",
       "23    51.125014  36.290297   44.028726  \n",
       "24    31.208638  25.666101   36.100765  \n",
       "25    85.837339  30.471658   56.442195  \n",
       "26    49.120614  30.635715   59.215164  \n",
       "27    32.932615  22.904930   32.630675  \n",
       "28    24.227376  18.467004   33.761685  \n",
       "29    68.079205  48.437288   59.172678  \n",
       "..          ...        ...         ...  \n",
       "336   66.615704  43.114060   59.650891  \n",
       "337  101.044276  63.144761   90.114164  \n",
       "338   61.330118  38.238014   58.780131  \n",
       "339   32.786347  21.285030   22.645554  \n",
       "340   61.109710  20.307147   40.534887  \n",
       "341   64.697095  26.165924   53.061775  \n",
       "342   69.692278  32.520181         NaN  \n",
       "343         NaN  40.697804   64.284535  \n",
       "344   82.938743  44.802375   64.132117  \n",
       "345   44.882030  38.042256   51.982149  \n",
       "346   30.975448  30.960645   42.257950  \n",
       "347   48.527491  36.675014   64.828185  \n",
       "348   71.584846  46.735826   71.086968  \n",
       "349   73.202460  66.349705   95.383673  \n",
       "350   73.700995  71.139392  107.310352  \n",
       "351   37.082178  38.028442   48.875770  \n",
       "352   14.352943  15.281709   22.782718  \n",
       "353   18.568484  21.218968   37.296462  \n",
       "354   59.805371  22.577925   38.787324  \n",
       "355   51.294453  39.569685   49.314513  \n",
       "356   57.131393  34.095026   33.977145  \n",
       "357   29.856554  37.363672   50.730540  \n",
       "358   20.901669  33.763379   49.856341  \n",
       "359   16.494900  20.159212   33.578442  \n",
       "360   39.079679  12.061607   22.153478  \n",
       "361   64.987564  18.715526   39.399703  \n",
       "362   30.491838  22.208370   35.673289  \n",
       "363   38.964386  32.122768   36.906699  \n",
       "364   72.581041  41.467041   48.406651  \n",
       "365   29.372593  33.814206   49.063330  \n",
       "\n",
       "[366 rows x 15 columns]"
      ]
     },
     "execution_count": 47,
     "metadata": {},
     "output_type": "execute_result"
    }
   ],
   "source": [
    "df"
   ]
  },
  {
   "cell_type": "markdown",
   "metadata": {},
   "source": [
    "To see a row in the table: "
   ]
  },
  {
   "cell_type": "code",
   "execution_count": 48,
   "metadata": {},
   "outputs": [
    {
     "data": {
      "text/plain": [
       "Unnamed: 0             3\n",
       "date          2004-01-03\n",
       "ad               12.3207\n",
       "ba               8.74608\n",
       "ef                35.066\n",
       "la               6.83277\n",
       "lu               26.7657\n",
       "re               8.40444\n",
       "ri               10.3106\n",
       "se               11.0383\n",
       "si               9.81501\n",
       "st               16.5074\n",
       "su                34.883\n",
       "sz               16.3715\n",
       "zg               29.0577\n",
       "Name: 2, dtype: object"
      ]
     },
     "execution_count": 48,
     "metadata": {},
     "output_type": "execute_result"
    }
   ],
   "source": [
    "df.loc[2]"
   ]
  },
  {
   "cell_type": "markdown",
   "metadata": {},
   "source": [
    "To see multiple rows: "
   ]
  },
  {
   "cell_type": "code",
   "execution_count": 49,
   "metadata": {},
   "outputs": [
    {
     "data": {
      "text/html": [
       "<div>\n",
       "<style scoped>\n",
       "    .dataframe tbody tr th:only-of-type {\n",
       "        vertical-align: middle;\n",
       "    }\n",
       "\n",
       "    .dataframe tbody tr th {\n",
       "        vertical-align: top;\n",
       "    }\n",
       "\n",
       "    .dataframe thead th {\n",
       "        text-align: right;\n",
       "    }\n",
       "</style>\n",
       "<table border=\"1\" class=\"dataframe\">\n",
       "  <thead>\n",
       "    <tr style=\"text-align: right;\">\n",
       "      <th></th>\n",
       "      <th>Unnamed: 0</th>\n",
       "      <th>date</th>\n",
       "      <th>ad</th>\n",
       "      <th>ba</th>\n",
       "      <th>ef</th>\n",
       "      <th>la</th>\n",
       "      <th>lu</th>\n",
       "      <th>re</th>\n",
       "      <th>ri</th>\n",
       "      <th>se</th>\n",
       "      <th>si</th>\n",
       "      <th>st</th>\n",
       "      <th>su</th>\n",
       "      <th>sz</th>\n",
       "      <th>zg</th>\n",
       "    </tr>\n",
       "  </thead>\n",
       "  <tbody>\n",
       "    <tr>\n",
       "      <th>2</th>\n",
       "      <td>3</td>\n",
       "      <td>2004-01-03</td>\n",
       "      <td>12.320727</td>\n",
       "      <td>8.746081</td>\n",
       "      <td>35.066020</td>\n",
       "      <td>6.832766</td>\n",
       "      <td>26.765677</td>\n",
       "      <td>8.404435</td>\n",
       "      <td>10.310625</td>\n",
       "      <td>11.038316</td>\n",
       "      <td>9.815012</td>\n",
       "      <td>16.507350</td>\n",
       "      <td>34.882952</td>\n",
       "      <td>16.371493</td>\n",
       "      <td>29.057676</td>\n",
       "    </tr>\n",
       "    <tr>\n",
       "      <th>4</th>\n",
       "      <td>5</td>\n",
       "      <td>2004-01-05</td>\n",
       "      <td>47.023984</td>\n",
       "      <td>57.471300</td>\n",
       "      <td>53.344783</td>\n",
       "      <td>10.744255</td>\n",
       "      <td>58.602419</td>\n",
       "      <td>110.415986</td>\n",
       "      <td>1.398936</td>\n",
       "      <td>NaN</td>\n",
       "      <td>37.266595</td>\n",
       "      <td>27.826031</td>\n",
       "      <td>78.699955</td>\n",
       "      <td>42.680949</td>\n",
       "      <td>76.860483</td>\n",
       "    </tr>\n",
       "    <tr>\n",
       "      <th>6</th>\n",
       "      <td>7</td>\n",
       "      <td>2004-01-07</td>\n",
       "      <td>NaN</td>\n",
       "      <td>88.894720</td>\n",
       "      <td>80.763585</td>\n",
       "      <td>28.071489</td>\n",
       "      <td>65.382964</td>\n",
       "      <td>170.415849</td>\n",
       "      <td>NaN</td>\n",
       "      <td>72.471281</td>\n",
       "      <td>64.260489</td>\n",
       "      <td>35.893849</td>\n",
       "      <td>141.582878</td>\n",
       "      <td>NaN</td>\n",
       "      <td>70.261642</td>\n",
       "    </tr>\n",
       "  </tbody>\n",
       "</table>\n",
       "</div>"
      ],
      "text/plain": [
       "   Unnamed: 0        date         ad         ba         ef         la  \\\n",
       "2           3  2004-01-03  12.320727   8.746081  35.066020   6.832766   \n",
       "4           5  2004-01-05  47.023984  57.471300  53.344783  10.744255   \n",
       "6           7  2004-01-07        NaN  88.894720  80.763585  28.071489   \n",
       "\n",
       "          lu          re         ri         se         si         st  \\\n",
       "2  26.765677    8.404435  10.310625  11.038316   9.815012  16.507350   \n",
       "4  58.602419  110.415986   1.398936        NaN  37.266595  27.826031   \n",
       "6  65.382964  170.415849        NaN  72.471281  64.260489  35.893849   \n",
       "\n",
       "           su         sz         zg  \n",
       "2   34.882952  16.371493  29.057676  \n",
       "4   78.699955  42.680949  76.860483  \n",
       "6  141.582878        NaN  70.261642  "
      ]
     },
     "execution_count": 49,
     "metadata": {},
     "output_type": "execute_result"
    }
   ],
   "source": [
    "df.loc[[2,4,6]]"
   ]
  },
  {
   "cell_type": "markdown",
   "metadata": {},
   "source": [
    "To see a range of rows:"
   ]
  },
  {
   "cell_type": "code",
   "execution_count": 50,
   "metadata": {},
   "outputs": [
    {
     "data": {
      "text/html": [
       "<div>\n",
       "<style scoped>\n",
       "    .dataframe tbody tr th:only-of-type {\n",
       "        vertical-align: middle;\n",
       "    }\n",
       "\n",
       "    .dataframe tbody tr th {\n",
       "        vertical-align: top;\n",
       "    }\n",
       "\n",
       "    .dataframe thead th {\n",
       "        text-align: right;\n",
       "    }\n",
       "</style>\n",
       "<table border=\"1\" class=\"dataframe\">\n",
       "  <thead>\n",
       "    <tr style=\"text-align: right;\">\n",
       "      <th></th>\n",
       "      <th>Unnamed: 0</th>\n",
       "      <th>date</th>\n",
       "      <th>ad</th>\n",
       "      <th>ba</th>\n",
       "      <th>ef</th>\n",
       "      <th>la</th>\n",
       "      <th>lu</th>\n",
       "      <th>re</th>\n",
       "      <th>ri</th>\n",
       "      <th>se</th>\n",
       "      <th>si</th>\n",
       "      <th>st</th>\n",
       "      <th>su</th>\n",
       "      <th>sz</th>\n",
       "      <th>zg</th>\n",
       "    </tr>\n",
       "  </thead>\n",
       "  <tbody>\n",
       "    <tr>\n",
       "      <th>2</th>\n",
       "      <td>3</td>\n",
       "      <td>2004-01-03</td>\n",
       "      <td>12.320727</td>\n",
       "      <td>8.746081</td>\n",
       "      <td>35.066020</td>\n",
       "      <td>6.832766</td>\n",
       "      <td>26.765677</td>\n",
       "      <td>8.404435</td>\n",
       "      <td>10.310625</td>\n",
       "      <td>11.038316</td>\n",
       "      <td>9.815012</td>\n",
       "      <td>16.507350</td>\n",
       "      <td>34.882952</td>\n",
       "      <td>16.371493</td>\n",
       "      <td>29.057676</td>\n",
       "    </tr>\n",
       "    <tr>\n",
       "      <th>3</th>\n",
       "      <td>4</td>\n",
       "      <td>2004-01-04</td>\n",
       "      <td>13.528027</td>\n",
       "      <td>19.347593</td>\n",
       "      <td>26.274157</td>\n",
       "      <td>11.836383</td>\n",
       "      <td>26.510881</td>\n",
       "      <td>37.356128</td>\n",
       "      <td>7.001702</td>\n",
       "      <td>19.422575</td>\n",
       "      <td>13.023148</td>\n",
       "      <td>14.972394</td>\n",
       "      <td>34.838158</td>\n",
       "      <td>18.140785</td>\n",
       "      <td>26.160293</td>\n",
       "    </tr>\n",
       "    <tr>\n",
       "      <th>4</th>\n",
       "      <td>5</td>\n",
       "      <td>2004-01-05</td>\n",
       "      <td>47.023984</td>\n",
       "      <td>57.471300</td>\n",
       "      <td>53.344783</td>\n",
       "      <td>10.744255</td>\n",
       "      <td>58.602419</td>\n",
       "      <td>110.415986</td>\n",
       "      <td>1.398936</td>\n",
       "      <td>NaN</td>\n",
       "      <td>37.266595</td>\n",
       "      <td>27.826031</td>\n",
       "      <td>78.699955</td>\n",
       "      <td>42.680949</td>\n",
       "      <td>76.860483</td>\n",
       "    </tr>\n",
       "    <tr>\n",
       "      <th>5</th>\n",
       "      <td>6</td>\n",
       "      <td>2004-01-06</td>\n",
       "      <td>33.975485</td>\n",
       "      <td>83.404406</td>\n",
       "      <td>NaN</td>\n",
       "      <td>18.509787</td>\n",
       "      <td>NaN</td>\n",
       "      <td>113.930746</td>\n",
       "      <td>1.497021</td>\n",
       "      <td>67.949698</td>\n",
       "      <td>61.680173</td>\n",
       "      <td>30.146927</td>\n",
       "      <td>99.549969</td>\n",
       "      <td>38.481478</td>\n",
       "      <td>87.387871</td>\n",
       "    </tr>\n",
       "  </tbody>\n",
       "</table>\n",
       "</div>"
      ],
      "text/plain": [
       "   Unnamed: 0        date         ad         ba         ef         la  \\\n",
       "2           3  2004-01-03  12.320727   8.746081  35.066020   6.832766   \n",
       "3           4  2004-01-04  13.528027  19.347593  26.274157  11.836383   \n",
       "4           5  2004-01-05  47.023984  57.471300  53.344783  10.744255   \n",
       "5           6  2004-01-06  33.975485  83.404406        NaN  18.509787   \n",
       "\n",
       "          lu          re         ri         se         si         st  \\\n",
       "2  26.765677    8.404435  10.310625  11.038316   9.815012  16.507350   \n",
       "3  26.510881   37.356128   7.001702  19.422575  13.023148  14.972394   \n",
       "4  58.602419  110.415986   1.398936        NaN  37.266595  27.826031   \n",
       "5        NaN  113.930746   1.497021  67.949698  61.680173  30.146927   \n",
       "\n",
       "          su         sz         zg  \n",
       "2  34.882952  16.371493  29.057676  \n",
       "3  34.838158  18.140785  26.160293  \n",
       "4  78.699955  42.680949  76.860483  \n",
       "5  99.549969  38.481478  87.387871  "
      ]
     },
     "execution_count": 50,
     "metadata": {},
     "output_type": "execute_result"
    }
   ],
   "source": [
    "df.loc[2:5]"
   ]
  },
  {
   "cell_type": "markdown",
   "metadata": {},
   "source": [
    "To see all the values for a column:"
   ]
  },
  {
   "cell_type": "code",
   "execution_count": 51,
   "metadata": {},
   "outputs": [
    {
     "data": {
      "text/plain": [
       "0      2004-01-01\n",
       "1      2004-01-02\n",
       "2      2004-01-03\n",
       "3      2004-01-04\n",
       "4      2004-01-05\n",
       "5      2004-01-06\n",
       "6      2004-01-07\n",
       "7      2004-01-08\n",
       "8      2004-01-09\n",
       "9      2004-01-10\n",
       "10     2004-01-11\n",
       "11     2004-01-12\n",
       "12     2004-01-13\n",
       "13     2004-01-14\n",
       "14     2004-01-15\n",
       "15     2004-01-16\n",
       "16     2004-01-17\n",
       "17     2004-01-18\n",
       "18     2004-01-19\n",
       "19     2004-01-20\n",
       "20     2004-01-21\n",
       "21     2004-01-22\n",
       "22     2004-01-23\n",
       "23     2004-01-24\n",
       "24     2004-01-25\n",
       "25     2004-01-26\n",
       "26     2004-01-27\n",
       "27     2004-01-28\n",
       "28     2004-01-29\n",
       "29     2004-01-30\n",
       "          ...    \n",
       "336    2004-12-02\n",
       "337    2004-12-03\n",
       "338    2004-12-04\n",
       "339    2004-12-05\n",
       "340    2004-12-06\n",
       "341    2004-12-07\n",
       "342    2004-12-08\n",
       "343    2004-12-09\n",
       "344    2004-12-10\n",
       "345    2004-12-11\n",
       "346    2004-12-12\n",
       "347    2004-12-13\n",
       "348    2004-12-14\n",
       "349    2004-12-15\n",
       "350    2004-12-16\n",
       "351    2004-12-17\n",
       "352    2004-12-18\n",
       "353    2004-12-19\n",
       "354    2004-12-20\n",
       "355    2004-12-21\n",
       "356    2004-12-22\n",
       "357    2004-12-23\n",
       "358    2004-12-24\n",
       "359    2004-12-25\n",
       "360    2004-12-26\n",
       "361    2004-12-27\n",
       "362    2004-12-28\n",
       "363    2004-12-29\n",
       "364    2004-12-30\n",
       "365    2004-12-31\n",
       "Name: date, Length: 366, dtype: object"
      ]
     },
     "execution_count": 51,
     "metadata": {},
     "output_type": "execute_result"
    }
   ],
   "source": [
    "df.loc[:,\"date\"]"
   ]
  },
  {
   "cell_type": "markdown",
   "metadata": {},
   "source": [
    "To see multiple columns:"
   ]
  },
  {
   "cell_type": "code",
   "execution_count": 52,
   "metadata": {},
   "outputs": [
    {
     "data": {
      "text/html": [
       "<div>\n",
       "<style scoped>\n",
       "    .dataframe tbody tr th:only-of-type {\n",
       "        vertical-align: middle;\n",
       "    }\n",
       "\n",
       "    .dataframe tbody tr th {\n",
       "        vertical-align: top;\n",
       "    }\n",
       "\n",
       "    .dataframe thead th {\n",
       "        text-align: right;\n",
       "    }\n",
       "</style>\n",
       "<table border=\"1\" class=\"dataframe\">\n",
       "  <thead>\n",
       "    <tr style=\"text-align: right;\">\n",
       "      <th></th>\n",
       "      <th>date</th>\n",
       "      <th>ad</th>\n",
       "    </tr>\n",
       "  </thead>\n",
       "  <tbody>\n",
       "    <tr>\n",
       "      <th>0</th>\n",
       "      <td>2004-01-01</td>\n",
       "      <td>11.980009</td>\n",
       "    </tr>\n",
       "    <tr>\n",
       "      <th>1</th>\n",
       "      <td>2004-01-02</td>\n",
       "      <td>16.991053</td>\n",
       "    </tr>\n",
       "    <tr>\n",
       "      <th>2</th>\n",
       "      <td>2004-01-03</td>\n",
       "      <td>12.320727</td>\n",
       "    </tr>\n",
       "    <tr>\n",
       "      <th>3</th>\n",
       "      <td>2004-01-04</td>\n",
       "      <td>13.528027</td>\n",
       "    </tr>\n",
       "    <tr>\n",
       "      <th>4</th>\n",
       "      <td>2004-01-05</td>\n",
       "      <td>47.023984</td>\n",
       "    </tr>\n",
       "    <tr>\n",
       "      <th>5</th>\n",
       "      <td>2004-01-06</td>\n",
       "      <td>33.975485</td>\n",
       "    </tr>\n",
       "    <tr>\n",
       "      <th>6</th>\n",
       "      <td>2004-01-07</td>\n",
       "      <td>NaN</td>\n",
       "    </tr>\n",
       "    <tr>\n",
       "      <th>7</th>\n",
       "      <td>2004-01-08</td>\n",
       "      <td>43.327258</td>\n",
       "    </tr>\n",
       "    <tr>\n",
       "      <th>8</th>\n",
       "      <td>2004-01-09</td>\n",
       "      <td>35.985892</td>\n",
       "    </tr>\n",
       "    <tr>\n",
       "      <th>9</th>\n",
       "      <td>2004-01-10</td>\n",
       "      <td>8.609270</td>\n",
       "    </tr>\n",
       "    <tr>\n",
       "      <th>10</th>\n",
       "      <td>2004-01-11</td>\n",
       "      <td>12.522913</td>\n",
       "    </tr>\n",
       "    <tr>\n",
       "      <th>11</th>\n",
       "      <td>2004-01-12</td>\n",
       "      <td>14.605121</td>\n",
       "    </tr>\n",
       "    <tr>\n",
       "      <th>12</th>\n",
       "      <td>2004-01-13</td>\n",
       "      <td>20.531598</td>\n",
       "    </tr>\n",
       "    <tr>\n",
       "      <th>13</th>\n",
       "      <td>2004-01-14</td>\n",
       "      <td>23.757292</td>\n",
       "    </tr>\n",
       "    <tr>\n",
       "      <th>14</th>\n",
       "      <td>2004-01-15</td>\n",
       "      <td>7.111102</td>\n",
       "    </tr>\n",
       "    <tr>\n",
       "      <th>15</th>\n",
       "      <td>2004-01-16</td>\n",
       "      <td>10.666081</td>\n",
       "    </tr>\n",
       "    <tr>\n",
       "      <th>16</th>\n",
       "      <td>2004-01-17</td>\n",
       "      <td>10.243833</td>\n",
       "    </tr>\n",
       "    <tr>\n",
       "      <th>17</th>\n",
       "      <td>2004-01-18</td>\n",
       "      <td>7.921855</td>\n",
       "    </tr>\n",
       "    <tr>\n",
       "      <th>18</th>\n",
       "      <td>2004-01-19</td>\n",
       "      <td>24.710557</td>\n",
       "    </tr>\n",
       "    <tr>\n",
       "      <th>19</th>\n",
       "      <td>2004-01-20</td>\n",
       "      <td>53.647303</td>\n",
       "    </tr>\n",
       "    <tr>\n",
       "      <th>20</th>\n",
       "      <td>2004-01-21</td>\n",
       "      <td>10.429033</td>\n",
       "    </tr>\n",
       "    <tr>\n",
       "      <th>21</th>\n",
       "      <td>2004-01-22</td>\n",
       "      <td>29.359575</td>\n",
       "    </tr>\n",
       "    <tr>\n",
       "      <th>22</th>\n",
       "      <td>2004-01-23</td>\n",
       "      <td>44.669432</td>\n",
       "    </tr>\n",
       "    <tr>\n",
       "      <th>23</th>\n",
       "      <td>2004-01-24</td>\n",
       "      <td>41.100220</td>\n",
       "    </tr>\n",
       "    <tr>\n",
       "      <th>24</th>\n",
       "      <td>2004-01-25</td>\n",
       "      <td>12.488297</td>\n",
       "    </tr>\n",
       "    <tr>\n",
       "      <th>25</th>\n",
       "      <td>2004-01-26</td>\n",
       "      <td>12.296535</td>\n",
       "    </tr>\n",
       "    <tr>\n",
       "      <th>26</th>\n",
       "      <td>2004-01-27</td>\n",
       "      <td>13.262222</td>\n",
       "    </tr>\n",
       "    <tr>\n",
       "      <th>27</th>\n",
       "      <td>2004-01-28</td>\n",
       "      <td>19.335860</td>\n",
       "    </tr>\n",
       "    <tr>\n",
       "      <th>28</th>\n",
       "      <td>2004-01-29</td>\n",
       "      <td>12.257600</td>\n",
       "    </tr>\n",
       "    <tr>\n",
       "      <th>29</th>\n",
       "      <td>2004-01-30</td>\n",
       "      <td>55.535752</td>\n",
       "    </tr>\n",
       "    <tr>\n",
       "      <th>...</th>\n",
       "      <td>...</td>\n",
       "      <td>...</td>\n",
       "    </tr>\n",
       "    <tr>\n",
       "      <th>336</th>\n",
       "      <td>2004-12-02</td>\n",
       "      <td>59.985371</td>\n",
       "    </tr>\n",
       "    <tr>\n",
       "      <th>337</th>\n",
       "      <td>2004-12-03</td>\n",
       "      <td>102.283343</td>\n",
       "    </tr>\n",
       "    <tr>\n",
       "      <th>338</th>\n",
       "      <td>2004-12-04</td>\n",
       "      <td>59.738363</td>\n",
       "    </tr>\n",
       "    <tr>\n",
       "      <th>339</th>\n",
       "      <td>2004-12-05</td>\n",
       "      <td>15.448862</td>\n",
       "    </tr>\n",
       "    <tr>\n",
       "      <th>340</th>\n",
       "      <td>2004-12-06</td>\n",
       "      <td>28.339059</td>\n",
       "    </tr>\n",
       "    <tr>\n",
       "      <th>341</th>\n",
       "      <td>2004-12-07</td>\n",
       "      <td>NaN</td>\n",
       "    </tr>\n",
       "    <tr>\n",
       "      <th>342</th>\n",
       "      <td>2004-12-08</td>\n",
       "      <td>26.897356</td>\n",
       "    </tr>\n",
       "    <tr>\n",
       "      <th>343</th>\n",
       "      <td>2004-12-09</td>\n",
       "      <td>39.632695</td>\n",
       "    </tr>\n",
       "    <tr>\n",
       "      <th>344</th>\n",
       "      <td>2004-12-10</td>\n",
       "      <td>42.540319</td>\n",
       "    </tr>\n",
       "    <tr>\n",
       "      <th>345</th>\n",
       "      <td>2004-12-11</td>\n",
       "      <td>44.190637</td>\n",
       "    </tr>\n",
       "    <tr>\n",
       "      <th>346</th>\n",
       "      <td>2004-12-12</td>\n",
       "      <td>27.655322</td>\n",
       "    </tr>\n",
       "    <tr>\n",
       "      <th>347</th>\n",
       "      <td>2004-12-13</td>\n",
       "      <td>47.306003</td>\n",
       "    </tr>\n",
       "    <tr>\n",
       "      <th>348</th>\n",
       "      <td>2004-12-14</td>\n",
       "      <td>83.125170</td>\n",
       "    </tr>\n",
       "    <tr>\n",
       "      <th>349</th>\n",
       "      <td>2004-12-15</td>\n",
       "      <td>111.938600</td>\n",
       "    </tr>\n",
       "    <tr>\n",
       "      <th>350</th>\n",
       "      <td>2004-12-16</td>\n",
       "      <td>110.881184</td>\n",
       "    </tr>\n",
       "    <tr>\n",
       "      <th>351</th>\n",
       "      <td>2004-12-17</td>\n",
       "      <td>38.281456</td>\n",
       "    </tr>\n",
       "    <tr>\n",
       "      <th>352</th>\n",
       "      <td>2004-12-18</td>\n",
       "      <td>4.959712</td>\n",
       "    </tr>\n",
       "    <tr>\n",
       "      <th>353</th>\n",
       "      <td>2004-12-19</td>\n",
       "      <td>13.544204</td>\n",
       "    </tr>\n",
       "    <tr>\n",
       "      <th>354</th>\n",
       "      <td>2004-12-20</td>\n",
       "      <td>14.990538</td>\n",
       "    </tr>\n",
       "    <tr>\n",
       "      <th>355</th>\n",
       "      <td>2004-12-21</td>\n",
       "      <td>33.695279</td>\n",
       "    </tr>\n",
       "    <tr>\n",
       "      <th>356</th>\n",
       "      <td>2004-12-22</td>\n",
       "      <td>35.836067</td>\n",
       "    </tr>\n",
       "    <tr>\n",
       "      <th>357</th>\n",
       "      <td>2004-12-23</td>\n",
       "      <td>56.393998</td>\n",
       "    </tr>\n",
       "    <tr>\n",
       "      <th>358</th>\n",
       "      <td>2004-12-24</td>\n",
       "      <td>39.802456</td>\n",
       "    </tr>\n",
       "    <tr>\n",
       "      <th>359</th>\n",
       "      <td>2004-12-25</td>\n",
       "      <td>7.179366</td>\n",
       "    </tr>\n",
       "    <tr>\n",
       "      <th>360</th>\n",
       "      <td>2004-12-26</td>\n",
       "      <td>13.168661</td>\n",
       "    </tr>\n",
       "    <tr>\n",
       "      <th>361</th>\n",
       "      <td>2004-12-27</td>\n",
       "      <td>14.569705</td>\n",
       "    </tr>\n",
       "    <tr>\n",
       "      <th>362</th>\n",
       "      <td>2004-12-28</td>\n",
       "      <td>16.558807</td>\n",
       "    </tr>\n",
       "    <tr>\n",
       "      <th>363</th>\n",
       "      <td>2004-12-29</td>\n",
       "      <td>15.532010</td>\n",
       "    </tr>\n",
       "    <tr>\n",
       "      <th>364</th>\n",
       "      <td>2004-12-30</td>\n",
       "      <td>30.769743</td>\n",
       "    </tr>\n",
       "    <tr>\n",
       "      <th>365</th>\n",
       "      <td>2004-12-31</td>\n",
       "      <td>41.991282</td>\n",
       "    </tr>\n",
       "  </tbody>\n",
       "</table>\n",
       "<p>366 rows × 2 columns</p>\n",
       "</div>"
      ],
      "text/plain": [
       "           date          ad\n",
       "0    2004-01-01   11.980009\n",
       "1    2004-01-02   16.991053\n",
       "2    2004-01-03   12.320727\n",
       "3    2004-01-04   13.528027\n",
       "4    2004-01-05   47.023984\n",
       "5    2004-01-06   33.975485\n",
       "6    2004-01-07         NaN\n",
       "7    2004-01-08   43.327258\n",
       "8    2004-01-09   35.985892\n",
       "9    2004-01-10    8.609270\n",
       "10   2004-01-11   12.522913\n",
       "11   2004-01-12   14.605121\n",
       "12   2004-01-13   20.531598\n",
       "13   2004-01-14   23.757292\n",
       "14   2004-01-15    7.111102\n",
       "15   2004-01-16   10.666081\n",
       "16   2004-01-17   10.243833\n",
       "17   2004-01-18    7.921855\n",
       "18   2004-01-19   24.710557\n",
       "19   2004-01-20   53.647303\n",
       "20   2004-01-21   10.429033\n",
       "21   2004-01-22   29.359575\n",
       "22   2004-01-23   44.669432\n",
       "23   2004-01-24   41.100220\n",
       "24   2004-01-25   12.488297\n",
       "25   2004-01-26   12.296535\n",
       "26   2004-01-27   13.262222\n",
       "27   2004-01-28   19.335860\n",
       "28   2004-01-29   12.257600\n",
       "29   2004-01-30   55.535752\n",
       "..          ...         ...\n",
       "336  2004-12-02   59.985371\n",
       "337  2004-12-03  102.283343\n",
       "338  2004-12-04   59.738363\n",
       "339  2004-12-05   15.448862\n",
       "340  2004-12-06   28.339059\n",
       "341  2004-12-07         NaN\n",
       "342  2004-12-08   26.897356\n",
       "343  2004-12-09   39.632695\n",
       "344  2004-12-10   42.540319\n",
       "345  2004-12-11   44.190637\n",
       "346  2004-12-12   27.655322\n",
       "347  2004-12-13   47.306003\n",
       "348  2004-12-14   83.125170\n",
       "349  2004-12-15  111.938600\n",
       "350  2004-12-16  110.881184\n",
       "351  2004-12-17   38.281456\n",
       "352  2004-12-18    4.959712\n",
       "353  2004-12-19   13.544204\n",
       "354  2004-12-20   14.990538\n",
       "355  2004-12-21   33.695279\n",
       "356  2004-12-22   35.836067\n",
       "357  2004-12-23   56.393998\n",
       "358  2004-12-24   39.802456\n",
       "359  2004-12-25    7.179366\n",
       "360  2004-12-26   13.168661\n",
       "361  2004-12-27   14.569705\n",
       "362  2004-12-28   16.558807\n",
       "363  2004-12-29   15.532010\n",
       "364  2004-12-30   30.769743\n",
       "365  2004-12-31   41.991282\n",
       "\n",
       "[366 rows x 2 columns]"
      ]
     },
     "execution_count": 52,
     "metadata": {},
     "output_type": "execute_result"
    }
   ],
   "source": [
    "df.loc[:,['date', 'ad']]"
   ]
  },
  {
   "cell_type": "markdown",
   "metadata": {},
   "source": [
    "To see a row and column: "
   ]
  },
  {
   "cell_type": "code",
   "execution_count": 53,
   "metadata": {},
   "outputs": [
    {
     "data": {
      "text/plain": [
       "'2004-01-03'"
      ]
     },
     "execution_count": 53,
     "metadata": {},
     "output_type": "execute_result"
    }
   ],
   "source": [
    "df.loc[2,'date']"
   ]
  },
  {
   "cell_type": "markdown",
   "metadata": {},
   "source": [
    "To see a row and multiple columns:"
   ]
  },
  {
   "cell_type": "code",
   "execution_count": 54,
   "metadata": {},
   "outputs": [
    {
     "data": {
      "text/plain": [
       "date    2004-01-03\n",
       "ad         12.3207\n",
       "Name: 2, dtype: object"
      ]
     },
     "execution_count": 54,
     "metadata": {},
     "output_type": "execute_result"
    }
   ],
   "source": [
    "df.loc[2,['date', 'ad']]"
   ]
  },
  {
   "cell_type": "markdown",
   "metadata": {},
   "source": [
    "To see multiple rows and columns:"
   ]
  },
  {
   "cell_type": "code",
   "execution_count": 55,
   "metadata": {},
   "outputs": [
    {
     "data": {
      "text/html": [
       "<div>\n",
       "<style scoped>\n",
       "    .dataframe tbody tr th:only-of-type {\n",
       "        vertical-align: middle;\n",
       "    }\n",
       "\n",
       "    .dataframe tbody tr th {\n",
       "        vertical-align: top;\n",
       "    }\n",
       "\n",
       "    .dataframe thead th {\n",
       "        text-align: right;\n",
       "    }\n",
       "</style>\n",
       "<table border=\"1\" class=\"dataframe\">\n",
       "  <thead>\n",
       "    <tr style=\"text-align: right;\">\n",
       "      <th></th>\n",
       "      <th>date</th>\n",
       "      <th>ad</th>\n",
       "    </tr>\n",
       "  </thead>\n",
       "  <tbody>\n",
       "    <tr>\n",
       "      <th>2</th>\n",
       "      <td>2004-01-03</td>\n",
       "      <td>12.320727</td>\n",
       "    </tr>\n",
       "    <tr>\n",
       "      <th>4</th>\n",
       "      <td>2004-01-05</td>\n",
       "      <td>47.023984</td>\n",
       "    </tr>\n",
       "  </tbody>\n",
       "</table>\n",
       "</div>"
      ],
      "text/plain": [
       "         date         ad\n",
       "2  2004-01-03  12.320727\n",
       "4  2004-01-05  47.023984"
      ]
     },
     "execution_count": 55,
     "metadata": {},
     "output_type": "execute_result"
    }
   ],
   "source": [
    "df.loc[[2,4], ['date','ad']]"
   ]
  },
  {
   "cell_type": "markdown",
   "metadata": {},
   "source": [
    "Once you have your data in a dataframe, you can query the dataframe.  Here's how to show where 'ad' is greater than 50."
   ]
  },
  {
   "cell_type": "code",
   "execution_count": 59,
   "metadata": {},
   "outputs": [
    {
     "data": {
      "text/plain": [
       "0      False\n",
       "1      False\n",
       "2      False\n",
       "3      False\n",
       "4      False\n",
       "5      False\n",
       "6      False\n",
       "7      False\n",
       "8      False\n",
       "9      False\n",
       "10     False\n",
       "11     False\n",
       "12     False\n",
       "13     False\n",
       "14     False\n",
       "15     False\n",
       "16     False\n",
       "17     False\n",
       "18     False\n",
       "19      True\n",
       "20     False\n",
       "21     False\n",
       "22     False\n",
       "23     False\n",
       "24     False\n",
       "25     False\n",
       "26     False\n",
       "27     False\n",
       "28     False\n",
       "29      True\n",
       "       ...  \n",
       "336     True\n",
       "337     True\n",
       "338     True\n",
       "339    False\n",
       "340    False\n",
       "341    False\n",
       "342    False\n",
       "343    False\n",
       "344    False\n",
       "345    False\n",
       "346    False\n",
       "347    False\n",
       "348     True\n",
       "349     True\n",
       "350     True\n",
       "351    False\n",
       "352    False\n",
       "353    False\n",
       "354    False\n",
       "355    False\n",
       "356    False\n",
       "357     True\n",
       "358    False\n",
       "359    False\n",
       "360    False\n",
       "361    False\n",
       "362    False\n",
       "363    False\n",
       "364    False\n",
       "365    False\n",
       "Name: ad, Length: 366, dtype: bool"
      ]
     },
     "execution_count": 59,
     "metadata": {},
     "output_type": "execute_result"
    }
   ],
   "source": [
    "df['ad']>50"
   ]
  },
  {
   "cell_type": "markdown",
   "metadata": {},
   "source": [
    "## 9. Making simple plots"
   ]
  },
  {
   "cell_type": "markdown",
   "metadata": {},
   "source": [
    "Most plotting in python is done with the matplotlib library.  This was already read in with the \"magic command\" %pylab, and was given the nickname \"plt\".  So to use this library, we'll be typing \"plt\" a lot; to google information about plotting in python, you'll want to use searches like \"How to plot circles matplotlib python\".\n",
    "\n",
    "A popular strategy for making python plots is to find a feature you're interested in (for example, a bar chart) on the matplotlib thumbnail gallery:\n",
    "http://matplotlib.org/gallery.html\n",
    "Then click on it to find the code that produced it.\n",
    "\n",
    "All plots will begin with the same few lines of code:\n",
    "\n",
    "* fig=plt.figure(figsize=(10,4)) will create a new figure, with the requested size (x by y)\n",
    "\n",
    "* ax1=fig.add_subplot(111) will add an axis (called \"ax1\") to this figure.  111 means to make this axis the first on a 1x1 grid of axes. \n",
    "\n",
    "Most plots will also include these lines:\n",
    "\n",
    "* ax1.set_xlim([startx,endx])  : Set the x limits of your plot\n",
    "* ax1.set_ylim([starty,endy])  : Set the y limits of your plot\n",
    "* ax1.set_xlabel('my x label here') : Set the label for the x axis\n",
    "* ax1.set_ylabel('my y label here') : Set the label for the y axis\n",
    "* ax1.set_title('my label here') : Set a title for your plot\n",
    "* fig.savefig('myplotname.png') : Save your plot!"
   ]
  },
  {
   "cell_type": "markdown",
   "metadata": {},
   "source": [
    "Let's use our NOx dataset to see how NOx concentrations vary with time at a couple of different sites.  "
   ]
  },
  {
   "cell_type": "markdown",
   "metadata": {},
   "source": [
    "### Example plots of NOx data"
   ]
  },
  {
   "cell_type": "markdown",
   "metadata": {},
   "source": [
    "Before getting into the plotting details, we'll need to make some changes to the dates so that python can read them properly."
   ]
  },
  {
   "cell_type": "code",
   "execution_count": 60,
   "metadata": {
    "collapsed": true
   },
   "outputs": [],
   "source": [
    "from datetime import datetime\n",
    "\n",
    "#Here, we'll convert the dates in the data frame to a special python \"datetime\" format.\n",
    "time_format = '%Y-%m-%d'\n",
    "time = [datetime.strptime(i,time_format ) for i in df['date']]"
   ]
  },
  {
   "cell_type": "markdown",
   "metadata": {},
   "source": [
    "Here's an example scatter plot showing the data for locations 'ad' and 'ba'."
   ]
  },
  {
   "cell_type": "code",
   "execution_count": 61,
   "metadata": {},
   "outputs": [
    {
     "data": {
      "image/png": "[encoded data removed]",
      "text/plain": [
       "<Figure size 1200x400 with 1 Axes>"
      ]
     },
     "metadata": {},
     "output_type": "display_data"
    }
   ],
   "source": [
    "fig=plt.figure(figsize=(12,4))\n",
    "ax1=fig.add_subplot(111)\n",
    "\n",
    "#Here we'll extract data from the pandas dataframe and assign it to the variables x,\n",
    "#y1 and y2\n",
    "x = time\n",
    "y1=df['ad']\n",
    "y2=df['ba']\n",
    "\n",
    "ax1.plot(x,y1, 'ro', label='ad')   #We can make this a scatter plot by specifying 'r' (red) and 'o' (circles)\n",
    "ax1.plot(x,y1, 'r')   #By default, python will plot a line connecting all (x,y) points\n",
    "#Notice that if we use multiple plot commands, python will put all of the plots on top of\n",
    "#each other!\n",
    "\n",
    "ax1.plot(x,y2, 'bo', label='ba')   #We can make this a scatter plot by specifying 'r' (red) and 'o' (circles)\n",
    "ax1.plot(x,y2, 'b')   #By default, python will plot a line connecting all (x,y) points\n",
    "#Notice that if we use multiple plot commands, python will put all of the plots on top of\n",
    "#each other!\n",
    "\n",
    "ax1.set_xlabel('Date')\n",
    "ax1.set_ylabel('NOx concentration [ppb]')\n",
    "ax1.set_title('Daily average NOx concentrations in Switzerland')\n",
    "\n",
    "#Use this command to create a legend\n",
    "ax1.legend()\n",
    "\n",
    "#Use this command to save your plot in png format\n",
    "fig.savefig('NOx_plot1.png')"
   ]
  },
  {
   "cell_type": "markdown",
   "metadata": {},
   "source": [
    "**Try it**: Try making your own plot.  Copy the code above into a new cell, then modify the code to plot the NOx concentrations in the 'ef' and 'la' regions.  Make the symbols stars instead of circles, and connect them with dotted lines.  "
   ]
  },
  {
   "cell_type": "markdown",
   "metadata": {},
   "source": [
    "## 10. Simple statistical calculations"
   ]
  },
  {
   "cell_type": "markdown",
   "metadata": {},
   "source": [
    "We can also use our dataset to perform some simple statistical tests and calculations."
   ]
  },
  {
   "cell_type": "markdown",
   "metadata": {},
   "source": [
    "### Correlation coefficient (Pearson's r)"
   ]
  },
  {
   "cell_type": "markdown",
   "metadata": {},
   "source": [
    "The correlation coefficient (also known as Pearson's r) is a way to measure the strength of the relationship between two variables. Using the pearsonr routine in the scipy.stats.stats library, we can test whether the NOx concentrations in the 'ad' and 'ba' regions are correlated."
   ]
  },
  {
   "cell_type": "code",
   "execution_count": 62,
   "metadata": {},
   "outputs": [
    {
     "name": "stdout",
     "output_type": "stream",
     "text": [
      "(0.73369469144761934, 1.0848759351714905e-59)\n"
     ]
    }
   ],
   "source": [
    "from scipy.stats.stats import pearsonr\n",
    "\n",
    "fins=np.logical_and(np.isfinite(y1), np.isfinite(y2)) #This line will let us remove some missing datapoints\n",
    "corr = pearsonr(y1[fins], y2[fins]) #Returns Pearson correlation coefficient, p-value for non-correlation\n",
    "print(corr)   "
   ]
  },
  {
   "cell_type": "markdown",
   "metadata": {},
   "source": [
    "The high correlation coefficient and low p-value tell us that these two variables are highly correlated.  Let's look at it further by performing linear regression."
   ]
  },
  {
   "cell_type": "markdown",
   "metadata": {},
   "source": [
    "### Linear regression (a.k.a., fitting a line)"
   ]
  },
  {
   "cell_type": "code",
   "execution_count": 63,
   "metadata": {},
   "outputs": [
    {
     "data": {
      "text/plain": [
       "Text(2, 10, 'p = 1.08487593517e-59')"
      ]
     },
     "execution_count": 63,
     "metadata": {},
     "output_type": "execute_result"
    },
    {
     "data": {
      "image/png": "[encoded data removed]",
      "text/plain": [
       "<Figure size 800x400 with 1 Axes>"
      ]
     },
     "metadata": {},
     "output_type": "display_data"
    }
   ],
   "source": [
    "from scipy import stats\n",
    "\n",
    "fig=plt.figure(figsize=(8,4))\n",
    "\n",
    "#Here, I'll perform linear regression using the stats.linregress routine\n",
    "slope, intercept, r_value, p_value, std_err = stats.linregress(y1[fins],y2[fins])\n",
    "\n",
    "#Then, I'll make a scatter plot of the data and plot the best-fit line on top\n",
    "ax1=fig.add_subplot(111)\n",
    "ax1.plot(y1,y2,'.')\n",
    "ax1.plot(y1,y1*slope+intercept)\n",
    "ax1.text(2,10,'p = '+str(p_value))"
   ]
  },
  {
   "cell_type": "markdown",
   "metadata": {},
   "source": [
    "**Try it:** Fit a line to the 'ef' and 'la' data and plot the line and data.  Make the line green, and data blue.  Given the p value, are the data correlated?"
   ]
  },
  {
   "cell_type": "markdown",
   "metadata": {},
   "source": [
    "### t-test.  We can perform a simple t-test to see if two datasets have the same mean."
   ]
  },
  {
   "cell_type": "code",
   "execution_count": 64,
   "metadata": {},
   "outputs": [
    {
     "name": "stdout",
     "output_type": "stream",
     "text": [
      "Two sample t-statistic:  2.55744346812\n",
      "Two sample p-value:  0.0107571502115\n",
      " \n"
     ]
    }
   ],
   "source": [
    "from scipy import stats\n",
    "\n",
    "#Two sided t-test to compare two samples.  Null hypothesis = they have the same mean.\n",
    "twosample_results = stats.ttest_ind(y1[fins], y2[fins])\n",
    "\n",
    "print(\"Two sample t-statistic: \", twosample_results.statistic)\n",
    "print(\"Two sample p-value: \", twosample_results.pvalue)\n",
    "print(' ')"
   ]
  },
  {
   "cell_type": "markdown",
   "metadata": {
    "collapsed": true
   },
   "source": [
    "Based on this p-value, we reject the null hypothesis and conclude that the two population means are different at the 0.01 significance level."
   ]
  },
  {
   "cell_type": "code",
   "execution_count": null,
   "metadata": {
    "collapsed": true
   },
   "outputs": [],
   "source": []
  }
 ],
 "metadata": {
  "kernelspec": {
   "display_name": "Python 3",
   "language": "python",
   "name": "python3"
  },
  "language_info": {
   "codemirror_mode": {
    "name": "ipython",
    "version": 3
   },
   "file_extension": ".py",
   "mimetype": "text/x-python",
   "name": "python",
   "nbconvert_exporter": "python",
   "pygments_lexer": "ipython3",
   "version": "3.5.6"
  }
 },
 "nbformat": 4,
 "nbformat_minor": 2
}
